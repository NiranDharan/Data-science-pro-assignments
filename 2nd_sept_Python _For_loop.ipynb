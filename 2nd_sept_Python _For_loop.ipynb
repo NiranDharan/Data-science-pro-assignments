{
 "cells": [
  {
   "cell_type": "markdown",
   "id": "92a5b585-3c07-4c60-848f-5f3829c2865b",
   "metadata": {},
   "source": [
    "## Basic Level:"
   ]
  },
  {
   "cell_type": "markdown",
   "id": "1b4f3d21-cef6-469c-9057-93c04d60f02c",
   "metadata": {},
   "source": [
    "### 1. Write a Python program to print the numbers from 1 to 10 using a `for` loop.\n"
   ]
  },
  {
   "cell_type": "code",
   "execution_count": 4,
   "id": "25854cb9-4dfa-420f-822c-4c6aee4046ba",
   "metadata": {},
   "outputs": [
    {
     "name": "stdout",
     "output_type": "stream",
     "text": [
      "1 2 3 4 5 6 7 8 9 10 "
     ]
    }
   ],
   "source": [
    "for x in range(1,11):\n",
    "    print(x,end=' ')"
   ]
  },
  {
   "cell_type": "markdown",
   "id": "493dba06-4f94-4b0e-8cc8-36cb338b3b60",
   "metadata": {},
   "source": [
    "### 2. Create a program that calculates the sum of all numbers in a list using a `for` loop."
   ]
  },
  {
   "cell_type": "code",
   "execution_count": 36,
   "id": "dcb2ec6e-d9a5-4ea6-89f9-aa17bfab935f",
   "metadata": {},
   "outputs": [
    {
     "name": "stdout",
     "output_type": "stream",
     "text": [
      "sum of all numbers in a list : 15\n"
     ]
    }
   ],
   "source": [
    "lst=[1,2,3,4,5]\n",
    "total=0\n",
    "for x in range(0,len(lst)):\n",
    "    total= total + lst[x]\n",
    "print('sum of all numbers in a list :',total)"
   ]
  },
  {
   "cell_type": "markdown",
   "id": "0c0e8e5f-a26f-4cbe-ba07-e1414dae04c8",
   "metadata": {},
   "source": [
    "### 3. Write a program to print the characters of a string in reverse order using a `for` loop."
   ]
  },
  {
   "cell_type": "code",
   "execution_count": 57,
   "id": "c8c3736a-ff31-4fdf-8ddd-b5b89f08431d",
   "metadata": {},
   "outputs": [
    {
     "name": "stdout",
     "output_type": "stream",
     "text": [
      "e s r e v e r "
     ]
    }
   ],
   "source": [
    "str='reverse'\n",
    "lst=[*str]\n",
    "for x in lst[::-1]:\n",
    "    print(x,end=' ')"
   ]
  },
  {
   "cell_type": "markdown",
   "id": "2dd03894-f872-41d7-9a4d-646bb09ce923",
   "metadata": {},
   "source": [
    "### 4. Develop a program that finds the factorial of a given number using a `for` loop.\n"
   ]
  },
  {
   "cell_type": "code",
   "execution_count": 63,
   "id": "ee6695df-07e9-4f9c-ab07-00e8dd48995c",
   "metadata": {},
   "outputs": [
    {
     "name": "stdin",
     "output_type": "stream",
     "text": [
      " 7\n"
     ]
    },
    {
     "name": "stdout",
     "output_type": "stream",
     "text": [
      "The factorial of 7 is 5040\n"
     ]
    }
   ],
   "source": [
    "num=int(input())\n",
    "factorial=1\n",
    "for x in range(1,num + 1):\n",
    "    factorial = factorial*x\n",
    "print(\"The factorial of\",num,\"is\",factorial)"
   ]
  },
  {
   "cell_type": "markdown",
   "id": "e4e4eb5e-04c8-41b1-8c54-ce1bf389bb4a",
   "metadata": {},
   "source": [
    "### 5. Create a program to print the multiplication table of a given number using a `for` loop.\n"
   ]
  },
  {
   "cell_type": "code",
   "execution_count": 72,
   "id": "76d24ce0-36c2-491b-9abd-c91fa01caaf4",
   "metadata": {},
   "outputs": [
    {
     "name": "stdin",
     "output_type": "stream",
     "text": [
      " 5\n"
     ]
    }
   ],
   "source": [
    "num=int(input())\n",
    "multi=1"
   ]
  },
  {
   "cell_type": "code",
   "execution_count": 73,
   "id": "7d0d3d28-e77c-4f60-ad0b-a69f1b4e9765",
   "metadata": {},
   "outputs": [
    {
     "name": "stdout",
     "output_type": "stream",
     "text": [
      "1 * 5 = 5\n",
      "2 * 5 = 10\n",
      "3 * 5 = 15\n",
      "4 * 5 = 20\n",
      "5 * 5 = 25\n",
      "6 * 5 = 30\n",
      "7 * 5 = 35\n",
      "8 * 5 = 40\n",
      "9 * 5 = 45\n",
      "10 * 5 = 50\n"
     ]
    }
   ],
   "source": [
    "for x in range(1,11):\n",
    "    print(x,'*',num,'=',x*num)"
   ]
  },
  {
   "cell_type": "markdown",
   "id": "8760a0de-1d60-4811-9570-2202d3029b94",
   "metadata": {},
   "source": [
    "### 6. Write a program that counts the number of even and odd numbers in a list using a `for` loop."
   ]
  },
  {
   "cell_type": "code",
   "execution_count": 90,
   "id": "36ce7583-511b-4079-9015-88699592596f",
   "metadata": {},
   "outputs": [
    {
     "name": "stdout",
     "output_type": "stream",
     "text": [
      "number of even numbers : 4\n",
      "number of odd numbers  : 3\n"
     ]
    }
   ],
   "source": [
    "lst=[2,3,5,7,4,8,10]\n",
    "x=0\n",
    "y=0\n",
    "for i in lst:\n",
    "    if i%2==0:\n",
    "        x=x+1\n",
    "    else:\n",
    "        y=y+1\n",
    "print('number of even numbers :',x)\n",
    "print('number of odd numbers  :',y)"
   ]
  },
  {
   "cell_type": "markdown",
   "id": "970a92c6-826b-4b73-b8c1-a607d985576d",
   "metadata": {},
   "source": [
    "### 7. Develop a program that prints the squares of numbers from 1 to 5 using a `for` loop."
   ]
  },
  {
   "cell_type": "code",
   "execution_count": 97,
   "id": "abde2388-8e3a-41fa-b607-5ff0530b7090",
   "metadata": {},
   "outputs": [
    {
     "data": {
      "text/plain": [
       "[1, 4, 9, 16, 25]"
      ]
     },
     "execution_count": 97,
     "metadata": {},
     "output_type": "execute_result"
    }
   ],
   "source": [
    "lst=[]\n",
    "for x in range(1,6):\n",
    "    lst.append(x*x)\n",
    "lst"
   ]
  },
  {
   "cell_type": "markdown",
   "id": "c8429048-4bf6-48c6-ae4b-09728f6af91f",
   "metadata": {},
   "source": [
    "### 8. Create a program to find the length of a string without using the `len()` function."
   ]
  },
  {
   "cell_type": "code",
   "execution_count": 106,
   "id": "43174c31-05b7-4bc3-a73c-6fd828cc3b25",
   "metadata": {},
   "outputs": [
    {
     "name": "stdout",
     "output_type": "stream",
     "text": [
      "7\n"
     ]
    }
   ],
   "source": [
    "str='without'\n",
    "x=0\n",
    "for i in str:\n",
    "    x=x+1\n",
    "print(x)"
   ]
  },
  {
   "cell_type": "markdown",
   "id": "f798389c-91dd-4533-b4a1-884949ebdfc1",
   "metadata": {},
   "source": [
    "### 9. Write a program that calculates the average of a list of numbers using a `for` loop."
   ]
  },
  {
   "cell_type": "code",
   "execution_count": 116,
   "id": "dfc324b6-5abf-449f-8ace-8c8d2492ed8d",
   "metadata": {},
   "outputs": [
    {
     "name": "stdout",
     "output_type": "stream",
     "text": [
      "average of list of numbers in list : 3.0\n"
     ]
    }
   ],
   "source": [
    "lst=[1,2,3,4,5]\n",
    "x=0\n",
    "for i in range(0,len(lst)):\n",
    "    x=x+lst[i]\n",
    "print('average of list of numbers in list :',x/len(lst))"
   ]
  },
  {
   "cell_type": "markdown",
   "id": "b5adce7b-2e85-4c8f-8948-16c2bbd4c99b",
   "metadata": {},
   "source": [
    "### 10. Develop a program that prints the first `n` Fibonacci numbers using a `for` loop."
   ]
  },
  {
   "cell_type": "code",
   "execution_count": 18,
   "id": "349e53ac-e0d0-4178-8aa3-0275ea689b3a",
   "metadata": {},
   "outputs": [
    {
     "data": {
      "text/plain": [
       "[0, 1, 1, 2, 3]"
      ]
     },
     "execution_count": 18,
     "metadata": {},
     "output_type": "execute_result"
    }
   ],
   "source": [
    "def fibonacci(n):\n",
    "    fibo = [0,1]\n",
    "    for i in range(2,n):\n",
    "        next_fibo = fibo[i-1] + fibo[i-2]\n",
    "        fibo.append(next_fibo)\n",
    "    return fibo\n",
    "fibonacci(5)"
   ]
  },
  {
   "cell_type": "markdown",
   "id": "9d0eca23-6159-43d3-ac2d-184c00253acd",
   "metadata": {},
   "source": [
    "## Intermediate Level:"
   ]
  },
  {
   "cell_type": "markdown",
   "id": "00416767-0109-4c05-b2f7-21c6858cca5d",
   "metadata": {},
   "source": [
    "### 11. Write a program to check if a given list contains any duplicates using a `for` loop."
   ]
  },
  {
   "cell_type": "code",
   "execution_count": 13,
   "id": "13a71369-2e16-4a0f-9281-598cd0541bc7",
   "metadata": {},
   "outputs": [
    {
     "name": "stdout",
     "output_type": "stream",
     "text": [
      "There is no duplicate values in the list\n"
     ]
    }
   ],
   "source": [
    "lst = [1,2,3,4,5,6,7]\n",
    "\n",
    "new = set()\n",
    "\n",
    "for i in lst:\n",
    "    if i in new:\n",
    "        print('The list contains duplicate values')\n",
    "        break\n",
    "    new.add(i)\n",
    "\n",
    "else:\n",
    "    print('There is no duplicate values in the list')"
   ]
  },
  {
   "cell_type": "markdown",
   "id": "926ceb90-a6f8-4420-be9b-5afeb18c0838",
   "metadata": {},
   "source": [
    "### 12. Create a program that prints the prime numbers in a given range using a `for` loop."
   ]
  },
  {
   "cell_type": "code",
   "execution_count": 16,
   "id": "6ba4116e-6ea1-4268-b563-b3c15115f85c",
   "metadata": {},
   "outputs": [
    {
     "name": "stdout",
     "output_type": "stream",
     "text": [
      "2 3 5 7 11 13 17 19 "
     ]
    }
   ],
   "source": [
    "x=20\n",
    "def is_prime(n):\n",
    "    if n <= 1:\n",
    "        return False\n",
    "    for i in range(2, n):\n",
    "        if n % i == 0:\n",
    "            return False\n",
    "    return True\n",
    "\n",
    "for i in range(1,x):\n",
    "    if is_prime(i):\n",
    "        print(i,end=' ')"
   ]
  },
  {
   "cell_type": "markdown",
   "id": "59660ffe-8127-4498-b3c9-b05497f35a02",
   "metadata": {},
   "source": [
    "### 13. Develop a program that counts the number of vowels in a string using a `for` loop."
   ]
  },
  {
   "cell_type": "code",
   "execution_count": 93,
   "id": "b4b91707-5755-4a72-9372-05d88eaaa9e6",
   "metadata": {},
   "outputs": [
    {
     "name": "stdout",
     "output_type": "stream",
     "text": [
      "6\n"
     ]
    }
   ],
   "source": [
    "string='Develop a program'\n",
    "vowels='aeiouAEIOU'\n",
    "x=0\n",
    "for i in string:\n",
    "    if i in vowels:\n",
    "        x=x+1\n",
    "print(x)"
   ]
  },
  {
   "cell_type": "markdown",
   "id": "9048dc44-3458-41d9-b5d4-1092a78c0d3e",
   "metadata": {},
   "source": [
    "### 14. Write a program to find the maximum element in a 2D list using a nested `for` loop."
   ]
  },
  {
   "cell_type": "code",
   "execution_count": 12,
   "id": "b5f4e616-df4c-464e-abfb-de3d3cfd8ae3",
   "metadata": {},
   "outputs": [
    {
     "name": "stdout",
     "output_type": "stream",
     "text": [
      "87\n"
     ]
    }
   ],
   "source": [
    "lst = [[10,33,12,45,75,2,56,78,23,87]]\n",
    "\n",
    "maximum = max([j for i in lst for j in i])\n",
    "\n",
    "print(maximum)"
   ]
  },
  {
   "cell_type": "markdown",
   "id": "81d658e7-b9d1-45bb-8322-f3158125f716",
   "metadata": {},
   "source": [
    "### 15. Create a program that removes all occurrences of a specific element from a list using a `for` loop."
   ]
  },
  {
   "cell_type": "code",
   "execution_count": 107,
   "id": "8c1d4955-b366-4fc4-9ff8-0802995be8e1",
   "metadata": {},
   "outputs": [
    {
     "name": "stdout",
     "output_type": "stream",
     "text": [
      "[3, 4, 6, 7, 4, 6, 8, 9]\n"
     ]
    }
   ],
   "source": [
    "lst=[2,3,4,6,7,2,4,6,8,9]\n",
    "x=2\n",
    "lst=[i for i in lst if i!=x]\n",
    "print(lst)"
   ]
  },
  {
   "cell_type": "markdown",
   "id": "491be72c-94db-4445-aff0-fedfdad7d103",
   "metadata": {},
   "source": [
    "### 16. Develop a program that generates a multiplication table for numbers from 1 to 5 using a nested `for` loop."
   ]
  },
  {
   "cell_type": "code",
   "execution_count": 126,
   "id": "440ba6c7-379e-4660-a200-6d6ca40a94c0",
   "metadata": {},
   "outputs": [
    {
     "name": "stdout",
     "output_type": "stream",
     "text": [
      "1 * 2 = 2\n",
      "2 * 2 = 4\n",
      "3 * 2 = 6\n",
      "4 * 2 = 8\n",
      "5 * 2 = 10\n",
      "6 * 2 = 12\n",
      "7 * 2 = 14\n",
      "8 * 2 = 16\n",
      "9 * 2 = 18\n"
     ]
    }
   ],
   "source": [
    "number=2\n",
    "for i in range(1,10):\n",
    "    for j in range(number,number+1):\n",
    "        print(i,'*',j,'=',i*j)"
   ]
  },
  {
   "cell_type": "markdown",
   "id": "7382d178-1ffd-4a91-8886-6363d8ec46b1",
   "metadata": {},
   "source": [
    "### 17. Write a program that converts a list of Fahrenheit temperatures to Celsius using a `for` loop."
   ]
  },
  {
   "cell_type": "code",
   "execution_count": 5,
   "id": "8d5b4989-3820-4d60-ab14-335040ba195d",
   "metadata": {},
   "outputs": [
    {
     "name": "stdout",
     "output_type": "stream",
     "text": [
      "37.77777777777778\n"
     ]
    }
   ],
   "source": [
    "f=[100]\n",
    "for i in f:\n",
    "    c=(i-32)*5/9\n",
    "print(c)"
   ]
  },
  {
   "cell_type": "markdown",
   "id": "b45f97d8-54d9-4f1f-8184-c2124b5d2045",
   "metadata": {},
   "source": [
    "### 18. Create a program to print the common elements from two lists using a `for` loop."
   ]
  },
  {
   "cell_type": "code",
   "execution_count": 9,
   "id": "945d402c-04be-4f60-8a9e-c0a04e1eb701",
   "metadata": {},
   "outputs": [
    {
     "name": "stdout",
     "output_type": "stream",
     "text": [
      "4,5,6,"
     ]
    }
   ],
   "source": [
    "lst1=[1,2,3,4,5,6]\n",
    "lst2=[4,5,6,7,8,9]\n",
    "for i in lst1:\n",
    "    if i in lst2:\n",
    "        print(i,end=',')"
   ]
  },
  {
   "cell_type": "markdown",
   "id": "34f9635c-9f4d-419b-a888-775743f8da4f",
   "metadata": {},
   "source": [
    "### 19. Develop a program that prints the pattern of right-angled triangles using a `for` loop. Use ‘*’ to draw the pattern\n"
   ]
  },
  {
   "cell_type": "code",
   "execution_count": 19,
   "id": "285d52d6-e239-4981-aa46-373618e22090",
   "metadata": {},
   "outputs": [
    {
     "name": "stdout",
     "output_type": "stream",
     "text": [
      "*\n",
      "**\n",
      "***\n",
      "****\n",
      "*****\n"
     ]
    }
   ],
   "source": [
    "for i in range(1,6):\n",
    "    for j in range(1,i+1):\n",
    "        print('*',end='')\n",
    "    print()"
   ]
  },
  {
   "cell_type": "markdown",
   "id": "9aacb4a7-3d2b-43dd-937b-a0d884b0cd2f",
   "metadata": {},
   "source": [
    "### 20. Write a program to find the greatest common divisor (GCD) of two numbers using a `for` loop.\n",
    "\n",
    "\n",
    "\n"
   ]
  },
  {
   "cell_type": "code",
   "execution_count": 23,
   "id": "bbd3c211-d405-474b-be48-ba360ac08ed9",
   "metadata": {},
   "outputs": [
    {
     "name": "stdout",
     "output_type": "stream",
     "text": [
      "36\n",
      "GCD of 36 and 60 is 12\n"
     ]
    }
   ],
   "source": [
    "x = 36\n",
    "y = 60\n",
    "gcd = 1\n",
    "print(min(x,y))\n",
    "for i in range(1, min(x, y)):\n",
    "    if x % i == 0 and y % i == 0:\n",
    "        gcd = i\n",
    "print(\"GCD of\", x, \"and\", y, \"is\", gcd)"
   ]
  },
  {
   "cell_type": "markdown",
   "id": "ac045f5d-7c20-48ab-a58f-bf85b67cf527",
   "metadata": {},
   "source": [
    "## Advanced Level:\n"
   ]
  },
  {
   "cell_type": "markdown",
   "id": "62498ef3-030a-473a-9836-14ea1a19062b",
   "metadata": {},
   "source": [
    "### 21. Create a program that calculates the sum of the digits of numbers in a list using a list comprehension."
   ]
  },
  {
   "cell_type": "code",
   "execution_count": 7,
   "id": "dc6df19c-4819-4f74-a303-436994505dfb",
   "metadata": {},
   "outputs": [
    {
     "data": {
      "text/plain": [
       "[15]"
      ]
     },
     "execution_count": 7,
     "metadata": {},
     "output_type": "execute_result"
    }
   ],
   "source": [
    "lst=[1,2,3,4,5]\n",
    "x=0\n",
    "for i in lst:\n",
    "    x=x+i\n",
    "    lst=[x]\n",
    "lst"
   ]
  },
  {
   "cell_type": "markdown",
   "id": "28d2c20e-ec01-4c0f-91f8-7827833fffce",
   "metadata": {},
   "source": [
    "### 22. Write a program to find the prime factors of a given number using a `for` loop and list comprehension.\n"
   ]
  },
  {
   "cell_type": "code",
   "execution_count": 11,
   "id": "f82a9855-f6d6-42ba-b16f-bc4b7eba591d",
   "metadata": {},
   "outputs": [
    {
     "name": "stdout",
     "output_type": "stream",
     "text": [
      "1 2 5 "
     ]
    }
   ],
   "source": [
    "def prime_factors(n):\n",
    "    for i in range(1, n+1):\n",
    "        if n % i == 0:\n",
    "            flag =0\n",
    "            for j in range(2,i):\n",
    "                if i%j == 0:\n",
    "                    flag = 1\n",
    "                    break\n",
    "            if flag == 0:\n",
    "                print(i, end=' ')\n",
    "                \n",
    "prime_factors(10)"
   ]
  },
  {
   "cell_type": "markdown",
   "id": "70c3d80a-cb5c-42f0-80eb-ac3c31e1e3b2",
   "metadata": {},
   "source": [
    "### 23. Develop a program that extracts unique elements from a list and stores them in a new list using a list comprehension.\n"
   ]
  },
  {
   "cell_type": "code",
   "execution_count": 24,
   "id": "5ba269d8-7f71-4432-8380-eb0cfa7ac3ba",
   "metadata": {},
   "outputs": [
    {
     "data": {
      "text/plain": [
       "[1, 2, 3, 4, 5, 6, 7]"
      ]
     },
     "execution_count": 24,
     "metadata": {},
     "output_type": "execute_result"
    }
   ],
   "source": [
    "lst=[1,1,2,3,4,5,6,6,7]\n",
    "lst1=list(set(lst))\n",
    "lst=[x for x in lst1]\n",
    "lst"
   ]
  },
  {
   "cell_type": "markdown",
   "id": "e4d2166a-5446-4447-82c5-01c7f1689e9b",
   "metadata": {},
   "source": [
    "### 24. Create a program that generates a list of all palindromic numbers up to a specified limit using a list comprehension.\n"
   ]
  },
  {
   "cell_type": "code",
   "execution_count": 53,
   "id": "e1ed5966-f3ab-47b6-9a51-2981839f595d",
   "metadata": {},
   "outputs": [
    {
     "data": {
      "text/plain": [
       "[1, 2, 3, 4, 5, 6, 7, 8, 9, 11, 22, 33, 44, 55, 66, 77, 88, 99]"
      ]
     },
     "execution_count": 53,
     "metadata": {},
     "output_type": "execute_result"
    }
   ],
   "source": [
    "x=100\n",
    "lst=[]\n",
    "for i in range(1,x+1):\n",
    "    if i == int(str(i)[::-1]):\n",
    "        lst.append(i)\n",
    "lst"
   ]
  },
  {
   "cell_type": "markdown",
   "id": "8b8e418f-ca05-420c-a4cf-d54841f5565e",
   "metadata": {},
   "source": [
    "### 25. Write a program to flatten a nested list using list comprehension."
   ]
  },
  {
   "cell_type": "code",
   "execution_count": 22,
   "id": "f3108366-26fe-480a-8a92-dbbe8d9bed27",
   "metadata": {},
   "outputs": [
    {
     "data": {
      "text/plain": [
       "[1, 2, 3, 4, 5, 6, 7, 8, 9]"
      ]
     },
     "execution_count": 22,
     "metadata": {},
     "output_type": "execute_result"
    }
   ],
   "source": [
    "lst=[[1,2,3],[4,5,6],[7,8,9]]\n",
    "\n",
    "lst=[x for x in lst for x in x]\n",
    "\n",
    "lst"
   ]
  },
  {
   "cell_type": "markdown",
   "id": "58f9ccbd-d27a-4150-a052-964d04d75065",
   "metadata": {},
   "source": [
    "### 26. Develop a program that computes the sum of even and odd numbers in a list separately using list comprehension"
   ]
  },
  {
   "cell_type": "code",
   "execution_count": 28,
   "id": "7426637a-2e34-40b1-9828-c22f4d7cc588",
   "metadata": {},
   "outputs": [
    {
     "data": {
      "text/plain": [
       "[30, 18]"
      ]
     },
     "execution_count": 28,
     "metadata": {},
     "output_type": "execute_result"
    }
   ],
   "source": [
    "lst=[2,3,4,5,6,7,8,9,10]\n",
    "lst=[sum(x for x in range(1,11) if x%2==0),sum(x for x in range(1,11) if x%3==0)]\n",
    "lst"
   ]
  },
  {
   "cell_type": "markdown",
   "id": "80198458-533e-4a5e-9125-2d33f920f924",
   "metadata": {},
   "source": [
    "### 27. Create a program that generates a list of squares of odd numbers between 1 and 10 using list comprehension.\n"
   ]
  },
  {
   "cell_type": "code",
   "execution_count": 60,
   "id": "941b6993-cfa5-4f9c-8c41-995f393ed618",
   "metadata": {},
   "outputs": [
    {
     "data": {
      "text/plain": [
       "[9, 36, 81]"
      ]
     },
     "execution_count": 60,
     "metadata": {},
     "output_type": "execute_result"
    }
   ],
   "source": [
    "lst=[x*x for x in range(1,11) if x%3==0]\n",
    "lst"
   ]
  },
  {
   "cell_type": "markdown",
   "id": "bc515ecb-304c-45b1-8cc7-b970eb332ddc",
   "metadata": {},
   "source": [
    "### 28. Write a program that combines two lists into a dictionary using list comprehension."
   ]
  },
  {
   "cell_type": "code",
   "execution_count": 10,
   "id": "a8208d9c-d38a-41c3-a098-ea79cff61e4a",
   "metadata": {},
   "outputs": [
    {
     "name": "stdout",
     "output_type": "stream",
     "text": [
      "[(1, 4), (2, 5), (3, 6)]\n"
     ]
    }
   ],
   "source": [
    "lst1 = [1,2,3]\n",
    "lst2 = [4,5,6]\n",
    "\n",
    "new = [(i,j) for i, j in zip(lst1, lst2)]\n",
    "            \n",
    "print(new)"
   ]
  },
  {
   "cell_type": "markdown",
   "id": "872127ff-5449-401a-a5c6-1570f8736db5",
   "metadata": {},
   "source": [
    "### 29. Develop a program that extracts the vowels from a string and stores them in a list using list comprehension."
   ]
  },
  {
   "cell_type": "code",
   "execution_count": 98,
   "id": "1b9c531c-72e4-4c86-983f-70a602025874",
   "metadata": {},
   "outputs": [
    {
     "data": {
      "text/plain": [
       "['e', 'e', 'o', 'a', 'o', 'a', 'a', 'e', 'a', 'e', 'o', 'e', 'o', 'a', 'i']"
      ]
     },
     "execution_count": 98,
     "metadata": {},
     "output_type": "execute_result"
    }
   ],
   "source": [
    "lst='Develop a program that extracts the vowels from a string'\n",
    "vowels=['a', 'e', 'i', 'o', 'u', 'A', 'E', 'I', 'O', 'U']\n",
    "lst=[x for x in lst if x in vowels]\n",
    "lst"
   ]
  },
  {
   "cell_type": "markdown",
   "id": "f8d7ea6d-1a35-4ebb-a283-ba55fd98054f",
   "metadata": {},
   "source": [
    "### 30. Create a program that removes all non-numeric characters from a list of strings using list comprehension."
   ]
  },
  {
   "cell_type": "code",
   "execution_count": 103,
   "id": "f609556a-c781-498a-a9e2-19793639d04f",
   "metadata": {},
   "outputs": [
    {
     "data": {
      "text/plain": [
       "['20', '10']"
      ]
     },
     "execution_count": 103,
     "metadata": {},
     "output_type": "execute_result"
    }
   ],
   "source": [
    "lst=['Create', '20','program', 'that', 'removes', 'all','10', 'non-numeric', 'characters']\n",
    "lst=[x for x in lst if x.isnumeric()]\n",
    "lst"
   ]
  },
  {
   "cell_type": "markdown",
   "id": "84231c2d-49c8-42e5-af42-85142f8a65be",
   "metadata": {},
   "source": [
    "## Challenge Level:\n"
   ]
  },
  {
   "cell_type": "markdown",
   "id": "36d26308-6859-42bf-ab64-4300610fba7d",
   "metadata": {},
   "source": [
    "### 31. Write a program to generate a list of prime numbers using the Sieve of Eratosthenes algorithm and list comprehension.\n"
   ]
  },
  {
   "cell_type": "code",
   "execution_count": 8,
   "id": "76abed26-4356-4c5d-b73f-67ae75bba9d7",
   "metadata": {},
   "outputs": [
    {
     "name": "stdout",
     "output_type": "stream",
     "text": [
      "[2, 3, 5, 7, 11, 13, 17, 19, 23, 29, 31, 37, 41, 43, 47]\n"
     ]
    }
   ],
   "source": [
    "def prime(n):\n",
    "    if n <2:\n",
    "        return False\n",
    "    for i in range(2, int(n**0.5) +1):\n",
    "        if n % i == 0:\n",
    "            return False\n",
    "    return True\n",
    "\n",
    "size = 50\n",
    "\n",
    "prime_numbers = [i for i in range(2, size+1) if prime(i)]\n",
    "\n",
    "print(prime_numbers)"
   ]
  },
  {
   "cell_type": "markdown",
   "id": "76991a46-1fe6-4283-a79f-620c561d2993",
   "metadata": {},
   "source": [
    "### 32. Create a program that generates a list of all Pythagorean triplets up to a specified limit using list comprehension.\n"
   ]
  },
  {
   "cell_type": "code",
   "execution_count": 9,
   "id": "67946ed1-2351-4856-959e-6edd48c6b169",
   "metadata": {},
   "outputs": [
    {
     "name": "stdout",
     "output_type": "stream",
     "text": [
      "[(1, 1, 1), (1, 2, 2), (2, 2, 2)]\n"
     ]
    }
   ],
   "source": [
    "def find_pythagorean_triplets(limit):\n",
    "    triplets = [(a, b, int((a**2 + b**2)**0.5)) for a in range(1, limit+1) for b in range(a, limit+1) if (a**2 + b**2)**0.5 <= limit and (a**2 + b**2)**0.5.is_integer()]\n",
    "    return triplets\n",
    "\n",
    "limit = 3\n",
    "triplets = find_pythagorean_triplets(limit)\n",
    "print(triplets)"
   ]
  },
  {
   "cell_type": "markdown",
   "id": "1986a0e7-9155-4c6f-8c3b-ca9a9698b8b9",
   "metadata": {},
   "source": [
    "### 33. Develop a program that generates a list of all possible combinations of two lists using list comprehension."
   ]
  },
  {
   "cell_type": "code",
   "execution_count": 6,
   "id": "eaf17535-efd9-48fe-9b59-bf5b6ff83c86",
   "metadata": {},
   "outputs": [
    {
     "data": {
      "text/plain": [
       "[[1, 4], [1, 5], [1, 6], [2, 4], [2, 5], [2, 6], [3, 4], [3, 5], [3, 6]]"
      ]
     },
     "execution_count": 6,
     "metadata": {},
     "output_type": "execute_result"
    }
   ],
   "source": [
    "lst1=[1,2,3]\n",
    "lst2=[4,5,6]\n",
    "lst=[[i,j] for i in lst1 for j in lst2 ]\n",
    "lst"
   ]
  },
  {
   "cell_type": "markdown",
   "id": "e25dbf6d-dd9e-442b-80cd-e97ab461af30",
   "metadata": {},
   "source": [
    "### 34. Write a program that calculates the mean, median, and mode of a list of numbers using list  comprehension"
   ]
  },
  {
   "cell_type": "code",
   "execution_count": 67,
   "id": "ea81236d-41bb-4fe7-85fc-efe3aa25d826",
   "metadata": {},
   "outputs": [],
   "source": [
    "import statistics as stat"
   ]
  },
  {
   "cell_type": "code",
   "execution_count": 69,
   "id": "dfe6a006-3e85-4ee6-9bf6-22d992e066fa",
   "metadata": {},
   "outputs": [
    {
     "name": "stdout",
     "output_type": "stream",
     "text": [
      "mean of given list : [5]\n",
      "medium of given list : [5.5]\n",
      "mode of given list : 1\n"
     ]
    }
   ],
   "source": [
    "lst=[1,2,3,4,5,6,7,8,9,10]\n",
    "lst=sorted(lst)\n",
    "mean =[sum(x for x in lst)//len(lst)]\n",
    "print('mean of given list :',mean)\n",
    "\n",
    "mid_point=len(lst)//2\n",
    "medium=[(lst[mid_point-1]+lst[mid_point])/2 if len(lst)%2==0 else lst[5]]\n",
    "print('medium of given list :',medium) \n",
    "\n",
    "mode=stat.mode(lst)\n",
    "print('mode of given list :',mode) "
   ]
  },
  {
   "cell_type": "markdown",
   "id": "8f7a4ed9-051d-4853-bd92-685d2da6c4ec",
   "metadata": {},
   "source": [
    "### 35. Create a program that generates Pascal's triangle up to a specified number of rows using list comprehension."
   ]
  },
  {
   "cell_type": "code",
   "execution_count": 6,
   "id": "050f9bb3-8ab9-43bf-bff0-25b2efe66a07",
   "metadata": {},
   "outputs": [
    {
     "name": "stdout",
     "output_type": "stream",
     "text": [
      "      1      \n",
      "     1 1     \n",
      "    1 2 1    \n",
      "   1 3 3 1   \n",
      "  1 4 6 4 1  \n",
      "1 5 10 10 5 1\n"
     ]
    }
   ],
   "source": [
    "def pascals_triangle(n):\n",
    "    triangle = [[1]]\n",
    "    for i in range(1, n):\n",
    "        row = [1]\n",
    "        for j in range(1, i):\n",
    "            row.append(triangle[i-1][j-1] + triangle[i-1][j])\n",
    "        row.append(1)\n",
    "        triangle.append(row)\n",
    "    return triangle\n",
    "\n",
    "def triangle(triangle):\n",
    "    max_width = len(' '.join(map(str, triangle[-1])))\n",
    "    for row in triangle:\n",
    "        print(' '.join(map(str, row)).center(max_width))\n",
    "\n",
    "num_rows = 6\n",
    "pascals_triangle = pascals_triangle(num_rows)\n",
    "triangle(pascals_triangle)"
   ]
  },
  {
   "cell_type": "markdown",
   "id": "f421893d-9d8e-4971-9da3-c62d5c45b1c7",
   "metadata": {},
   "source": [
    "### 36. Develop a program that calculates the sum of the digits of a factorial of numbers from 1 to 5 using list  comprehension"
   ]
  },
  {
   "cell_type": "code",
   "execution_count": 7,
   "id": "02af4433-cea5-4a4e-9fd8-79b3a079937d",
   "metadata": {},
   "outputs": [
    {
     "name": "stdout",
     "output_type": "stream",
     "text": [
      "[1, 2, 6, 6, 3]\n"
     ]
    }
   ],
   "source": [
    "def factorial(n):\n",
    "    if n == 0 or n == 1:\n",
    "        return 1\n",
    "    else:\n",
    "        return n * factorial(n-1)\n",
    "\n",
    "def sum_of_digits(num):\n",
    "    return sum(int(i) for i in str(num))\n",
    "\n",
    "factorials_sum_digits = [sum_of_digits(factorial(i)) for i in range(1, 6)]\n",
    "\n",
    "print(factorials_sum_digits)"
   ]
  },
  {
   "cell_type": "markdown",
   "id": "5a54df79-7581-42f1-ba70-2e5278b9228c",
   "metadata": {},
   "source": [
    "### 37. Write a program that finds the longest word in a sentence using list comprehension"
   ]
  },
  {
   "cell_type": "code",
   "execution_count": 118,
   "id": "3b9bb8e2-f040-49a4-ace4-d91858663b28",
   "metadata": {},
   "outputs": [
    {
     "name": "stdout",
     "output_type": "stream",
     "text": [
      "longest word in a sentance is : comprehension\n"
     ]
    }
   ],
   "source": [
    "lst=['Write', 'a', 'program', 'that', 'finds', 'the', 'longest','d', 'in', 'a', 'sentence', 'using', 'list', 'comprehension'] \n",
    "x=1\n",
    "for i in lst:\n",
    "    if x<len(i):\n",
    "        x=len(i)\n",
    "        y=i\n",
    "print('longest word in a sentance is :',y)\n"
   ]
  },
  {
   "cell_type": "markdown",
   "id": "5e2a4ee5-5684-4ea1-a6f4-d7cd3a4148b1",
   "metadata": {},
   "source": [
    "### 38. Create a program that filters a list of strings to include only those with more than three vowels using list  comprehension"
   ]
  },
  {
   "cell_type": "code",
   "execution_count": 5,
   "id": "dabbb7b0-0f20-465c-bd42-618a21aef4b3",
   "metadata": {},
   "outputs": [
    {
     "name": "stdout",
     "output_type": "stream",
     "text": [
      "['engineer']\n"
     ]
    }
   ],
   "source": [
    "def count_vowels(word):\n",
    "    return sum(1 for i in word if i.lower() in 'aeiou')\n",
    "\n",
    "def filter_strings(lst):\n",
    "    return [word for word in lst if count_vowels(word) > 3]\n",
    "\n",
    "words = [ 'machine', 'learning', 'engineer']\n",
    "filtered_words = filter_strings(words)\n",
    "\n",
    "print(filtered_words)"
   ]
  },
  {
   "cell_type": "markdown",
   "id": "42857a70-ea28-4070-9d57-5437e7e9968a",
   "metadata": {},
   "source": [
    "### 39. Develop a program that calculates the sum of the digits of numbers from 1 to 1000 using list  comprehension"
   ]
  },
  {
   "cell_type": "code",
   "execution_count": 2,
   "id": "f8a8e46a-c3c8-4ecb-ae12-5b26e9ee181c",
   "metadata": {},
   "outputs": [
    {
     "name": "stdout",
     "output_type": "stream",
     "text": [
      "500500\n"
     ]
    }
   ],
   "source": [
    "sum_of_digits = sum([i for i in range(1,1001)])\n",
    "\n",
    "print(sum_of_digits)"
   ]
  },
  {
   "cell_type": "markdown",
   "id": "c31f97c1-e588-475c-8d7c-1dd34ecb6917",
   "metadata": {},
   "source": [
    "### 40. Write a program that generates a list of prime palindromic numbers using list comprehension."
   ]
  },
  {
   "cell_type": "code",
   "execution_count": 1,
   "id": "2c8972ae-8d58-4ac2-b10b-1df54e02c9c4",
   "metadata": {},
   "outputs": [
    {
     "name": "stdout",
     "output_type": "stream",
     "text": [
      "[2, 3, 5, 7, 11]\n"
     ]
    }
   ],
   "source": [
    "def prime(n):\n",
    "    if n < 2:\n",
    "        return False\n",
    "    for i in range(2,int(n**0.5) +1):\n",
    "        if n%i == 0:\n",
    "            return False\n",
    "    return True\n",
    "\n",
    "def palindrome(n):\n",
    "    return str(n) == str(n)[::-1]\n",
    "\n",
    "prime_palindome = [i for i in range(2,100) if prime(i) and palindrome(i)]\n",
    "\n",
    "print(prime_palindome)"
   ]
  }
 ],
 "metadata": {
  "kernelspec": {
   "display_name": "Python 3 (ipykernel)",
   "language": "python",
   "name": "python3"
  },
  "language_info": {
   "codemirror_mode": {
    "name": "ipython",
    "version": 3
   },
   "file_extension": ".py",
   "mimetype": "text/x-python",
   "name": "python",
   "nbconvert_exporter": "python",
   "pygments_lexer": "ipython3",
   "version": "3.10.8"
  }
 },
 "nbformat": 4,
 "nbformat_minor": 5
}
