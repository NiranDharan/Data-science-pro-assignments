{
  "nbformat": 4,
  "nbformat_minor": 0,
  "metadata": {
    "colab": {
      "provenance": [],
      "include_colab_link": true
    },
    "kernelspec": {
      "name": "python3",
      "display_name": "Python 3"
    },
    "language_info": {
      "name": "python"
    }
  },
  "cells": [
    {
      "cell_type": "markdown",
      "metadata": {
        "id": "view-in-github",
        "colab_type": "text"
      },
      "source": [
        "<a href=\"https://colab.research.google.com/github/NiranDharan/Data-science-pro-assignments/blob/main/Copy_of_project.ipynb\" target=\"_parent\"><img src=\"https://colab.research.google.com/assets/colab-badge.svg\" alt=\"Open In Colab\"/></a>"
      ]
    },
    {
      "cell_type": "markdown",
      "source": [
        "3. Implement OAuth2 authentication to allow users to log in using their Google or Facebook accounts.\n",
        "\n",
        "\n",
        "Github link(for code):-  https://github.com/samartha2005/3pro\n",
        "Live Project linK:-https://oauth2-flask-3project.onrender.com"
      ],
      "metadata": {
        "id": "A7EmPETJArNY"
      }
    },
    {
      "cell_type": "markdown",
      "source": [
        "4. Develop a recommendation system using Flask that suggests content to users based on their preferences.\n",
        "\n",
        "Github link(for code):-  https://github.com/samartha2005/4pro\n",
        "Live Project linK:-  https://recommendation-system-new.onrender.com"
      ],
      "metadata": {
        "id": "NTuBpOTnAu3k"
      }
    },
    {
      "cell_type": "markdown",
      "source": [],
      "metadata": {
        "id": "hbGIK3V2AnVF"
      }
    },
    {
      "cell_type": "markdown",
      "source": [
        "2. Create a Flask app that consumes data from external APIs and displays it to users.\n",
        "Try to find an public API which will give you a data and based on that call it and deploy it on cloud platform\n",
        "\n",
        "\n",
        "Github link(for code):-   https://github.com/samartha2005/22OctPro2\n",
        "Live Project linK:-  https://data-from-external-api.onrender.com"
      ],
      "metadata": {
        "id": "BEqjbHfrAnus"
      }
    },
    {
      "cell_type": "markdown",
      "source": [
        "1. Build a Flask app that scrapes data from multiple websites and displays it on your site.\n",
        "You can try to scrap websites like youtube , amazon and show data on output pages and deploy it on cloud\n",
        "platform .\n",
        "\n",
        "\n",
        "Github link(for code):- https://github.com/samartha2005/fir_pro\n",
        "Live Project linK:- https://pro-first-14b0.onrender.com"
      ],
      "metadata": {
        "id": "gFpN6qZSAj-H"
      }
    }
  ]
}