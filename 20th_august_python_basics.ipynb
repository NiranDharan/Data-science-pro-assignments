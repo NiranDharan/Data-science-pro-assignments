{
 "cells": [
  {
   "cell_type": "markdown",
   "id": "ac5f432d-5347-45c5-bbb1-53923eccaf0d",
   "metadata": {},
   "source": [
    "### 1. Write a program to reverse a string."
   ]
  },
  {
   "cell_type": "code",
   "execution_count": 1,
   "id": "36baba59-a7cb-4a09-9a36-62fdb493283c",
   "metadata": {},
   "outputs": [],
   "source": [
    "str ='reverse'"
   ]
  },
  {
   "cell_type": "code",
   "execution_count": 2,
   "id": "cf1bde71-b5b1-4459-bda7-f1250f832bec",
   "metadata": {},
   "outputs": [
    {
     "name": "stdout",
     "output_type": "stream",
     "text": [
      "esrever\n"
     ]
    }
   ],
   "source": [
    "print(str[::-1])"
   ]
  },
  {
   "cell_type": "markdown",
   "id": "4611ebe9-4906-4dd5-95d0-b5862b4ef542",
   "metadata": {},
   "source": [
    "### 2. Check if a string is a palindrome."
   ]
  },
  {
   "cell_type": "code",
   "execution_count": 36,
   "id": "7fa19da5-1fce-44c1-b8dd-b26fc8c0c726",
   "metadata": {},
   "outputs": [],
   "source": [
    "a ='racecar'"
   ]
  },
  {
   "cell_type": "code",
   "execution_count": 35,
   "id": "9da78746-2889-4e5e-a1c7-5c3d67b0eef8",
   "metadata": {},
   "outputs": [
    {
     "name": "stdout",
     "output_type": "stream",
     "text": [
      "racecar is a palindrome\n"
     ]
    }
   ],
   "source": [
    "if a[:]==a[::-1] :\n",
    "    print(a,'is a palindrome')\n",
    "else:\n",
    "        print(a , 'is not a palindrome')"
   ]
  },
  {
   "cell_type": "markdown",
   "id": "4e0a599a-3e52-452f-ba93-328f6289ba75",
   "metadata": {},
   "source": [
    "### 3. Convert a string to uppercase."
   ]
  },
  {
   "cell_type": "code",
   "execution_count": 6,
   "id": "2539260f-e231-41cf-9892-575b6bb53aef",
   "metadata": {},
   "outputs": [
    {
     "name": "stdout",
     "output_type": "stream",
     "text": [
      "UPPERCASE\n"
     ]
    }
   ],
   "source": [
    "txt ='uppercase'\n",
    "print(txt.upper())"
   ]
  },
  {
   "cell_type": "markdown",
   "id": "a25ba80d-f543-43f3-a411-c8d6dff95aac",
   "metadata": {},
   "source": [
    "### 4. Convert a string to lowercase."
   ]
  },
  {
   "cell_type": "code",
   "execution_count": 7,
   "id": "13833b28-8f63-4037-a95c-dd449f7eed8d",
   "metadata": {},
   "outputs": [
    {
     "name": "stdout",
     "output_type": "stream",
     "text": [
      "lower\n"
     ]
    }
   ],
   "source": [
    "txt='LOWER'\n",
    "print(txt.lower())"
   ]
  },
  {
   "cell_type": "markdown",
   "id": "ac6c0d48-181b-4c3d-81af-124c936a92d8",
   "metadata": {},
   "source": [
    "### 5. Count the number of vowels in a string."
   ]
  },
  {
   "cell_type": "code",
   "execution_count": 61,
   "id": "92bca8c2-d6d2-4319-9689-658847786235",
   "metadata": {},
   "outputs": [],
   "source": [
    " txt ='number of vowels in a string'"
   ]
  },
  {
   "cell_type": "code",
   "execution_count": 62,
   "id": "6ae4f025-3d46-4690-8408-c2d026dd1200",
   "metadata": {},
   "outputs": [],
   "source": [
    "vowels='aeiouAEIOU'"
   ]
  },
  {
   "cell_type": "code",
   "execution_count": 100,
   "id": "e7028466-7117-4b10-83f0-c025dbd3e84c",
   "metadata": {},
   "outputs": [
    {
     "name": "stdout",
     "output_type": "stream",
     "text": [
      "number of vowels in given string are  5\n"
     ]
    }
   ],
   "source": [
    "count =0\n",
    "for i in txt:\n",
    "    if i in vowels:\n",
    "        count+=1\n",
    "print('number of vowels in given string are ',count)"
   ]
  },
  {
   "cell_type": "markdown",
   "id": "37c58d98-217e-47f3-9376-a16b71286127",
   "metadata": {},
   "source": [
    "### 6. Count the number of consonants in a string."
   ]
  },
  {
   "cell_type": "code",
   "execution_count": 66,
   "id": "56fd4b6b-12f6-4ed4-9beb-88888a71665d",
   "metadata": {},
   "outputs": [],
   "source": [
    " txt ='number of vowels in a string'"
   ]
  },
  {
   "cell_type": "code",
   "execution_count": 67,
   "id": "5ba541c4-d117-4f0f-a3a5-fe323d191be9",
   "metadata": {},
   "outputs": [],
   "source": [
    "vowels='aeiouAEIOU'"
   ]
  },
  {
   "cell_type": "code",
   "execution_count": 99,
   "id": "a22c6447-3201-49c5-adbf-05968cd3aabc",
   "metadata": {},
   "outputs": [
    {
     "name": "stdout",
     "output_type": "stream",
     "text": [
      "number of consonants are 20\n"
     ]
    }
   ],
   "source": [
    "count =0\n",
    "for i in txt:\n",
    "    if i not in vowels:\n",
    "        count+=1\n",
    "print('number of consonants are',count)"
   ]
  },
  {
   "cell_type": "code",
   "execution_count": 76,
   "id": "065e87af-9023-4d78-a1e4-d7a5baa58fce",
   "metadata": {},
   "outputs": [
    {
     "name": "stdout",
     "output_type": "stream",
     "text": [
      "28\n"
     ]
    }
   ],
   "source": [
    "print(len(txt)) # total - 28 "
   ]
  },
  {
   "cell_type": "markdown",
   "id": "87dccd43-4ce1-425c-a240-7f626057ecb7",
   "metadata": {},
   "source": [
    "### 7. Remove all whitespaces from a string."
   ]
  },
  {
   "cell_type": "code",
   "execution_count": 77,
   "id": "c6d2a39d-e6e3-4857-bdd8-7fea50865f20",
   "metadata": {},
   "outputs": [],
   "source": [
    "txt='remove all whitespaces from a string'"
   ]
  },
  {
   "cell_type": "code",
   "execution_count": 86,
   "id": "d3555813-9dba-48c2-b42e-a0a84b479132",
   "metadata": {},
   "outputs": [
    {
     "name": "stdout",
     "output_type": "stream",
     "text": [
      "removeallwhitespacesfromastring\n"
     ]
    }
   ],
   "source": [
    "print(txt.replace(' ',''))"
   ]
  },
  {
   "cell_type": "markdown",
   "id": "19dc2e0b-babf-4666-b056-d07353f24b1b",
   "metadata": {},
   "source": [
    "### 8. Find the length of a string without using the `len()` function."
   ]
  },
  {
   "cell_type": "code",
   "execution_count": 104,
   "id": "39ae200d-e333-4eb1-aeec-e471b7d7bfaa",
   "metadata": {},
   "outputs": [],
   "source": [
    "txt=' length of a string is 25'"
   ]
  },
  {
   "cell_type": "code",
   "execution_count": 105,
   "id": "70a5e636-f7fc-4fba-8ad4-3dcdfd1f0b1a",
   "metadata": {},
   "outputs": [
    {
     "name": "stdout",
     "output_type": "stream",
     "text": [
      "length of given string is 25\n"
     ]
    }
   ],
   "source": [
    "count =0\n",
    "for i in txt:\n",
    "    count+=1\n",
    "print('length of given string is',count)    "
   ]
  },
  {
   "cell_type": "markdown",
   "id": "9ba9b447-94f8-42f4-9f21-ff1736765e5d",
   "metadata": {},
   "source": [
    "### 9. Check if a string contains a specific word."
   ]
  },
  {
   "cell_type": "code",
   "execution_count": 8,
   "id": "ea217910-c0d4-4ac2-b484-77c85f0b0f3a",
   "metadata": {},
   "outputs": [
    {
     "name": "stdin",
     "output_type": "stream",
     "text": [
      " niran\n"
     ]
    }
   ],
   "source": [
    "txt ='specific word in this string is niran'\n",
    "word=input()"
   ]
  },
  {
   "cell_type": "code",
   "execution_count": 9,
   "id": "f4c1f4bc-04b2-4111-9c17-2a2f3e2134f2",
   "metadata": {},
   "outputs": [
    {
     "name": "stdout",
     "output_type": "stream",
     "text": [
      "string contains niran\n"
     ]
    }
   ],
   "source": [
    "if word in txt:\n",
    "    print('string contains',word)\n",
    "else:\n",
    "    print('string does not contain',word)"
   ]
  },
  {
   "cell_type": "markdown",
   "id": "d2e841ff-25a4-48c4-a0c8-d72b577c7788",
   "metadata": {},
   "source": [
    "### 10. Replace a word in a string with another word."
   ]
  },
  {
   "cell_type": "code",
   "execution_count": 15,
   "id": "e8f07484-4ca9-4887-9cc2-17067b64b55d",
   "metadata": {},
   "outputs": [],
   "source": [
    "txt='changes are constant'"
   ]
  },
  {
   "cell_type": "code",
   "execution_count": 17,
   "id": "352c69d3-fa59-400e-b0f3-6d4b7d138a7f",
   "metadata": {},
   "outputs": [
    {
     "data": {
      "text/plain": [
       "'changes are inevitable'"
      ]
     },
     "execution_count": 17,
     "metadata": {},
     "output_type": "execute_result"
    }
   ],
   "source": [
    "txt.replace('constant','inevitable')"
   ]
  },
  {
   "cell_type": "markdown",
   "id": "5212f181-444e-49c6-917e-dd95b4669f5e",
   "metadata": {},
   "source": [
    "### 11. Count the occurrences of a word in a string."
   ]
  },
  {
   "cell_type": "code",
   "execution_count": 14,
   "id": "c5a0f05a-d0b3-42b6-9cea-84e33fbdc6c1",
   "metadata": {},
   "outputs": [],
   "source": [
    "txt='Count the occurrences of a word in a string , string'"
   ]
  },
  {
   "cell_type": "code",
   "execution_count": 13,
   "id": "dfc0bec3-b857-4b1b-857c-c237d141c135",
   "metadata": {},
   "outputs": [
    {
     "data": {
      "text/plain": [
       "2"
      ]
     },
     "execution_count": 13,
     "metadata": {},
     "output_type": "execute_result"
    }
   ],
   "source": [
    "word='string'\n",
    "txt.count(word)"
   ]
  },
  {
   "cell_type": "markdown",
   "id": "217dd26e-2d64-4d64-9f94-c22fe2f6b94d",
   "metadata": {},
   "source": [
    "### 12. Find the first occurrence of a word in a string"
   ]
  },
  {
   "cell_type": "code",
   "execution_count": 15,
   "id": "7cdc7f1d-b2d1-42b2-a3e6-94fe1a0dd5de",
   "metadata": {},
   "outputs": [],
   "source": [
    "txt ='Count the occurrences of a word in a string , count each occurrences of each words'"
   ]
  },
  {
   "cell_type": "code",
   "execution_count": 16,
   "id": "f119a43b-f249-4e28-9018-082d797a13c3",
   "metadata": {},
   "outputs": [
    {
     "data": {
      "text/plain": [
       "52"
      ]
     },
     "execution_count": 16,
     "metadata": {},
     "output_type": "execute_result"
    }
   ],
   "source": [
    "txt.find('each')"
   ]
  },
  {
   "cell_type": "markdown",
   "id": "ea26b455-5450-4163-9355-06b6a63fbed6",
   "metadata": {},
   "source": [
    "### 13. Find the last occurrence of a word in a string."
   ]
  },
  {
   "cell_type": "code",
   "execution_count": 79,
   "id": "48f6c4d8-4d4d-45a5-a363-3ec90cac181e",
   "metadata": {},
   "outputs": [],
   "source": [
    "txt ='Count the occurrences of a word in a string , count each occurrences of each words'"
   ]
  },
  {
   "cell_type": "code",
   "execution_count": 88,
   "id": "b969ddf5-8f62-49f3-a253-ad0479c06cc4",
   "metadata": {},
   "outputs": [
    {
     "data": {
      "text/plain": [
       "72"
      ]
     },
     "execution_count": 88,
     "metadata": {},
     "output_type": "execute_result"
    }
   ],
   "source": [
    "txt.rindex('each')"
   ]
  },
  {
   "cell_type": "markdown",
   "id": "65e75323-ac34-4efd-9c71-02debfcb84f5",
   "metadata": {},
   "source": [
    "### 14. Split a string into a list of words."
   ]
  },
  {
   "cell_type": "code",
   "execution_count": 1,
   "id": "796a66f2-bbff-42ee-b8e8-02bd09fb240d",
   "metadata": {},
   "outputs": [],
   "source": [
    "txt='Split a string into a list of words'"
   ]
  },
  {
   "cell_type": "code",
   "execution_count": 11,
   "id": "034388db-713d-4cfe-80b7-d3c2f7295b0c",
   "metadata": {},
   "outputs": [
    {
     "data": {
      "text/plain": [
       "['Split', 'a', 'string', 'into', 'a', 'list', 'of', 'words']"
      ]
     },
     "execution_count": 11,
     "metadata": {},
     "output_type": "execute_result"
    }
   ],
   "source": [
    "txt.split()"
   ]
  },
  {
   "cell_type": "markdown",
   "id": "a3f44f0d-caa0-44cb-ba43-4042e957ecc7",
   "metadata": {},
   "source": [
    "### 15. Join a list of words into a string."
   ]
  },
  {
   "cell_type": "code",
   "execution_count": 19,
   "id": "bd1366e7-1445-47d7-b8fc-517d233ce159",
   "metadata": {},
   "outputs": [
    {
     "name": "stdout",
     "output_type": "stream",
     "text": [
      "list of words\n"
     ]
    }
   ],
   "source": [
    "a =['list','of','words']\n",
    "b =' '.join(a)\n",
    "print(b)"
   ]
  },
  {
   "cell_type": "markdown",
   "id": "66c4f8a3-f63d-494f-9798-cf1d040bd329",
   "metadata": {},
   "source": [
    "### 16. Convert a string where words are separated by spaces to one where words are separated by underscores "
   ]
  },
  {
   "cell_type": "code",
   "execution_count": 108,
   "id": "0ed5e6a1-cce2-4bbd-a1dc-d0d4ff9da246",
   "metadata": {},
   "outputs": [],
   "source": [
    "txt='string separated by underscore'"
   ]
  },
  {
   "cell_type": "code",
   "execution_count": 110,
   "id": "a94aa9e4-8aff-4679-badd-8f193d62a8a9",
   "metadata": {},
   "outputs": [
    {
     "data": {
      "text/plain": [
       "'string_separated_by_underscore'"
      ]
     },
     "execution_count": 110,
     "metadata": {},
     "output_type": "execute_result"
    }
   ],
   "source": [
    "txt.replace(' ','_')"
   ]
  },
  {
   "cell_type": "markdown",
   "id": "b90e375e-fbc2-473d-8063-12e5744c1e18",
   "metadata": {},
   "source": [
    "### 17. Check if a string starts with a specific word or phrase."
   ]
  },
  {
   "cell_type": "code",
   "execution_count": 114,
   "id": "05cc6dd4-7b88-4808-ab80-0711ec571f6d",
   "metadata": {},
   "outputs": [],
   "source": [
    "txt='check if a string starts with a specific word or phrase'"
   ]
  },
  {
   "cell_type": "code",
   "execution_count": 122,
   "id": "4fb3498f-5484-465d-8746-f54a2919623e",
   "metadata": {},
   "outputs": [
    {
     "name": "stdin",
     "output_type": "stream",
     "text": [
      " check\n"
     ]
    }
   ],
   "source": [
    "a = input()"
   ]
  },
  {
   "cell_type": "code",
   "execution_count": 123,
   "id": "f193142c-4373-4f47-a3ea-7f582e3f831a",
   "metadata": {},
   "outputs": [
    {
     "name": "stdout",
     "output_type": "stream",
     "text": [
      "the given string starts with check\n"
     ]
    }
   ],
   "source": [
    "if txt.startswith(a) :\n",
    "    print('the given string starts with',a)\n",
    "else:\n",
    "     print('the given string does not start with',a)"
   ]
  },
  {
   "cell_type": "markdown",
   "id": "8c6f7b3b-df1e-49c3-8744-0c0e3a186fc8",
   "metadata": {},
   "source": [
    "### 18. Check if a string ends with a specific word or phrase."
   ]
  },
  {
   "cell_type": "code",
   "execution_count": 124,
   "id": "c644802c-9fd1-4d0c-a44c-baf496657783",
   "metadata": {},
   "outputs": [],
   "source": [
    "txt='check if a string ends with a specific word or phrase'"
   ]
  },
  {
   "cell_type": "code",
   "execution_count": 127,
   "id": "edbe8701-a89a-40d5-b6df-a8b3d25a2e17",
   "metadata": {},
   "outputs": [
    {
     "name": "stdin",
     "output_type": "stream",
     "text": [
      " phrase\n"
     ]
    }
   ],
   "source": [
    "a = input()"
   ]
  },
  {
   "cell_type": "code",
   "execution_count": 130,
   "id": "79ebf785-23fb-42ed-ab3d-90dcfdc8d0cd",
   "metadata": {},
   "outputs": [
    {
     "name": "stdout",
     "output_type": "stream",
     "text": [
      "the given string ends with phrase\n"
     ]
    }
   ],
   "source": [
    "if txt.endswith(a) :\n",
    "    print('the given string ends with',a)\n",
    "else:\n",
    "     print('the given string does not ends with',a)"
   ]
  },
  {
   "cell_type": "markdown",
   "id": "ccdaad80-7078-4420-92b7-ee23aa6cdb52",
   "metadata": {},
   "source": [
    "### 19. Convert a string to title case (e.g., \"hello world\" to \"Hello World\")."
   ]
  },
  {
   "cell_type": "code",
   "execution_count": 146,
   "id": "daa79a16-1437-4277-a39b-0b82a9b3d79a",
   "metadata": {},
   "outputs": [],
   "source": [
    "txt='hello world'"
   ]
  },
  {
   "cell_type": "code",
   "execution_count": 148,
   "id": "878167e2-c483-4547-8730-1df3795ca239",
   "metadata": {},
   "outputs": [
    {
     "data": {
      "text/plain": [
       "'Hello World'"
      ]
     },
     "execution_count": 148,
     "metadata": {},
     "output_type": "execute_result"
    }
   ],
   "source": [
    "txt.title()"
   ]
  },
  {
   "cell_type": "markdown",
   "id": "6854f46e-d236-48b2-893b-5113d597b15b",
   "metadata": {},
   "source": [
    "### 20. Find the longest word in a string."
   ]
  },
  {
   "cell_type": "code",
   "execution_count": 12,
   "id": "62449042-ae0f-48a4-8a43-a56878d44a7a",
   "metadata": {},
   "outputs": [],
   "source": [
    "txt ='find the longest word in a string'"
   ]
  },
  {
   "cell_type": "code",
   "execution_count": 13,
   "id": "c25ea94e-2820-4cac-b63f-149280835b0b",
   "metadata": {},
   "outputs": [],
   "source": [
    "a=txt.split()"
   ]
  },
  {
   "cell_type": "code",
   "execution_count": 15,
   "id": "22b45000-0458-48a4-ad2e-98b51c217da6",
   "metadata": {},
   "outputs": [
    {
     "data": {
      "text/plain": [
       "'longest'"
      ]
     },
     "execution_count": 15,
     "metadata": {},
     "output_type": "execute_result"
    }
   ],
   "source": [
    "max(a,key=len)"
   ]
  },
  {
   "cell_type": "markdown",
   "id": "6631ddea-673e-4629-975c-28e43dd32939",
   "metadata": {},
   "source": [
    "### 21. Find the shortest word in a string."
   ]
  },
  {
   "cell_type": "code",
   "execution_count": 161,
   "id": "850b570d-7a92-4917-b071-351b1f3f9113",
   "metadata": {},
   "outputs": [],
   "source": [
    "txt='find the shortest word in a string'"
   ]
  },
  {
   "cell_type": "code",
   "execution_count": 13,
   "id": "e8ec30f4-1583-4a6f-bc7f-c9aeac9afc33",
   "metadata": {},
   "outputs": [],
   "source": [
    "a=txt.split()"
   ]
  },
  {
   "cell_type": "code",
   "execution_count": 14,
   "id": "4645026b-4bcc-427e-8034-eeddc877a44f",
   "metadata": {},
   "outputs": [
    {
     "data": {
      "text/plain": [
       "'a'"
      ]
     },
     "execution_count": 14,
     "metadata": {},
     "output_type": "execute_result"
    }
   ],
   "source": [
    "min(a,key=len)"
   ]
  },
  {
   "cell_type": "markdown",
   "id": "594ce96c-b870-4611-87af-6de31fd36a65",
   "metadata": {},
   "source": [
    "### 22. Reverse the order of words in a string."
   ]
  },
  {
   "cell_type": "code",
   "execution_count": 17,
   "id": "3307f675-f314-42ff-a066-e6137fdcdd3d",
   "metadata": {},
   "outputs": [
    {
     "name": "stdout",
     "output_type": "stream",
     "text": [
      "string a in words of order the Reverse\n"
     ]
    }
   ],
   "source": [
    "txt='Reverse the order of words in a string'\n",
    "b=txt.split()\n",
    "print(' '.join(b[::-1]))"
   ]
  },
  {
   "cell_type": "code",
   "execution_count": 24,
   "id": "bd6f524a-3cbd-4522-8856-2c644c9f54de",
   "metadata": {},
   "outputs": [
    {
     "data": {
      "text/plain": [
       "'string a in words of order the Reverse'"
      ]
     },
     "execution_count": 24,
     "metadata": {},
     "output_type": "execute_result"
    }
   ],
   "source": [
    "' '.join(b[::-1])"
   ]
  },
  {
   "cell_type": "markdown",
   "id": "c4b59829-9a9e-4b21-8c86-b978ba7f3928",
   "metadata": {},
   "source": [
    "### 23. Check if a string is alphanumeric"
   ]
  },
  {
   "cell_type": "code",
   "execution_count": 56,
   "id": "b4ca3b5c-4d5b-46ea-8a91-d3da2e8ad5c3",
   "metadata": {},
   "outputs": [],
   "source": [
    "txt='50questions'"
   ]
  },
  {
   "cell_type": "code",
   "execution_count": 57,
   "id": "4c6d48b0-1011-4a06-ae83-3114d2876c16",
   "metadata": {},
   "outputs": [
    {
     "data": {
      "text/plain": [
       "True"
      ]
     },
     "execution_count": 57,
     "metadata": {},
     "output_type": "execute_result"
    }
   ],
   "source": [
    "if txt.isalnum():\n",
    "    print('given string is lphanumeric')\n",
    "else:"
   ]
  },
  {
   "cell_type": "markdown",
   "id": "28866d63-829d-43a6-a413-c6257ef49c17",
   "metadata": {},
   "source": [
    "### 24. Extract all digits from a string."
   ]
  },
  {
   "cell_type": "code",
   "execution_count": 25,
   "id": "d89e231f-9f09-423f-89ec-9d01a410fa98",
   "metadata": {},
   "outputs": [],
   "source": [
    "txt='1 question are correct out of 2'"
   ]
  },
  {
   "cell_type": "code",
   "execution_count": 29,
   "id": "1fb1c559-3291-4b7c-b489-a064e8bb9409",
   "metadata": {},
   "outputs": [
    {
     "name": "stdout",
     "output_type": "stream",
     "text": [
      "1 2 "
     ]
    }
   ],
   "source": [
    "for i in txt:\n",
    "    if i.isdigit():\n",
    "        print(i,end=' ')"
   ]
  },
  {
   "cell_type": "markdown",
   "id": "8c84f2a8-88e4-4934-b3f9-d49bf2488fa5",
   "metadata": {},
   "source": [
    "### 25. Extract all alphabets from a string."
   ]
  },
  {
   "cell_type": "code",
   "execution_count": 66,
   "id": "9559cbd3-c8e5-45c6-9fda-5d0696de1cd5",
   "metadata": {},
   "outputs": [],
   "source": [
    "txt='10 questions are correct out of 20'"
   ]
  },
  {
   "cell_type": "code",
   "execution_count": 56,
   "id": "c201ee1e-e46c-4d7e-96c9-da52d86568ef",
   "metadata": {},
   "outputs": [
    {
     "name": "stdout",
     "output_type": "stream",
     "text": [
      "question are correct out of "
     ]
    }
   ],
   "source": [
    "for i in txt.split():\n",
    "    if i.isalpha():\n",
    "        print(i,end=' ')"
   ]
  },
  {
   "cell_type": "markdown",
   "id": "7cd9d40d-26f1-4a87-8d0c-51ecf88e3955",
   "metadata": {},
   "source": [
    "### 26. Count the number of uppercase letters in a string."
   ]
  },
  {
   "cell_type": "code",
   "execution_count": 58,
   "id": "77378f00-2071-4d80-b992-db9568def48b",
   "metadata": {},
   "outputs": [],
   "source": [
    "txt='COUNT the NUMBER of UPPERCASE letters IN a STRING'"
   ]
  },
  {
   "cell_type": "code",
   "execution_count": 59,
   "id": "b8c5370c-d28d-4c6f-bee9-2b925035a102",
   "metadata": {},
   "outputs": [
    {
     "name": "stdout",
     "output_type": "stream",
     "text": [
      "28\n"
     ]
    }
   ],
   "source": [
    "count =0\n",
    "for i in txt:\n",
    "    if i.isupper():\n",
    "        count+=1\n",
    "print(count)"
   ]
  },
  {
   "cell_type": "markdown",
   "id": "36fb8cc7-fab3-40ea-9d98-a8d44fec8248",
   "metadata": {},
   "source": [
    "### 27. Count the number of lowercase letters in a string."
   ]
  },
  {
   "cell_type": "code",
   "execution_count": 61,
   "id": "369bd5a8-e8db-42d5-be41-2bcb6f3a50e7",
   "metadata": {},
   "outputs": [],
   "source": [
    "txt='count the NUMBER of lowercase letters IN a STRING'\n",
    "count =0\n",
    "for i in txt:\n",
    "    if i.islower():\n",
    "        count+=1\n",
    "print(count)"
   ]
  },
  {
   "cell_type": "markdown",
   "id": "a1fc14ff-b70f-42a6-84fd-4275cccc6c12",
   "metadata": {},
   "source": [
    "### 28. Swap the case of each character in a string."
   ]
  },
  {
   "cell_type": "code",
   "execution_count": 35,
   "id": "17888e7a-da7f-44e8-9561-0484e25c280a",
   "metadata": {},
   "outputs": [],
   "source": [
    "txt='SWAP the CASE of EACH character IN a STRING'\n",
    "txt.swapcase()"
   ]
  },
  {
   "cell_type": "markdown",
   "id": "17fe01ce-3add-426e-a653-33dedb60656f",
   "metadata": {},
   "source": [
    "### 29. Remove a specific word from a string."
   ]
  },
  {
   "cell_type": "code",
   "execution_count": 38,
   "id": "a678ff37-8a5d-4d3d-a95e-14c3cd3e5616",
   "metadata": {},
   "outputs": [],
   "source": [
    "txt='Remove a specific word from a string'"
   ]
  },
  {
   "cell_type": "code",
   "execution_count": 39,
   "id": "3d4e0cef-bfad-404e-98e1-db8bbd4901f8",
   "metadata": {},
   "outputs": [],
   "source": [
    "word='string'"
   ]
  },
  {
   "cell_type": "code",
   "execution_count": 42,
   "id": "24bb2fe7-e1a7-4a57-b7b6-c6899ab18159",
   "metadata": {},
   "outputs": [
    {
     "name": "stdout",
     "output_type": "stream",
     "text": [
      "Remove a specific word from a \n"
     ]
    }
   ],
   "source": [
    "print(txt.replace(word,''))"
   ]
  },
  {
   "cell_type": "markdown",
   "id": "be84574c-b137-4b79-ba6a-423c38918620",
   "metadata": {},
   "source": [
    "### 30. Check if a string is a valid email address."
   ]
  },
  {
   "cell_type": "code",
   "execution_count": 87,
   "id": "9f8d1a83-9edc-4f9f-aea3-e7c4c2fd9b96",
   "metadata": {},
   "outputs": [],
   "source": [
    "txt='nirandharan@gmail.com'"
   ]
  },
  {
   "cell_type": "code",
   "execution_count": 106,
   "id": "95a19ad7-604d-400d-8e19-39b2ba3a1e16",
   "metadata": {},
   "outputs": [
    {
     "name": "stdout",
     "output_type": "stream",
     "text": [
      "Given email is not a valid email address\n"
     ]
    }
   ],
   "source": [
    "if '@' and '.com' in txt:\n",
    "    print('Given email is a valid email address')\n",
    "else:\n",
    "    print('Given email is not a valid email address')"
   ]
  },
  {
   "cell_type": "markdown",
   "id": "6929def0-b1d8-4d53-a32d-976ccd79a87f",
   "metadata": {},
   "source": [
    "### 31. Extract the username from an email address string"
   ]
  },
  {
   "cell_type": "code",
   "execution_count": 89,
   "id": "bf796545-ecdb-4b8e-89fb-303a850f6f23",
   "metadata": {},
   "outputs": [],
   "source": [
    "txt='nirandharan@gmail.com'"
   ]
  },
  {
   "cell_type": "code",
   "execution_count": 91,
   "id": "68b6e219-dd2f-4b5a-aa39-a0075e730072",
   "metadata": {},
   "outputs": [
    {
     "data": {
      "text/plain": [
       "'nirandharan'"
      ]
     },
     "execution_count": 91,
     "metadata": {},
     "output_type": "execute_result"
    }
   ],
   "source": [
    "txt[:txt.find('@')]"
   ]
  },
  {
   "cell_type": "markdown",
   "id": "e3f27d09-659a-4480-a40b-a3f109bf173e",
   "metadata": {},
   "source": [
    "### 32. Extract the domain name from an email address string"
   ]
  },
  {
   "cell_type": "code",
   "execution_count": 94,
   "id": "21df4941-2a16-4768-86ae-cc82a86300dc",
   "metadata": {},
   "outputs": [],
   "source": [
    "txt='nirandharan@gmail.com'"
   ]
  },
  {
   "cell_type": "code",
   "execution_count": 103,
   "id": "cd2a381b-0067-44f9-ae25-68639d8b14f3",
   "metadata": {},
   "outputs": [
    {
     "data": {
      "text/plain": [
       "'gmail.com'"
      ]
     },
     "execution_count": 103,
     "metadata": {},
     "output_type": "execute_result"
    }
   ],
   "source": [
    "txt[txt.find('@')+1:]"
   ]
  },
  {
   "cell_type": "markdown",
   "id": "93606a26-24e6-4fa2-80af-8eb9207fe4f4",
   "metadata": {},
   "source": [
    "### 33. Replace multiple spaces in a string with a single space."
   ]
  },
  {
   "cell_type": "code",
   "execution_count": 65,
   "id": "ad9c5113-a03c-4d4c-9e88-8eda2e92d966",
   "metadata": {},
   "outputs": [
    {
     "name": "stdout",
     "output_type": "stream",
     "text": [
      "replace multiple space in a string\n"
     ]
    }
   ],
   "source": [
    "txt='   replace    multiple    space    in   a   string   '\n",
    "print(' '.join(txt.split()))"
   ]
  },
  {
   "cell_type": "markdown",
   "id": "11ed17af-ef8b-45dc-842c-12fe4c3e4730",
   "metadata": {},
   "source": [
    "### 34. Check if a string is a valid URL."
   ]
  },
  {
   "cell_type": "code",
   "execution_count": 15,
   "id": "5872eb33-49cc-4c81-90b5-ac70b7748b74",
   "metadata": {},
   "outputs": [],
   "source": [
    "txt='https://pwskills.com/' "
   ]
  },
  {
   "cell_type": "code",
   "execution_count": 17,
   "id": "414737e4-f34d-4215-9575-baf963b7e585",
   "metadata": {},
   "outputs": [
    {
     "name": "stdout",
     "output_type": "stream",
     "text": [
      "Collecting validators\n",
      "  Downloading validators-0.21.2-py3-none-any.whl (25 kB)\n",
      "Installing collected packages: validators\n",
      "Successfully installed validators-0.21.2\n",
      "Note: you may need to restart the kernel to use updated packages.\n"
     ]
    }
   ],
   "source": [
    "pip install validators #installing required lib"
   ]
  },
  {
   "cell_type": "code",
   "execution_count": 21,
   "id": "ed7963ce-754c-40b5-9e69-d5c46b974cc3",
   "metadata": {},
   "outputs": [
    {
     "name": "stdout",
     "output_type": "stream",
     "text": [
      "Given email is a valid URL\n"
     ]
    }
   ],
   "source": [
    "import validators \n",
    "if validators.url(txt)== True:\n",
    "    print('Given email is a valid URL')\n",
    "else:\n",
    "    print('Given email is not a valid URL')"
   ]
  },
  {
   "cell_type": "markdown",
   "id": "e5d5a28c-6f5c-47a2-a9b7-0b264ebb54d0",
   "metadata": {},
   "source": [
    "### 35. Extract the protocol (http or https) from a URL string."
   ]
  },
  {
   "cell_type": "code",
   "execution_count": 22,
   "id": "b15479c3-59e3-4b33-a14a-401bc6ac6d93",
   "metadata": {},
   "outputs": [],
   "source": [
    "txt='https://pwskills.com/' "
   ]
  },
  {
   "cell_type": "code",
   "execution_count": 23,
   "id": "691e285c-ae57-4519-9e97-1c6ff7f4a04e",
   "metadata": {},
   "outputs": [
    {
     "data": {
      "text/plain": [
       "'https'"
      ]
     },
     "execution_count": 23,
     "metadata": {},
     "output_type": "execute_result"
    }
   ],
   "source": [
    "txt[:txt.find(':')]"
   ]
  },
  {
   "cell_type": "markdown",
   "id": "92fc24d7-363e-456e-a122-c23b580a6ae6",
   "metadata": {},
   "source": [
    "### 36. Find the frequency of each character in a string."
   ]
  },
  {
   "cell_type": "code",
   "execution_count": 27,
   "id": "7234dddd-bc3a-4f6e-9180-2bbf8da607db",
   "metadata": {},
   "outputs": [],
   "source": [
    "txt='frequencyofeachcharacter'"
   ]
  },
  {
   "cell_type": "code",
   "execution_count": 28,
   "id": "435a55b9-2a57-4058-83dd-e8aeb7a56df0",
   "metadata": {},
   "outputs": [
    {
     "name": "stdout",
     "output_type": "stream",
     "text": [
      "the frequency of c is 4 times\n",
      "the frequency of n is 1 times\n",
      "the frequency of y is 1 times\n",
      "the frequency of u is 1 times\n",
      "the frequency of h is 2 times\n",
      "the frequency of f is 2 times\n",
      "the frequency of r is 3 times\n",
      "the frequency of e is 4 times\n",
      "the frequency of t is 1 times\n",
      "the frequency of q is 1 times\n",
      "the frequency of a is 3 times\n",
      "the frequency of o is 1 times\n"
     ]
    }
   ],
   "source": [
    "set_txt=set(txt)\n",
    "for i in set_txt:\n",
    "    print(f'the frequency of {i} is {txt.count(i)} times')"
   ]
  },
  {
   "cell_type": "markdown",
   "id": "d5f2773a-973e-487d-8537-c7ee4b150730",
   "metadata": {},
   "source": [
    "### 37. Remove all punctuation from a string."
   ]
  },
  {
   "cell_type": "code",
   "execution_count": 66,
   "id": "20b88c00-74cf-4f46-8180-35dfd0d1b84c",
   "metadata": {},
   "outputs": [],
   "source": [
    "txt='remove : all punctuatins , from a string.'"
   ]
  },
  {
   "cell_type": "code",
   "execution_count": 68,
   "id": "c0455d8f-0ab2-4391-8923-1182d495dbe5",
   "metadata": {},
   "outputs": [],
   "source": [
    "import string"
   ]
  },
  {
   "cell_type": "code",
   "execution_count": 74,
   "id": "6fe610c3-a96c-43b6-9889-8a098a68b1f8",
   "metadata": {},
   "outputs": [
    {
     "data": {
      "text/plain": [
       "'remove  all punctuatins  from a string'"
      ]
     },
     "execution_count": 74,
     "metadata": {},
     "output_type": "execute_result"
    }
   ],
   "source": [
    "txt.translate(str.maketrans('','',string.punctuation))"
   ]
  },
  {
   "cell_type": "markdown",
   "id": "9e95e99d-1fbe-4c37-9d50-ab56a461cf5a",
   "metadata": {},
   "source": [
    "### 38. Check if a string contains only digits."
   ]
  },
  {
   "cell_type": "code",
   "execution_count": 76,
   "id": "94126e9c-7499-4735-bc2d-1866db15ae04",
   "metadata": {},
   "outputs": [
    {
     "name": "stdout",
     "output_type": "stream",
     "text": [
      "string contains only digits\n"
     ]
    }
   ],
   "source": [
    "txt='86378'\n",
    "if txt.isnumeric():\n",
    "    print('string contains only digits')\n",
    "else:\n",
    "    print('string contains digits and alphabets')"
   ]
  },
  {
   "cell_type": "markdown",
   "id": "cbdb5d9b-3d00-4898-b772-4ea8d14f45fb",
   "metadata": {},
   "source": [
    "### 39. Check if a string contains only alphabets."
   ]
  },
  {
   "cell_type": "code",
   "execution_count": 77,
   "id": "88f7e863-a950-4968-aeab-c6e34b59214c",
   "metadata": {},
   "outputs": [
    {
     "name": "stdout",
     "output_type": "stream",
     "text": [
      "string contains only alphabets\n"
     ]
    }
   ],
   "source": [
    "txt='alphabets'\n",
    "if txt.isalpha():\n",
    "    print('string contains only alphabets')\n",
    "else:\n",
    "    print('string contains digits and alphabets')"
   ]
  },
  {
   "cell_type": "markdown",
   "id": "e13dd420-3baf-4c52-a426-5cb08f9e1a86",
   "metadata": {},
   "source": [
    "### 40. Convert a string to a list of characters."
   ]
  },
  {
   "cell_type": "code",
   "execution_count": 7,
   "id": "3ec21544-7cb2-4869-97e2-8b5b1493351b",
   "metadata": {},
   "outputs": [],
   "source": [
    "string='convert a string of a list of characters'"
   ]
  },
  {
   "cell_type": "code",
   "execution_count": 9,
   "id": "0c2da3c7-0f68-449d-a9d8-e2c490b535d8",
   "metadata": {},
   "outputs": [],
   "source": [
    "list = string.split()"
   ]
  },
  {
   "cell_type": "code",
   "execution_count": 11,
   "id": "efc1e503-571c-4bc6-b62c-65ff350cb5a3",
   "metadata": {},
   "outputs": [
    {
     "name": "stdout",
     "output_type": "stream",
     "text": [
      "['convert', 'a', 'string', 'of', 'a', 'list', 'of', 'characters']\n"
     ]
    }
   ],
   "source": [
    "print(list)"
   ]
  },
  {
   "cell_type": "markdown",
   "id": "b7e72cde-55fb-4960-95b4-aa56cc70c916",
   "metadata": {},
   "source": [
    "### 41. Check if two strings are anagrams."
   ]
  },
  {
   "cell_type": "code",
   "execution_count": 86,
   "id": "c13ca757-43f5-479e-aadf-cea5d99053bb",
   "metadata": {},
   "outputs": [
    {
     "name": "stdout",
     "output_type": "stream",
     "text": [
      "given two strings are anagrams\n"
     ]
    }
   ],
   "source": [
    "string_1='car'\n",
    "string_2='arc'\n",
    "if sorted(string_1) == sorted(string_2):\n",
    "    print('given two strings are anagrams')\n",
    "else:\n",
    "     print('given two strings are not anagrams')"
   ]
  },
  {
   "cell_type": "markdown",
   "id": "6077cff5-6062-4f14-bd79-9b6bb1a8d339",
   "metadata": {},
   "source": [
    "### 42. Encode a string using a Caesar cipher."
   ]
  },
  {
   "cell_type": "code",
   "execution_count": 94,
   "id": "02755d74-3eb5-45f0-bc48-ca902454efdb",
   "metadata": {},
   "outputs": [
    {
     "name": "stdout",
     "output_type": "stream",
     "text": [
      "ECGUGTEKRJGT\n"
     ]
    }
   ],
   "source": [
    "encode=[]\n",
    "code='CaeserCipher'\n",
    "shift=2\n",
    "for i in code :\n",
    "    if i.isalpha():\n",
    "        en=ord(i.upper())+shift\n",
    "        encode.append(chr(en))\n",
    "print(''.join(encode))"
   ]
  },
  {
   "cell_type": "markdown",
   "id": "dc0f6500-fdbd-484a-8604-35789c46ae91",
   "metadata": {},
   "source": [
    "### 43. Decode a Caesar cipher encoded string."
   ]
  },
  {
   "cell_type": "code",
   "execution_count": null,
   "id": "cd5cd6f6-2732-4a2f-8888-af6757af5b7f",
   "metadata": {},
   "outputs": [
    {
     "name": "stdout",
     "output_type": "stream",
     "text": [
      "CESERCIPHER\n"
     ]
    }
   ],
   "source": [
    "decode=[]\n",
    "code='ECGUGTEKRJGT'\n",
    "shift=2\n",
    "for i in code :\n",
    "    if i.isalpha():\n",
    "        en=ord(i.upper())-shift\n",
    "        decode.append(chr(en))\n",
    "print(''.join(decode))"
   ]
  },
  {
   "cell_type": "markdown",
   "id": "dadd8901-0462-4a52-894f-feadad25d660",
   "metadata": {},
   "source": [
    "### 44. Find the most frequent word in a string."
   ]
  },
  {
   "cell_type": "code",
   "execution_count": 100,
   "id": "0ee75041-bbd9-4fa3-a4e2-1519413e965a",
   "metadata": {},
   "outputs": [
    {
     "name": "stdout",
     "output_type": "stream",
     "text": [
      "most frequent word in this string is list\n"
     ]
    }
   ],
   "source": [
    "txt='list will show data and list will also stores data list'\n",
    "a=set(txt.split())\n",
    "max=1\n",
    "for i in a:\n",
    "    x=txt.count(i)\n",
    "    if x > max :\n",
    "        max=x\n",
    "        print('most frequent word in this string is',i)"
   ]
  },
  {
   "cell_type": "markdown",
   "id": "3d0130aa-bc0a-46fb-8c3e-1aed916f51dd",
   "metadata": {},
   "source": [
    "### 45. Find all unique words in a string."
   ]
  },
  {
   "cell_type": "code",
   "execution_count": 39,
   "id": "11092cd8-3cdb-4747-bf27-71981ae4d925",
   "metadata": {},
   "outputs": [],
   "source": [
    "txt='find all unique words in this all words string'"
   ]
  },
  {
   "cell_type": "code",
   "execution_count": 114,
   "id": "54256432-5239-4f7d-9a1a-aea3800e0098",
   "metadata": {},
   "outputs": [
    {
     "data": {
      "text/plain": [
       "{'also', 'and', 'data', 'list', 'show', 'stores', 'will'}"
      ]
     },
     "execution_count": 114,
     "metadata": {},
     "output_type": "execute_result"
    }
   ],
   "source": [
    "set(txt.split())"
   ]
  },
  {
   "cell_type": "markdown",
   "id": "51571293-5949-4261-b3a4-0e160d3de585",
   "metadata": {},
   "source": [
    "### 46. Count the number of syllables in a string."
   ]
  },
  {
   "cell_type": "code",
   "execution_count": 102,
   "id": "98ac5d8e-12b7-4eb8-857f-df2e162ee736",
   "metadata": {},
   "outputs": [
    {
     "name": "stdout",
     "output_type": "stream",
     "text": [
      "Collecting syllables\n",
      "  Downloading syllables-1.0.7-py3-none-any.whl (15 kB)\n",
      "Requirement already satisfied: importlib-metadata<6.0.0,>=5.1.0 in /opt/conda/lib/python3.10/site-packages (from syllables) (5.1.0)\n",
      "Collecting cmudict<2.0.0,>=1.0.11\n",
      "  Downloading cmudict-1.0.13-py3-none-any.whl (939 kB)\n",
      "\u001b[2K     \u001b[90m━━━━━━━━━━━━━━━━━━━━━━━━━━━━━━━━━━━━━━\u001b[0m \u001b[32m939.3/939.3 kB\u001b[0m \u001b[31m24.6 MB/s\u001b[0m eta \u001b[36m0:00:00\u001b[0m00:01\u001b[0m\n",
      "\u001b[?25hRequirement already satisfied: importlib-resources<6.0.0,>=5.10.1 in /opt/conda/lib/python3.10/site-packages (from cmudict<2.0.0,>=1.0.11->syllables) (5.10.1)\n",
      "Requirement already satisfied: zipp>=0.5 in /opt/conda/lib/python3.10/site-packages (from importlib-metadata<6.0.0,>=5.1.0->syllables) (3.11.0)\n",
      "Installing collected packages: cmudict, syllables\n",
      "Successfully installed cmudict-1.0.13 syllables-1.0.7\n",
      "Note: you may need to restart the kernel to use updated packages.\n"
     ]
    }
   ],
   "source": [
    "pip install syllables"
   ]
  },
  {
   "cell_type": "code",
   "execution_count": 103,
   "id": "b03ede8c-fb09-44b4-b924-93bcd99dfa38",
   "metadata": {},
   "outputs": [],
   "source": [
    "import syllables"
   ]
  },
  {
   "cell_type": "code",
   "execution_count": 104,
   "id": "13db60d8-d69d-4911-9998-e1967e3dc786",
   "metadata": {},
   "outputs": [
    {
     "data": {
      "text/plain": [
       "2"
      ]
     },
     "execution_count": 104,
     "metadata": {},
     "output_type": "execute_result"
    }
   ],
   "source": [
    "syllables.estimate('robot')"
   ]
  },
  {
   "cell_type": "markdown",
   "id": "efccf6f9-8f96-434b-99e7-7a6b1a8146d2",
   "metadata": {},
   "source": [
    "### 47. Check if a string contains any special characters."
   ]
  },
  {
   "cell_type": "code",
   "execution_count": 123,
   "id": "70301b1c-1892-4671-ae4d-1c61b6df8619",
   "metadata": {},
   "outputs": [
    {
     "name": "stdout",
     "output_type": "stream",
     "text": [
      "given string contains special characters\n"
     ]
    }
   ],
   "source": [
    "txt='testname@gmail.com'\n",
    "if not (txt.isnumeric() or txt.isalpha()):\n",
    "        print('given string contains special characters')\n",
    "else:\n",
    "        print('given string does not contains special characters')"
   ]
  },
  {
   "cell_type": "markdown",
   "id": "6d7c7ea7-eb50-4673-84bc-6a4bc1302cd1",
   "metadata": {},
   "source": [
    "### 48. Remove the nth word from a string."
   ]
  },
  {
   "cell_type": "code",
   "execution_count": 133,
   "id": "0af60e4a-b708-4cd3-9469-5206f3e67a04",
   "metadata": {},
   "outputs": [
    {
     "data": {
      "text/plain": [
       "'remove the  word from string'"
      ]
     },
     "execution_count": 133,
     "metadata": {},
     "output_type": "execute_result"
    }
   ],
   "source": [
    "txt='remove the nth word from string'\n",
    "position=3\n",
    "txt.replace (txt.split()[position-1],'')"
   ]
  },
  {
   "cell_type": "markdown",
   "id": "cdf480a3-e6ad-45d3-8cd8-12134e52e49d",
   "metadata": {},
   "source": [
    "### 49. Insert a word at the nth position in a string."
   ]
  },
  {
   "cell_type": "code",
   "execution_count": 151,
   "id": "4e372c55-882f-42dd-8206-961d5404cc0b",
   "metadata": {},
   "outputs": [
    {
     "name": "stdout",
     "output_type": "stream",
     "text": [
      "Insert a word at the nth position\n"
     ]
    }
   ],
   "source": [
    "txt='Insert a at the nth position'\n",
    "word='word'\n",
    "position=3\n",
    "new=list(txt.split())\n",
    "new.insert(\n",
    "    -1,word)\n",
    "new=' '.join(new)\n",
    "print(new)"
   ]
  },
  {
   "cell_type": "code",
   "execution_count": null,
   "id": "01e637b3-c09e-444e-9d5e-2972bc07d4aa",
   "metadata": {},
   "outputs": [],
   "source": [
    "list.insert"
   ]
  },
  {
   "cell_type": "markdown",
   "id": "26633b47-01c4-424a-9dc6-3112838c386f",
   "metadata": {},
   "source": [
    "### 50. Convert a CSV string to a list of lists."
   ]
  },
  {
   "cell_type": "code",
   "execution_count": 158,
   "id": "9e297878-25e4-4f0b-8c16-41705e4b7c95",
   "metadata": {},
   "outputs": [
    {
     "data": {
      "text/plain": [
       "[['He said', ''], ['what do you mean', ''], ['Newlines']]"
      ]
     },
     "execution_count": 158,
     "metadata": {},
     "output_type": "execute_result"
    }
   ],
   "source": [
    "csv ='He said,\\nwhat do you mean,\\nNewlines'\n",
    "txt = [i.split(',') for i in csv.strip().split('\\n')]\n",
    "txt"
   ]
  },
  {
   "cell_type": "markdown",
   "id": "e01cca71-10d9-4ab2-a31d-3d5b35d4bdf3",
   "metadata": {},
   "source": [
    "### List Based Practice Problem :"
   ]
  },
  {
   "cell_type": "markdown",
   "id": "8547ce67-25f7-4210-8c82-4c6bb472fd4a",
   "metadata": {},
   "source": [
    "### 1. Create a list with integers from 1 to 10."
   ]
  },
  {
   "cell_type": "code",
   "execution_count": 1,
   "id": "8a1ee9c8-cdec-4607-a18d-1423a50c2ffa",
   "metadata": {},
   "outputs": [
    {
     "data": {
      "text/plain": [
       "[1, 2, 3, 4, 5, 6, 7, 8, 9, 10]"
      ]
     },
     "execution_count": 1,
     "metadata": {},
     "output_type": "execute_result"
    }
   ],
   "source": [
    "lst=[x for x in range(1,11)]\n",
    "lst"
   ]
  },
  {
   "cell_type": "markdown",
   "id": "38606288-c46e-4ffe-9bdd-dc034cda42cf",
   "metadata": {},
   "source": [
    "### 2. Find the length of a list without using the `len()` function."
   ]
  },
  {
   "cell_type": "code",
   "execution_count": 50,
   "id": "50570630-1f02-4341-a8fa-0f994536366d",
   "metadata": {},
   "outputs": [],
   "source": [
    "lst=['find','the','length','of','a','list']"
   ]
  },
  {
   "cell_type": "code",
   "execution_count": 54,
   "id": "adcabaa4-1fe4-4dcb-a088-46bc616db099",
   "metadata": {},
   "outputs": [
    {
     "name": "stdout",
     "output_type": "stream",
     "text": [
      "6\n"
     ]
    }
   ],
   "source": [
    "count=0\n",
    "for i in lst:\n",
    "    count +=1\n",
    "print(count) "
   ]
  },
  {
   "cell_type": "markdown",
   "id": "04623f42-b071-4b5b-8d1f-5207000a79b4",
   "metadata": {},
   "source": [
    "### 3. Append an element to the end of a list."
   ]
  },
  {
   "cell_type": "code",
   "execution_count": 2,
   "id": "28a861f1-272b-4afc-9122-23a75e142824",
   "metadata": {},
   "outputs": [
    {
     "data": {
      "text/plain": [
       "['Append', 'an', 'element', 'to', 'the', 'end', 'of', 'a', 'list', 'appended']"
      ]
     },
     "execution_count": 2,
     "metadata": {},
     "output_type": "execute_result"
    }
   ],
   "source": [
    "lst=['Append', 'an', 'element', 'to', 'the', 'end', 'of', 'a', 'list']\n",
    "lst.append('appended')\n",
    "lst"
   ]
  },
  {
   "cell_type": "markdown",
   "id": "34127215-e037-4d23-94cf-ec6532f0399f",
   "metadata": {},
   "source": [
    "### 4. Insert an element at a specific index in a list."
   ]
  },
  {
   "cell_type": "code",
   "execution_count": 75,
   "id": "074a56bc-771c-4d14-94ab-def39a6dc161",
   "metadata": {},
   "outputs": [],
   "source": [
    "lst=['Insert', 'an', 'element', 'at', 'a', 'index', 'in', 'a', 'list']\n",
    "lst.insert(4,'specific')\n",
    "lst"
   ]
  },
  {
   "cell_type": "markdown",
   "id": "f75a8d45-a424-4838-ba48-7f2be5d2ea67",
   "metadata": {},
   "source": [
    "### 5. Remove an element from a list by its value."
   ]
  },
  {
   "cell_type": "code",
   "execution_count": 3,
   "id": "e419deec-586b-47aa-b1ac-2c0d4e0ebfac",
   "metadata": {},
   "outputs": [
    {
     "data": {
      "text/plain": [
       "['Remove', 'an', 'element', 'from', 'a', 'list', 'by', 'its', 'value']"
      ]
     },
     "execution_count": 3,
     "metadata": {},
     "output_type": "execute_result"
    }
   ],
   "source": [
    "lst=['Remove', 'an', 'element', 'from', 'a', 'list','extra', 'by', 'its', 'value']\n",
    "lst.remove('extra')\n",
    "lst"
   ]
  },
  {
   "cell_type": "markdown",
   "id": "a3e829a9-b88a-4fe3-ae03-ea564adc4f9e",
   "metadata": {},
   "source": [
    "### 6. Remove an element from a list by its index."
   ]
  },
  {
   "cell_type": "code",
   "execution_count": 4,
   "id": "9323e3a4-4220-4d9d-9fd5-c87f53709e8e",
   "metadata": {},
   "outputs": [
    {
     "data": {
      "text/plain": [
       "['Remove', 'an', 'element', 'from', 'a', 'list', 'by', 'its', 'index']"
      ]
     },
     "execution_count": 4,
     "metadata": {},
     "output_type": "execute_result"
    }
   ],
   "source": [
    "lst=['Remove', 'an', 'element', 'from', 'a', 'list','extra', 'by', 'its', 'index']\n",
    "lst.pop(6)\n",
    "lst"
   ]
  },
  {
   "cell_type": "markdown",
   "id": "b726c9b9-5e61-497b-b215-0310a379b94b",
   "metadata": {},
   "source": [
    "### 7. Check if an element exists in a list."
   ]
  },
  {
   "cell_type": "code",
   "execution_count": 5,
   "id": "66ed5ca7-9ca1-4291-a7fa-199b14c62a5f",
   "metadata": {},
   "outputs": [
    {
     "name": "stdout",
     "output_type": "stream",
     "text": [
      "Element does not exists in list\n"
     ]
    }
   ],
   "source": [
    "lst=['Check', 'if', 'an', 'element', 'exists', 'in', 'a', 'list']\n",
    "i ='elemen'\n",
    "if i in lst:\n",
    "    print('Element exists in list')\n",
    "else:\n",
    "    print('Element does not exists in list')"
   ]
  },
  {
   "cell_type": "markdown",
   "id": "f2d0975b-6f9b-4721-bc99-6799f06a196a",
   "metadata": {},
   "source": [
    "### 8. Find the index of the first occurrence of an element in a list."
   ]
  },
  {
   "cell_type": "code",
   "execution_count": 39,
   "id": "40b2fb31-5d97-4dd0-956e-78c46c663406",
   "metadata": {},
   "outputs": [],
   "source": [
    "lst=['in', 'list', ',','Find', 'the', 'index', 'of', 'the', 'first', 'occurrence', 'of', 'an', 'element', 'in', 'a', 'list']"
   ]
  },
  {
   "cell_type": "code",
   "execution_count": 31,
   "id": "cce435c4-a1a0-4fd0-b0c3-deae0602b244",
   "metadata": {},
   "outputs": [
    {
     "data": {
      "text/plain": [
       "1"
      ]
     },
     "execution_count": 31,
     "metadata": {},
     "output_type": "execute_result"
    }
   ],
   "source": [
    "lst.index('list')"
   ]
  },
  {
   "cell_type": "markdown",
   "id": "3e20ef7e-9211-4fad-9bad-881f3f9f58b9",
   "metadata": {},
   "source": [
    "### 9. Count the occurrences of an element in a list."
   ]
  },
  {
   "cell_type": "code",
   "execution_count": 40,
   "id": "0bb7b612-a954-4851-b0c1-6793fcd7216e",
   "metadata": {},
   "outputs": [],
   "source": [
    "lst=['in', 'list', ',','Find', 'the', 'index', 'of', 'the', 'first', 'occurrence', 'of', 'an', 'element', 'in', 'a', 'list']"
   ]
  },
  {
   "cell_type": "code",
   "execution_count": 42,
   "id": "0e587cf1-0132-4c67-8378-74695d17314c",
   "metadata": {},
   "outputs": [
    {
     "name": "stdout",
     "output_type": "stream",
     "text": [
      "in occur 2 times in list\n",
      "list occur 2 times in list\n",
      ", occur 1 times in list\n",
      "Find occur 1 times in list\n",
      "the occur 2 times in list\n",
      "index occur 1 times in list\n",
      "of occur 2 times in list\n",
      "the occur 2 times in list\n",
      "first occur 1 times in list\n",
      "occurrence occur 1 times in list\n",
      "of occur 2 times in list\n",
      "an occur 1 times in list\n",
      "element occur 1 times in list\n",
      "in occur 2 times in list\n",
      "a occur 1 times in list\n",
      "list occur 2 times in list\n"
     ]
    }
   ],
   "source": [
    "for i in lst:\n",
    "    print(i ,'occur',lst.count(i),'times in list')"
   ]
  },
  {
   "cell_type": "markdown",
   "id": "ec1ea849-798f-4fd4-baa4-1f40575e4a72",
   "metadata": {},
   "source": [
    "### 10. Reverse the order of elements in a list."
   ]
  },
  {
   "cell_type": "code",
   "execution_count": 8,
   "id": "6020c2d4-4ab1-4cc3-b13d-6649f602015b",
   "metadata": {},
   "outputs": [
    {
     "data": {
      "text/plain": [
       "['list', 'a', 'in', 'elements', 'of', 'order', 'the', 'Reverse']"
      ]
     },
     "execution_count": 8,
     "metadata": {},
     "output_type": "execute_result"
    }
   ],
   "source": [
    "lst=['Reverse', 'the', 'order', 'of', 'elements', 'in', 'a', 'list']\n",
    "lst.reverse()\n",
    "lst"
   ]
  },
  {
   "cell_type": "markdown",
   "id": "426c889c-a840-41d5-8c98-ac5533125574",
   "metadata": {},
   "source": [
    "### 11. Sort a list in ascending order."
   ]
  },
  {
   "cell_type": "code",
   "execution_count": 9,
   "id": "8098a221-490f-4a54-ac99-388c5084d390",
   "metadata": {},
   "outputs": [
    {
     "data": {
      "text/plain": [
       "[0, 1, 2, 3, 4, 5, 6, 7, 8, 9]"
      ]
     },
     "execution_count": 9,
     "metadata": {},
     "output_type": "execute_result"
    }
   ],
   "source": [
    "lst=[9,7,5,3,1,2,4,6,8,0]\n",
    "lst.sort()\n",
    "lst"
   ]
  },
  {
   "cell_type": "markdown",
   "id": "5bf86bb8-6862-413f-b376-a7254f828089",
   "metadata": {},
   "source": [
    "### 12. Sort a list in descending order."
   ]
  },
  {
   "cell_type": "code",
   "execution_count": 10,
   "id": "c1a1c734-27a0-46dd-a3bd-5deb67927732",
   "metadata": {},
   "outputs": [
    {
     "data": {
      "text/plain": [
       "[9, 8, 7, 6, 5, 4, 3, 2, 1, 0]"
      ]
     },
     "execution_count": 10,
     "metadata": {},
     "output_type": "execute_result"
    }
   ],
   "source": [
    "lst=[9,7,5,3,1,2,4,6,8,0]\n",
    "lst.sort(key=None,reverse=True)\n",
    "lst"
   ]
  },
  {
   "cell_type": "markdown",
   "id": "98bd2267-9074-4835-923a-24e0fadc25f5",
   "metadata": {},
   "source": [
    "### 13. Create a list of even numbers from 1 to 20."
   ]
  },
  {
   "cell_type": "code",
   "execution_count": 14,
   "id": "3c52a94e-499f-409e-9fe7-c39a4269b8e4",
   "metadata": {},
   "outputs": [
    {
     "data": {
      "text/plain": [
       "[0, 2, 4, 6, 8, 10, 12, 14, 16, 18]"
      ]
     },
     "execution_count": 14,
     "metadata": {},
     "output_type": "execute_result"
    }
   ],
   "source": [
    "lst=[]\n",
    "lst = [x for x in range(20) if x%2==0]\n",
    "lst"
   ]
  },
  {
   "cell_type": "markdown",
   "id": "a7204603-fc9d-42d8-845b-db6556551653",
   "metadata": {},
   "source": [
    "### 14. Create a list of odd numbers from 1 to 20."
   ]
  },
  {
   "cell_type": "code",
   "execution_count": 30,
   "id": "ade89a86-e896-44c0-bfd9-704b4fd9f3d6",
   "metadata": {},
   "outputs": [],
   "source": [
    "lst=[]"
   ]
  },
  {
   "cell_type": "code",
   "execution_count": 35,
   "id": "2df3ab8e-722a-45df-b9c6-c2588ee2ff1a",
   "metadata": {},
   "outputs": [
    {
     "data": {
      "text/plain": [
       "[1, 3, 5, 7, 9, 11, 13, 15, 17, 19]"
      ]
     },
     "execution_count": 35,
     "metadata": {},
     "output_type": "execute_result"
    }
   ],
   "source": [
    "lst = [x for x in range(20) if x%2!=0]\n",
    "lst"
   ]
  },
  {
   "cell_type": "markdown",
   "id": "f21f8335-3c70-4e27-8fa7-5a636f37290f",
   "metadata": {},
   "source": [
    "### 15. Find the sum of all elements in a list."
   ]
  },
  {
   "cell_type": "code",
   "execution_count": 18,
   "id": "26860daa-408f-4228-ab39-dcdb2c0b8c68",
   "metadata": {},
   "outputs": [
    {
     "name": "stdout",
     "output_type": "stream",
     "text": [
      "100\n"
     ]
    }
   ],
   "source": [
    "lst=[1, 3, 5, 7, 9, 11, 13, 15, 17, 19]\n",
    "\n",
    "print(sum(lst))"
   ]
  },
  {
   "cell_type": "markdown",
   "id": "2e28fe36-424e-4d2b-b760-3df556175c1d",
   "metadata": {},
   "source": [
    "### 16. Find the maximum value in a list."
   ]
  },
  {
   "cell_type": "code",
   "execution_count": 20,
   "id": "c4c4c3f8-82c1-49a8-8ed5-2e12deb90acb",
   "metadata": {},
   "outputs": [
    {
     "data": {
      "text/plain": [
       "19"
      ]
     },
     "execution_count": 20,
     "metadata": {},
     "output_type": "execute_result"
    }
   ],
   "source": [
    "lst=[1, 3, 5, 7, 9, 11, 15, 17, 19,14,12,13]\n",
    "max(lst)"
   ]
  },
  {
   "cell_type": "markdown",
   "id": "58545ae0-40c6-460f-a95f-e6adafabb254",
   "metadata": {},
   "source": [
    "### 17. Find the minimum value in a list."
   ]
  },
  {
   "cell_type": "code",
   "execution_count": 21,
   "id": "bbf00e24-57e7-4f24-95a5-caa84322d987",
   "metadata": {},
   "outputs": [
    {
     "data": {
      "text/plain": [
       "1"
      ]
     },
     "execution_count": 21,
     "metadata": {},
     "output_type": "execute_result"
    }
   ],
   "source": [
    "lst=[12, 3, 5, 7, 9, 11, 15, 17, 19,14,1,13]\n",
    "min(lst)"
   ]
  },
  {
   "cell_type": "markdown",
   "id": "e503715d-49d1-42e6-bbc1-5cc30b113a55",
   "metadata": {},
   "source": [
    "### 18. Create a list of squares of numbers from 1 to 10."
   ]
  },
  {
   "cell_type": "code",
   "execution_count": 23,
   "id": "54057729-b9f3-430f-8633-cdb6675e3ae5",
   "metadata": {},
   "outputs": [
    {
     "data": {
      "text/plain": [
       "[0, 1, 4, 9, 16, 25, 36, 49, 64, 81]"
      ]
     },
     "execution_count": 23,
     "metadata": {},
     "output_type": "execute_result"
    }
   ],
   "source": [
    "lst=[x*x for x in range(10)]\n",
    "lst"
   ]
  },
  {
   "cell_type": "markdown",
   "id": "319953a8-0276-463d-97ef-20bb0ea3773a",
   "metadata": {},
   "source": [
    "### 19. Create a list of random numbers."
   ]
  },
  {
   "cell_type": "code",
   "execution_count": 54,
   "id": "9e327381-554f-46ef-974a-1f5522809888",
   "metadata": {},
   "outputs": [
    {
     "name": "stdout",
     "output_type": "stream",
     "text": [
      "[4, 3, 5, 9, 0, 1, 7, 2, 5, 5]\n"
     ]
    }
   ],
   "source": [
    "import random\n",
    "lst=[]\n",
    "x=10\n",
    "for i in range(x):\n",
    "    lst.append(random.randint(0,9))\n",
    "print(lst)"
   ]
  },
  {
   "cell_type": "markdown",
   "id": "3f7141cf-7990-4042-834e-9939b4845e37",
   "metadata": {},
   "source": [
    "### 20. Remove duplicates from a list."
   ]
  },
  {
   "cell_type": "code",
   "execution_count": null,
   "id": "94cceb12-0bbc-4b30-aa97-53f5aff4fede",
   "metadata": {},
   "outputs": [
    {
     "data": {
      "text/plain": [
       "[1, 2, 3, 4, 5, 7, 8, 9]"
      ]
     },
     "execution_count": 129,
     "metadata": {},
     "output_type": "execute_result"
    }
   ],
   "source": [
    "lst=[5, 9, 1, 3, 2, 1, 8, 1, 4, 7,3,4]\n",
    "list(set(lst))"
   ]
  },
  {
   "cell_type": "markdown",
   "id": "364ae3d5-9e3e-4b3d-946e-da3948766c58",
   "metadata": {},
   "source": [
    "### 21. Find the common elements between two lists."
   ]
  },
  {
   "cell_type": "code",
   "execution_count": 26,
   "id": "4770b33c-61e2-4e74-9c4f-2b495b4c224e",
   "metadata": {},
   "outputs": [
    {
     "name": "stdout",
     "output_type": "stream",
     "text": [
      "[5, 7, 8, 9]\n"
     ]
    }
   ],
   "source": [
    "list_1=[ 5, 7, 8, 9] \n",
    "list_2=[1, 2, 3, 4, 5, 7, 8, 9]\n",
    "lst=[]\n",
    "\n",
    "lst = [i for i  in list_1 if i in list_2]\n",
    "\n",
    "print(lst)"
   ]
  },
  {
   "cell_type": "markdown",
   "id": "605fe703-6f2b-4d33-972c-92bec28fac28",
   "metadata": {},
   "source": [
    "### 22. Find the difference between two lists."
   ]
  },
  {
   "cell_type": "code",
   "execution_count": 10,
   "id": "9292187a-2d10-42f7-9530-c299a60dc8eb",
   "metadata": {},
   "outputs": [
    {
     "data": {
      "text/plain": [
       "[1, 2, 3, 4]"
      ]
     },
     "execution_count": 10,
     "metadata": {},
     "output_type": "execute_result"
    }
   ],
   "source": [
    "list_1=[ 5, 7, 8, 9]  \n",
    "list_2= [1, 2, 3, 4, 5, 7, 8, 9]\n",
    "lst=[]\n",
    "\n",
    "lst = list(set(list_1).symmetric_difference(set(list_2)))\n",
    "lst"
   ]
  },
  {
   "cell_type": "markdown",
   "id": "38e431eb-1495-4013-b466-be83febb9f23",
   "metadata": {},
   "source": [
    "### 23. Merge two lists."
   ]
  },
  {
   "cell_type": "code",
   "execution_count": 30,
   "id": "9f57079b-4996-4a12-a543-bdaf9a5cd921",
   "metadata": {},
   "outputs": [
    {
     "data": {
      "text/plain": [
       "[5, 7, 8, 9, 1, 2, 3, 4, 5, 7, 8, 9]"
      ]
     },
     "execution_count": 30,
     "metadata": {},
     "output_type": "execute_result"
    }
   ],
   "source": [
    "list_1=[ 5, 7, 8, 9]  \n",
    "list_2= [1, 2, 3, 4, 5, 7, 8, 9]\n",
    "lst=list_1+list_2\n",
    "lst"
   ]
  },
  {
   "cell_type": "markdown",
   "id": "4ecceb80-ea54-44a5-945c-e7b1ba8f3b2b",
   "metadata": {},
   "source": [
    "### 24. Multiply all elements in a list by 2."
   ]
  },
  {
   "cell_type": "code",
   "execution_count": 31,
   "id": "ca345e2e-9de5-47f6-875d-9249f6b5f356",
   "metadata": {},
   "outputs": [
    {
     "name": "stdout",
     "output_type": "stream",
     "text": [
      "[2, 4, 6, 8, 10, 14, 16, 18]\n"
     ]
    }
   ],
   "source": [
    "lst= [1, 2, 3, 4, 5, 7, 8, 9]\n",
    "lst=[x * 2 for x in lst]\n",
    "print(lst)"
   ]
  },
  {
   "cell_type": "markdown",
   "id": "b12029ac-8928-48bc-8a82-42b32e320685",
   "metadata": {},
   "source": [
    "### 25. Filter out all even numbers from a list."
   ]
  },
  {
   "cell_type": "code",
   "execution_count": 57,
   "id": "22f67d78-b73c-4337-ac05-5a9a9cf8ef21",
   "metadata": {},
   "outputs": [
    {
     "data": {
      "text/plain": [
       "[2, 4, 8, 10]"
      ]
     },
     "execution_count": 57,
     "metadata": {},
     "output_type": "execute_result"
    }
   ],
   "source": [
    "lst=[1, 2, 3, 4, 5, 7, 8, 9,10]\n",
    "lst=list(filter(lambda x:x%2==0,lst))\n",
    "lst"
   ]
  },
  {
   "cell_type": "markdown",
   "id": "75bc0a87-c1ae-4243-8dc6-e3d9c3979733",
   "metadata": {},
   "source": [
    "### 26. Convert a list of strings to a list of integers."
   ]
  },
  {
   "cell_type": "code",
   "execution_count": 65,
   "id": "7e076c63-b9f0-4a0e-965b-70f1e4f7094d",
   "metadata": {},
   "outputs": [
    {
     "data": {
      "text/plain": [
       "[1, 2, 3]"
      ]
     },
     "execution_count": 65,
     "metadata": {},
     "output_type": "execute_result"
    }
   ],
   "source": [
    "lst=['1','2','3']\n",
    "lst=[int(x) for x in lst]\n",
    "lst"
   ]
  },
  {
   "cell_type": "markdown",
   "id": "36da9adb-a463-445d-9fa6-764b290e162a",
   "metadata": {},
   "source": [
    "### 27. Convert a list of integers to a list of strings."
   ]
  },
  {
   "cell_type": "code",
   "execution_count": 67,
   "id": "34a54d33-f7bf-4984-a1b9-7ab1b56e2af1",
   "metadata": {},
   "outputs": [
    {
     "data": {
      "text/plain": [
       "['1', '2', '3', '4', '5', '7', '8', '9']"
      ]
     },
     "execution_count": 67,
     "metadata": {},
     "output_type": "execute_result"
    }
   ],
   "source": [
    "lst=[1, 2, 3, 4, 5, 7, 8, 9]\n",
    "lst=[str(x) for x in lst]\n",
    "lst"
   ]
  },
  {
   "cell_type": "markdown",
   "id": "81167699-b17a-4066-85ea-09e2b0dc683a",
   "metadata": {},
   "source": [
    "### 28. Flatten a nested list."
   ]
  },
  {
   "cell_type": "code",
   "execution_count": 64,
   "id": "899f5340-815f-4a78-a074-0277ce1a3c73",
   "metadata": {},
   "outputs": [
    {
     "name": "stdout",
     "output_type": "stream",
     "text": [
      "[1, 2, 3, 4, 5, 7, 8, 9, 10, 11, 12, 13]\n"
     ]
    }
   ],
   "source": [
    "lst=[[1, 2, 3, 4],[5, 7, 8, 9],[10,11,12,13]]\n",
    "\n",
    "lst = [y for x in lst for y in x]\n",
    "\n",
    "print(lst) "
   ]
  },
  {
   "cell_type": "markdown",
   "id": "f1ece007-e822-4f62-8087-9f8561275524",
   "metadata": {},
   "source": [
    "### 29. Create a list of the first 10 Fibonacci numbers."
   ]
  },
  {
   "cell_type": "code",
   "execution_count": 72,
   "id": "3581f47f-d387-49e4-847a-e65e211e6bcd",
   "metadata": {},
   "outputs": [
    {
     "name": "stdout",
     "output_type": "stream",
     "text": [
      "Fibonacci Series: 0 1 1 2 3 5 8 13 21 34 "
     ]
    }
   ],
   "source": [
    "num = 10\n",
    "n1, n2 = 0, 1\n",
    "print(\"Fibonacci Series:\", n1, n2, end=\" \")\n",
    "for i in range(2, num):\n",
    "    n3 = n1 + n2\n",
    "    n1 = n2\n",
    "    n2 = n3\n",
    "    print(n3, end=\" \")"
   ]
  },
  {
   "cell_type": "markdown",
   "id": "4afd42c6-e341-4268-b7a4-86d31b067d8a",
   "metadata": {},
   "source": [
    "### 30. Check if a list is sorted."
   ]
  },
  {
   "cell_type": "code",
   "execution_count": 86,
   "id": "6eaa24b1-26e9-4786-bb11-de2183425f55",
   "metadata": {},
   "outputs": [
    {
     "name": "stdout",
     "output_type": "stream",
     "text": [
      "list is not sorted\n"
     ]
    }
   ],
   "source": [
    "lst=[1, 2, 3, 4, 5, 7, 8,6]\n",
    "\n",
    "if lst==sorted(lst):\n",
    "    print('list is sorted')\n",
    "else:\n",
    "    print('list is not sorted')"
   ]
  },
  {
   "cell_type": "markdown",
   "id": "3e2c8076-17f4-4ea4-a210-408a0a551005",
   "metadata": {},
   "source": [
    "### 31. Rotate a list to the left by `n` positions."
   ]
  },
  {
   "cell_type": "code",
   "execution_count": 88,
   "id": "d6a6f1e1-ca2f-44e3-8f0b-f5619764a10d",
   "metadata": {},
   "outputs": [
    {
     "name": "stdin",
     "output_type": "stream",
     "text": [
      " 4\n"
     ]
    }
   ],
   "source": [
    "lst=[1, 2, 3, 4, 5, 7, 8]\n",
    "x=int(input())"
   ]
  },
  {
   "cell_type": "code",
   "execution_count": 89,
   "id": "ddf2eaad-ca1f-4cd5-8a3e-881cf5af45d5",
   "metadata": {},
   "outputs": [
    {
     "data": {
      "text/plain": [
       "[5, 7, 8, 1, 2, 3, 4]"
      ]
     },
     "execution_count": 89,
     "metadata": {},
     "output_type": "execute_result"
    }
   ],
   "source": [
    "lst[x:]+lst[:x]"
   ]
  },
  {
   "cell_type": "markdown",
   "id": "5c9fca6b-4d70-467c-9337-f7356b5d18da",
   "metadata": {},
   "source": [
    "### 32. Rotate a list to the right by `n` positions."
   ]
  },
  {
   "cell_type": "code",
   "execution_count": 90,
   "id": "ce875b9f-7968-4ff6-877a-f18cd3fcac1e",
   "metadata": {},
   "outputs": [
    {
     "name": "stdin",
     "output_type": "stream",
     "text": [
      " 4\n"
     ]
    }
   ],
   "source": [
    "lst=[1, 2, 3, 4, 5, 7, 8]\n",
    "x=int(input())"
   ]
  },
  {
   "cell_type": "code",
   "execution_count": 92,
   "id": "9b277ae8-590a-4a40-bd1f-df0fbeff17ac",
   "metadata": {},
   "outputs": [
    {
     "data": {
      "text/plain": [
       "[4, 5, 7, 8, 1, 2, 3]"
      ]
     },
     "execution_count": 92,
     "metadata": {},
     "output_type": "execute_result"
    }
   ],
   "source": [
    "lst[-x:]+lst[:-x]"
   ]
  },
  {
   "cell_type": "markdown",
   "id": "ab9e527a-c99f-4c4a-bee1-dbbc131f76ff",
   "metadata": {},
   "source": [
    "### 33. Create a list of prime numbers up to 50."
   ]
  },
  {
   "cell_type": "code",
   "execution_count": 95,
   "id": "fca393cd-3f5b-4570-a1b1-edeb35207ff2",
   "metadata": {},
   "outputs": [
    {
     "name": "stdout",
     "output_type": "stream",
     "text": [
      "[2, 3, 5, 7, 11, 13, 17, 19, 23, 29, 31, 37, 41, 43, 47]\n"
     ]
    }
   ],
   "source": [
    "def prime_number(num):\n",
    "    if num < 2:\n",
    "        return False\n",
    "    for i in range(2, int(num**0.5) +1):\n",
    "        if num% i == 0:\n",
    "            return False\n",
    "    return True\n",
    "\n",
    "primenumber = [num for num in range(2,51) if prime_number(num)]\n",
    "\n",
    "print(primenumber)"
   ]
  },
  {
   "cell_type": "markdown",
   "id": "d4138930-0e04-41b4-aebc-acdb23f97744",
   "metadata": {},
   "source": [
    "### 34. Split a list into chunks of size `n`."
   ]
  },
  {
   "cell_type": "code",
   "execution_count": 108,
   "id": "54d1a836-3509-4b4c-af24-874bb27cc59d",
   "metadata": {},
   "outputs": [
    {
     "name": "stdout",
     "output_type": "stream",
     "text": [
      "Original list [1, 2, 3, 4, 5, 6, 7, 8, 9]\n",
      "Chunk list [[1, 2, 3], [4, 5, 6], [7, 8, 9]]\n"
     ]
    }
   ],
   "source": [
    "lst = [1, 2, 3, 4, 5, 6, 7, 8, 9]\n",
    "chunk_size = 3 \n",
    "\n",
    "chunk_list=[lst[i:i + chunk_size] for i in range(0,len(lst), chunk_size)]\n",
    "\n",
    "print('Original list', lst)\n",
    "\n",
    "print('Chunk list', chunk_list)"
   ]
  },
  {
   "cell_type": "markdown",
   "id": "f9959313-5b7a-4d68-862c-e9610deb8c87",
   "metadata": {},
   "source": [
    "### 35. Find the second largest number in a list."
   ]
  },
  {
   "cell_type": "code",
   "execution_count": 11,
   "id": "0626db76-9568-49b0-855f-ee9cf6760b37",
   "metadata": {},
   "outputs": [
    {
     "data": {
      "text/plain": [
       "7"
      ]
     },
     "execution_count": 11,
     "metadata": {},
     "output_type": "execute_result"
    }
   ],
   "source": [
    "lst=[1, 3, 4,2, 5, 7, 8]\n",
    "lst.sort()\n",
    "lst[-2]"
   ]
  },
  {
   "cell_type": "markdown",
   "id": "35b306a0-72c5-40c7-9891-103fd5ae5427",
   "metadata": {},
   "source": [
    "### 36. Replace every element in a list with its square."
   ]
  },
  {
   "cell_type": "code",
   "execution_count": 17,
   "id": "1ee0885a-b335-4df3-8db9-5237fe62013f",
   "metadata": {},
   "outputs": [
    {
     "data": {
      "text/plain": [
       "[1, 4, 9, 16, 25, 49, 64]"
      ]
     },
     "execution_count": 17,
     "metadata": {},
     "output_type": "execute_result"
    }
   ],
   "source": [
    "lst=[1, 2, 3, 4, 5, 7, 8] \n",
    "lst=[x*x for x in lst]\n",
    "lst"
   ]
  },
  {
   "cell_type": "markdown",
   "id": "de52d935-41ce-4af6-96c8-796baa6db582",
   "metadata": {},
   "source": [
    "### 37. Convert a list to a dictionary where list elements become keys and their indices become values."
   ]
  },
  {
   "cell_type": "code",
   "execution_count": 109,
   "id": "b71cd839-51fb-4c15-b119-29931ffebdab",
   "metadata": {},
   "outputs": [
    {
     "name": "stdout",
     "output_type": "stream",
     "text": [
      "{0: 1, 1: 2, 2: 3, 3: 4, 4: 5, 5: 7, 6: 8}\n"
     ]
    }
   ],
   "source": [
    "lst=[1, 2, 3, 4, 5, 7, 8] \n",
    "\n",
    "dic= {keys: values for keys , values in enumerate(lst)}\n",
    "\n",
    "print(dic)"
   ]
  },
  {
   "cell_type": "markdown",
   "id": "4c650ee4-3e7b-4971-9d79-6766626f3612",
   "metadata": {},
   "source": [
    "### 38. Shuffle the elements of a list randomly."
   ]
  },
  {
   "cell_type": "code",
   "execution_count": 5,
   "id": "344b0e9f-8617-49c7-9091-cd94c3a83957",
   "metadata": {},
   "outputs": [
    {
     "name": "stdout",
     "output_type": "stream",
     "text": [
      "[4, 5, 2, 3, 7, 1, 8]\n"
     ]
    }
   ],
   "source": [
    "import random\n",
    "lst=[1, 2, 3, 4, 5, 7, 8] \n",
    "random.shuffle(lst)\n",
    "print(lst)"
   ]
  },
  {
   "cell_type": "markdown",
   "id": "588273d5-812d-4c6e-82af-dd903f266175",
   "metadata": {},
   "source": [
    "### 39. Create a list of the first 10 factorial numbers."
   ]
  },
  {
   "cell_type": "code",
   "execution_count": 113,
   "id": "fde14324-ab48-47cc-b64c-57dbf7287300",
   "metadata": {},
   "outputs": [
    {
     "data": {
      "text/plain": [
       "[1, 1, 2, 6, 24, 120, 720, 5040, 40320, 362880]"
      ]
     },
     "execution_count": 113,
     "metadata": {},
     "output_type": "execute_result"
    }
   ],
   "source": [
    "def factorial(n):\n",
    "    if n==0:\n",
    "        return 1\n",
    "    result=1\n",
    "    for i in range(1,n+1):\n",
    "        result*=i\n",
    "    return result\n",
    "\n",
    "fac=[factorial(i) for i in range(10)]\n",
    "fac"
   ]
  },
  {
   "cell_type": "markdown",
   "id": "a7093a0f-3179-4b4b-aa55-95eae3065562",
   "metadata": {},
   "source": [
    "### 40. Check if two lists have at least one element in common."
   ]
  },
  {
   "cell_type": "code",
   "execution_count": 141,
   "id": "8b910132-64bc-4d72-8892-1ef1a7a6f92d",
   "metadata": {},
   "outputs": [
    {
     "name": "stdout",
     "output_type": "stream",
     "text": [
      "The lists does not have atleast one common element\n"
     ]
    }
   ],
   "source": [
    "def common_element(lst1, lst2):\n",
    "    for i in lst1:\n",
    "        for j in lst2:\n",
    "            if i == j:\n",
    "                return True\n",
    "    return False\n",
    "\n",
    "lst1 = [1, 2, 3, 4, 5]\n",
    "lst2 = [ 6, 7, 8]\n",
    "\n",
    "if common_element(lst1, lst2):\n",
    "    print('The lists have at least one common element')\n",
    "else:\n",
    "    print('The lists does not have atleast one common element')\n"
   ]
  },
  {
   "cell_type": "markdown",
   "id": "1a73376b-6487-49fd-b0cc-b82de316ae35",
   "metadata": {},
   "source": [
    "### 41. Remove all elements from a list."
   ]
  },
  {
   "cell_type": "code",
   "execution_count": 91,
   "id": "3cdc572e-e61e-4826-8b89-72b91d2fa810",
   "metadata": {},
   "outputs": [
    {
     "data": {
      "text/plain": [
       "[]"
      ]
     },
     "execution_count": 91,
     "metadata": {},
     "output_type": "execute_result"
    }
   ],
   "source": [
    "lst=[1, 2, 3, 4] \n",
    "lst.clear()\n",
    "lst"
   ]
  },
  {
   "cell_type": "markdown",
   "id": "611ded45-a97b-409e-b184-f5e277862001",
   "metadata": {},
   "source": [
    "### 42. Replace negative numbers in a list with 0."
   ]
  },
  {
   "cell_type": "code",
   "execution_count": 9,
   "id": "7e0b9805-5cb7-4d7b-a4a1-c35f59c5a077",
   "metadata": {},
   "outputs": [
    {
     "name": "stdout",
     "output_type": "stream",
     "text": [
      "[1, 2, 3, 0, 5, 0, 8]\n"
     ]
    }
   ],
   "source": [
    "lst=[1, 2, 3, -4, 5, -7, 8] \n",
    "lst1=[]\n",
    "for i in lst:\n",
    "    if i<0:\n",
    "        x=lst.index(i)\n",
    "        lst[x]=0\n",
    "print(lst)"
   ]
  },
  {
   "cell_type": "markdown",
   "id": "325748db-fa70-45c7-9ae1-bc6d9d0838e1",
   "metadata": {},
   "source": [
    "### 43. Convert a string into a list of words."
   ]
  },
  {
   "cell_type": "code",
   "execution_count": 13,
   "id": "4e6c4abd-0420-4cc7-be02-efac597e580c",
   "metadata": {},
   "outputs": [
    {
     "data": {
      "text/plain": [
       "['Convert', 'a', 'string', 'into', 'a', 'list', 'of', 'words']"
      ]
     },
     "execution_count": 13,
     "metadata": {},
     "output_type": "execute_result"
    }
   ],
   "source": [
    "string=' Convert a string into a list of words'\n",
    "lst=list(string.split())\n",
    "lst"
   ]
  },
  {
   "cell_type": "markdown",
   "id": "5f0a8770-ecfc-4502-9968-ae2174b30644",
   "metadata": {},
   "source": [
    "### 44. Convert a list of words into a string.\n"
   ]
  },
  {
   "cell_type": "code",
   "execution_count": 22,
   "id": "6e5f5fc6-d025-4d6e-a216-495d582a7184",
   "metadata": {},
   "outputs": [
    {
     "data": {
      "text/plain": [
       "'Convert a string into a list of words'"
      ]
     },
     "execution_count": 22,
     "metadata": {},
     "output_type": "execute_result"
    }
   ],
   "source": [
    "lst=['Convert', 'a', 'string', 'into', 'a', 'list', 'of', 'words']\n",
    "str=' '.join(lst)\n",
    "str"
   ]
  },
  {
   "cell_type": "markdown",
   "id": "24cf3c63-3b34-4976-bab0-350d3f16236f",
   "metadata": {},
   "source": [
    "### 45. Create a list of the first `n` powers of 2."
   ]
  },
  {
   "cell_type": "code",
   "execution_count": 147,
   "id": "4b8dd6b0-0482-40e8-9529-27fbf58028dc",
   "metadata": {},
   "outputs": [
    {
     "data": {
      "text/plain": [
       "[0, 1, 4, 9, 16, 25, 36, 49, 64, 81]"
      ]
     },
     "execution_count": 147,
     "metadata": {},
     "output_type": "execute_result"
    }
   ],
   "source": [
    "n=10\n",
    "powers = [i**2 for i in range(n)]\n",
    "powers"
   ]
  },
  {
   "cell_type": "markdown",
   "id": "d7fda062-802a-4035-a3fa-eb4eb495b861",
   "metadata": {},
   "source": [
    "### 46. Find the longest string in a list of strings."
   ]
  },
  {
   "cell_type": "code",
   "execution_count": 148,
   "id": "15dcfce5-089e-4369-b1d8-59c1ac5f63c8",
   "metadata": {},
   "outputs": [
    {
     "name": "stdout",
     "output_type": "stream",
     "text": [
      "the longest string in a list of string is longest\n"
     ]
    }
   ],
   "source": [
    "lst=['Find', 'the', 'longest', 'string', 'in', 'a', 'list', 'of', 'string']\n",
    "maximum=1\n",
    "for i in lst:\n",
    "    x=len(i)\n",
    "    if x>maximum:\n",
    "        maximum=x\n",
    "        index=lst.index(i)\n",
    "print('the longest string in a list of string is',lst[index])"
   ]
  },
  {
   "cell_type": "markdown",
   "id": "25f5d617-e4d7-4096-a9d9-f5e70a373a98",
   "metadata": {},
   "source": [
    "### 47. Find the shortest string in a list of strings."
   ]
  },
  {
   "cell_type": "code",
   "execution_count": 151,
   "id": "66dbac0e-aeee-4475-9a10-d329d98d374e",
   "metadata": {},
   "outputs": [
    {
     "name": "stdout",
     "output_type": "stream",
     "text": [
      "the shortest string in a list of string is a\n"
     ]
    }
   ],
   "source": [
    "lst=['Find', 'the', 'shortest', 'string', 'in', 'a', 'list', 'of', 'string']\n",
    "maximum=1\n",
    "for i in lst:\n",
    "    x=len(i)\n",
    "    if x<=maximum:\n",
    "        maximum=x\n",
    "        index=lst.index(i)\n",
    "print('the shortest string in a list of string is',lst[index])"
   ]
  },
  {
   "cell_type": "markdown",
   "id": "5821ea36-54c4-48eb-84d5-f3b46f513500",
   "metadata": {},
   "source": [
    "### 48. Create a list of the first `n` triangular numbers.\n"
   ]
  },
  {
   "cell_type": "code",
   "execution_count": 153,
   "id": "2f57dda5-90c9-4f8d-8271-2283f3d35257",
   "metadata": {},
   "outputs": [
    {
     "name": "stdout",
     "output_type": "stream",
     "text": [
      "[1, 3, 6, 10, 15]\n"
     ]
    }
   ],
   "source": [
    "n = 5 \n",
    "\n",
    "triangular_numbers = [(i * (i + 1)) // 2 for i in range(1, n + 1)]\n",
    "\n",
    "print(triangular_numbers)"
   ]
  },
  {
   "cell_type": "markdown",
   "id": "8ab4f896-52aa-4a78-a8bc-f9190f75534a",
   "metadata": {},
   "source": [
    "### 49. Check if a list contains another list as a subsequence."
   ]
  },
  {
   "cell_type": "code",
   "execution_count": 158,
   "id": "cd43aeea-607d-4495-91b2-26ced1497199",
   "metadata": {},
   "outputs": [
    {
     "name": "stdout",
     "output_type": "stream",
     "text": [
      "list does not contains anthore list as s subsequence\n"
     ]
    }
   ],
   "source": [
    "list1 = [1, 2, 3, 4, 5, 6, 7]\n",
    "list2 = [7,8,9]\n",
    "\n",
    "if all(i in list1 for i in list2):\n",
    "    print('list contains anthore list as s subsequence')\n",
    "else:\n",
    "    print('list does not contains anthore list as s subsequence')"
   ]
  },
  {
   "cell_type": "markdown",
   "id": "22426ae2-fdfb-4939-93e4-8a1054c658d9",
   "metadata": {},
   "source": [
    "### 50. Swap two elements in a list by their indices."
   ]
  },
  {
   "cell_type": "code",
   "execution_count": 161,
   "id": "5b30e841-7449-46a6-ae2f-579123d7249a",
   "metadata": {},
   "outputs": [
    {
     "name": "stdin",
     "output_type": "stream",
     "text": [
      " 1\n",
      " 3\n"
     ]
    }
   ],
   "source": [
    "lst=[1, 2, 3, 4, 5, 6, 7]\n",
    "a=int(input())\n",
    "b=int(input())"
   ]
  },
  {
   "cell_type": "code",
   "execution_count": 162,
   "id": "3e8f02f1-7c5b-403e-812f-8134818af8cc",
   "metadata": {},
   "outputs": [
    {
     "data": {
      "text/plain": [
       "[1, 4, 3, 2, 5, 6, 7]"
      ]
     },
     "execution_count": 162,
     "metadata": {},
     "output_type": "execute_result"
    }
   ],
   "source": [
    "x,y=lst[a],lst[b]\n",
    "lst[a]=y\n",
    "lst[b]=x\n",
    "lst"
   ]
  },
  {
   "cell_type": "markdown",
   "id": "a3378291-40b7-41a2-9a52-70976eb86d9d",
   "metadata": {},
   "source": [
    "### Tuple Based Practice Problem :"
   ]
  },
  {
   "cell_type": "markdown",
   "id": "8ee0b5f2-c115-4cc9-8204-235e2a387c82",
   "metadata": {},
   "source": [
    "### 1. Create a tuple with integers from 1 to 5."
   ]
  },
  {
   "cell_type": "code",
   "execution_count": 124,
   "id": "80657ab5-f6ad-4fae-be97-5f2662ef9735",
   "metadata": {},
   "outputs": [
    {
     "data": {
      "text/plain": [
       "tuple"
      ]
     },
     "execution_count": 124,
     "metadata": {},
     "output_type": "execute_result"
    }
   ],
   "source": [
    "tup=(1,2,3,4,5)\n",
    "type(string)"
   ]
  },
  {
   "cell_type": "markdown",
   "id": "7957fed8-5e91-4759-ad16-5527dc48e265",
   "metadata": {},
   "source": [
    "### 2. Access the third element of a tuple."
   ]
  },
  {
   "cell_type": "code",
   "execution_count": 130,
   "id": "8979b0f3-6dad-4b8a-9a87-bf086adf2466",
   "metadata": {},
   "outputs": [
    {
     "data": {
      "text/plain": [
       "'third'"
      ]
     },
     "execution_count": 130,
     "metadata": {},
     "output_type": "execute_result"
    }
   ],
   "source": [
    "tup=('access','the','third','element','of','a','tuple')\n",
    "tup[2]"
   ]
  },
  {
   "cell_type": "markdown",
   "id": "93951e0f-2fac-4c0e-9515-f4642511d0e3",
   "metadata": {},
   "source": [
    "### 3. Find the length of a tuple without using the `len()` function."
   ]
  },
  {
   "cell_type": "code",
   "execution_count": 147,
   "id": "ce7ee6f5-c209-4c27-8309-0f675c3a23e9",
   "metadata": {},
   "outputs": [
    {
     "name": "stdout",
     "output_type": "stream",
     "text": [
      "6\n"
     ]
    }
   ],
   "source": [
    "tup=('Find','the','length','of','a','tuple')\n",
    "x=0\n",
    "for i in tup:\n",
    "    x=x+tup.count(i)\n",
    "print(x)"
   ]
  },
  {
   "cell_type": "markdown",
   "id": "d5249545-a9a4-487f-b980-c4d2cac5f45c",
   "metadata": {},
   "source": [
    "### 4. Count the occurrences of an element in a tuple."
   ]
  },
  {
   "cell_type": "code",
   "execution_count": 5,
   "id": "e19c3591-e8cd-43b5-ba2c-0c66be9bf3f2",
   "metadata": {},
   "outputs": [
    {
     "name": "stdout",
     "output_type": "stream",
     "text": [
      "Count occur 1 times in tuple\n",
      "the occur 2 times in tuple\n",
      "occurrences occur 1 times in tuple\n",
      "of occur 1 times in tuple\n",
      "an occur 1 times in tuple\n",
      "element occur 1 times in tuple\n",
      "in occur 1 times in tuple\n",
      "the occur 2 times in tuple\n",
      "tuple occur 1 times in tuple\n"
     ]
    }
   ],
   "source": [
    "tup=('Count', 'the', 'occurrences', 'of', 'an', 'element', 'in', 'the', 'tuple')\n",
    "for i in tup:\n",
    "    print(i ,'occur',tup.count(i),'times in tuple')"
   ]
  },
  {
   "cell_type": "markdown",
   "id": "b2a7e553-0588-4087-b5dd-2f6ba256c4be",
   "metadata": {},
   "source": [
    "### 5. Find the index of the first occurrence of an element in a tuple."
   ]
  },
  {
   "cell_type": "code",
   "execution_count": 13,
   "id": "bf472aab-a9c4-47ee-a08e-710f69306a77",
   "metadata": {},
   "outputs": [
    {
     "name": "stdout",
     "output_type": "stream",
     "text": [
      "the first occureence of Count is at 0 index\n",
      "the first occureence of the is at 1 index\n",
      "the first occureence of occurrences is at 2 index\n",
      "the first occureence of of is at 3 index\n",
      "the first occureence of an is at 4 index\n",
      "the first occureence of element is at 5 index\n",
      "the first occureence of in is at 6 index\n",
      "the first occureence of the is at 1 index\n",
      "the first occureence of tuple is at 8 index\n"
     ]
    }
   ],
   "source": [
    "tup=('Count', 'the', 'occurrences', 'of', 'an', 'element', 'in', 'the', 'tuple')\n",
    "for i in tup:\n",
    "    print(f'the first occureence of {i} is at {tup.index(i)} index')"
   ]
  },
  {
   "cell_type": "markdown",
   "id": "b932c2b2-0c07-4295-b3e8-5ee53489bb7b",
   "metadata": {},
   "source": [
    "### 6. Check if an element exists in a tuple."
   ]
  },
  {
   "cell_type": "code",
   "execution_count": 20,
   "id": "bea712cb-2790-4114-bf3f-54be0e515ae3",
   "metadata": {},
   "outputs": [
    {
     "name": "stdout",
     "output_type": "stream",
     "text": [
      "Element exists in this tuple\n"
     ]
    }
   ],
   "source": [
    "tup=('Check', 'if', 'an', 'element', 'exists', 'in', 'a', 'tuple')\n",
    "i='if'\n",
    "if i in tup:\n",
    "    print('Element exists in this tuple')\n",
    "else:\n",
    "    print('Element does not exists in  this tuple')"
   ]
  },
  {
   "cell_type": "markdown",
   "id": "278ef634-9dff-48b9-930a-c3f96c8d962c",
   "metadata": {},
   "source": [
    "### 7. Convert a tuple to a list."
   ]
  },
  {
   "cell_type": "code",
   "execution_count": 25,
   "id": "d306117f-5771-433b-bc14-934dd02ec2c0",
   "metadata": {},
   "outputs": [
    {
     "data": {
      "text/plain": [
       "['Convert', 'a', 'tuple', 'to', 'a', 'list']"
      ]
     },
     "execution_count": 25,
     "metadata": {},
     "output_type": "execute_result"
    }
   ],
   "source": [
    "tup=('Convert', 'a', 'tuple', 'to', 'a', 'list')\n",
    "list(tup)"
   ]
  },
  {
   "cell_type": "markdown",
   "id": "5bcd436b-3101-4c54-8104-4f479144a27c",
   "metadata": {},
   "source": [
    "### 8. Convert a list to a tuple"
   ]
  },
  {
   "cell_type": "code",
   "execution_count": 27,
   "id": "31428eb6-2139-4b17-8f5c-72ee0c8a6cee",
   "metadata": {},
   "outputs": [
    {
     "data": {
      "text/plain": [
       "('Convert', 'a', 'list', 'to', 'a', 'tuple')"
      ]
     },
     "execution_count": 27,
     "metadata": {},
     "output_type": "execute_result"
    }
   ],
   "source": [
    "lst=['Convert', 'a', 'list', 'to', 'a', 'tuple']\n",
    "tuple(lst)"
   ]
  },
  {
   "cell_type": "markdown",
   "id": "be7af9b9-ac96-48f5-9571-58e773544f91",
   "metadata": {},
   "source": [
    "### 9. Unpack the elements of a tuple into variables."
   ]
  },
  {
   "cell_type": "code",
   "execution_count": 18,
   "id": "ce73ad79-e5b6-4151-82c3-81d5d05a3a73",
   "metadata": {},
   "outputs": [
    {
     "name": "stdout",
     "output_type": "stream",
     "text": [
      "99 55 77\n"
     ]
    }
   ],
   "source": [
    "new = (99,55,77)\n",
    "\n",
    "a,b,c =new\n",
    "\n",
    "print(a,b,c)"
   ]
  },
  {
   "cell_type": "markdown",
   "id": "10b1e2a2-f897-4033-a7ab-927f0c056cd6",
   "metadata": {},
   "source": [
    "### 10. Create a tuple of even numbers from 1 to 10."
   ]
  },
  {
   "cell_type": "code",
   "execution_count": 41,
   "id": "e3b60df2-3531-4ee9-bb30-9a776d2320e6",
   "metadata": {},
   "outputs": [
    {
     "data": {
      "text/plain": [
       "(1, 2, 3, 4, 5, 6, 7, 8, 9)"
      ]
     },
     "execution_count": 41,
     "metadata": {},
     "output_type": "execute_result"
    }
   ],
   "source": [
    "tup=()\n",
    "lst=[]\n",
    "for i in range(1,10):\n",
    "    lst.insert(i,i)\n",
    "    tup=tuple(lst)\n",
    "tup"
   ]
  },
  {
   "cell_type": "markdown",
   "id": "208a0360-5ab7-468d-8561-b36b84242ba5",
   "metadata": {},
   "source": [
    "### 11. Create a tuple of odd numbers from 1 to 10."
   ]
  },
  {
   "cell_type": "code",
   "execution_count": 43,
   "id": "45584173-bb87-471b-87dc-1cb2f983ec61",
   "metadata": {},
   "outputs": [
    {
     "data": {
      "text/plain": [
       "(1, 3, 5, 7, 9)"
      ]
     },
     "execution_count": 43,
     "metadata": {},
     "output_type": "execute_result"
    }
   ],
   "source": [
    "tup=()\n",
    "lst=[]\n",
    "for i in range(1,10):\n",
    "    if i%2!=0:\n",
    "        lst.insert(i,i)\n",
    "        tup=tuple(lst)\n",
    "tup"
   ]
  },
  {
   "cell_type": "markdown",
   "id": "a4e7c0e3-4df7-4ac4-aa99-5c2985f1d31e",
   "metadata": {},
   "source": [
    "### 12. Concatenate two tuples."
   ]
  },
  {
   "cell_type": "code",
   "execution_count": 47,
   "id": "f110d715-5520-40dd-ac06-73f955a0a8ee",
   "metadata": {},
   "outputs": [
    {
     "data": {
      "text/plain": [
       "(1, 2, 3, 4, 5, 6, 7, 8)"
      ]
     },
     "execution_count": 47,
     "metadata": {},
     "output_type": "execute_result"
    }
   ],
   "source": [
    "tup1=(1,2,3,4)\n",
    "tup2=(5,6,7,8)\n",
    "tup1+tup2"
   ]
  },
  {
   "cell_type": "markdown",
   "id": "4773ab06-cf8b-4960-a6ec-ec1b73be3ad3",
   "metadata": {},
   "source": [
    "### 13. Repeat a tuple three times."
   ]
  },
  {
   "cell_type": "code",
   "execution_count": 50,
   "id": "2dee0915-2776-4455-b552-8d52873d1e4b",
   "metadata": {},
   "outputs": [
    {
     "data": {
      "text/plain": [
       "(1, 2, 3, 4, 1, 2, 3, 4, 1, 2, 3, 4)"
      ]
     },
     "execution_count": 50,
     "metadata": {},
     "output_type": "execute_result"
    }
   ],
   "source": [
    "tup=(1,2,3,4)\n",
    "tup=tup*3\n",
    "tup"
   ]
  },
  {
   "cell_type": "markdown",
   "id": "12ba272c-6b1f-40b7-a7d9-82b850600a59",
   "metadata": {},
   "source": [
    "### 14. Check if a tuple is empty."
   ]
  },
  {
   "cell_type": "code",
   "execution_count": 89,
   "id": "2978534b-1fa6-4bfd-8ec5-0d74b50465db",
   "metadata": {},
   "outputs": [
    {
     "name": "stdout",
     "output_type": "stream",
     "text": [
      "tuple is empty\n"
     ]
    }
   ],
   "source": [
    "tup=()\n",
    "if len(tup)==0:\n",
    "    print('tuple is empty')\n",
    "else:\n",
    "    print('tuple has values')"
   ]
  },
  {
   "cell_type": "markdown",
   "id": "4498e527-c8a5-4142-8a82-875c20a424fa",
   "metadata": {},
   "source": [
    "### 15. Create a nested tuple."
   ]
  },
  {
   "cell_type": "code",
   "execution_count": 91,
   "id": "bd813bb0-01b4-41ec-a664-d2829168033f",
   "metadata": {},
   "outputs": [
    {
     "data": {
      "text/plain": [
       "((1, 2), (3, 4))"
      ]
     },
     "execution_count": 91,
     "metadata": {},
     "output_type": "execute_result"
    }
   ],
   "source": [
    "tup=((1,2),(3,4))\n",
    "tup"
   ]
  },
  {
   "cell_type": "markdown",
   "id": "4abc7bf0-c05a-44ba-a0ee-e6f23a192e41",
   "metadata": {},
   "source": [
    "### 16. Access the first element of a nested tuple."
   ]
  },
  {
   "cell_type": "code",
   "execution_count": 96,
   "id": "7b39c5d0-4293-4cff-a73f-ca8f2046eaa7",
   "metadata": {},
   "outputs": [
    {
     "data": {
      "text/plain": [
       "1"
      ]
     },
     "execution_count": 96,
     "metadata": {},
     "output_type": "execute_result"
    }
   ],
   "source": [
    "tup=((1,2),(3,4),(5,6))\n",
    "tup[0][0]"
   ]
  },
  {
   "cell_type": "markdown",
   "id": "d0af0a37-a75d-49bf-b6c2-656a5fc901f2",
   "metadata": {},
   "source": [
    "### 17. Create a tuple with a single element."
   ]
  },
  {
   "cell_type": "code",
   "execution_count": 17,
   "id": "69b61390-3e99-4587-9dbf-98461c11a527",
   "metadata": {},
   "outputs": [
    {
     "name": "stdout",
     "output_type": "stream",
     "text": [
      "(1,)\n"
     ]
    }
   ],
   "source": [
    "tup = (1,)\n",
    "\n",
    "print(tup)"
   ]
  },
  {
   "cell_type": "markdown",
   "id": "4a5b8efd-209b-4981-af0b-093ed4b83313",
   "metadata": {},
   "source": [
    "### 18. Compare two tuples."
   ]
  },
  {
   "cell_type": "code",
   "execution_count": 104,
   "id": "7d24a1a1-1ca1-4822-8e17-04fada4bf464",
   "metadata": {},
   "outputs": [
    {
     "name": "stdout",
     "output_type": "stream",
     "text": [
      "two tuples has different values\n"
     ]
    }
   ],
   "source": [
    "tup1=(1,2,3,4)\n",
    "tup2=(4,5,6,7)\n",
    "if tup1==tup2:\n",
    "    print('two tuples has same values')\n",
    "else:\n",
    "    print('two tuples has different values')"
   ]
  },
  {
   "cell_type": "markdown",
   "id": "10356510-a3e9-451d-b243-1b1e0bec491d",
   "metadata": {},
   "source": [
    "### 19. Delete a tuple."
   ]
  },
  {
   "cell_type": "code",
   "execution_count": 107,
   "id": "8dffcb73-4a49-4f0c-a794-713af3b7144f",
   "metadata": {},
   "outputs": [],
   "source": [
    "tup=('delete','a','tuple')\n",
    "del tup"
   ]
  },
  {
   "cell_type": "markdown",
   "id": "352ad962-a83c-4f55-a5d5-e04872dfec2e",
   "metadata": {},
   "source": [
    "### 20. Slice a tuple"
   ]
  },
  {
   "cell_type": "code",
   "execution_count": 3,
   "id": "611702ed-3881-4823-befb-362d1e73b1fb",
   "metadata": {},
   "outputs": [
    {
     "data": {
      "text/plain": [
       "(3, 4, 5)"
      ]
     },
     "execution_count": 3,
     "metadata": {},
     "output_type": "execute_result"
    }
   ],
   "source": [
    "tup=(1, 2, 3, 4, 5, 6, 7, 8)\n",
    "x=slice(2,5)\n",
    "tup[x]"
   ]
  },
  {
   "cell_type": "markdown",
   "id": "c60b1671-893e-44c1-a061-1676122f27ff",
   "metadata": {},
   "source": [
    "### 21. Find the maximum value in a tuple."
   ]
  },
  {
   "cell_type": "code",
   "execution_count": 12,
   "id": "b3254ddb-b3fa-49ce-93a5-86a08d7e88d8",
   "metadata": {},
   "outputs": [
    {
     "data": {
      "text/plain": [
       "8"
      ]
     },
     "execution_count": 12,
     "metadata": {},
     "output_type": "execute_result"
    }
   ],
   "source": [
    "tup=(1, 2, 3, 4, 5, 6, 7, 8)\n",
    "tup=list(tup)\n",
    "tup.sort(key=None,reverse=True)\n",
    "tup[0]"
   ]
  },
  {
   "cell_type": "markdown",
   "id": "da8dce3f-8d2e-494e-9b69-d57ed0358843",
   "metadata": {},
   "source": [
    "### 22. Find the minimum value in a tuple."
   ]
  },
  {
   "cell_type": "code",
   "execution_count": 14,
   "id": "06a0a2a6-fd62-471c-83f7-108522a286cb",
   "metadata": {},
   "outputs": [
    {
     "data": {
      "text/plain": [
       "1"
      ]
     },
     "execution_count": 14,
     "metadata": {},
     "output_type": "execute_result"
    }
   ],
   "source": [
    "tup=(1, 2, 3, 4, 5, 6, 7, 8)\n",
    "tup=list(tup)\n",
    "tup.sort(key=None,reverse=False)\n",
    "tup[0]"
   ]
  },
  {
   "cell_type": "markdown",
   "id": "66c72631-19ab-49bc-a027-93c5ee23ab78",
   "metadata": {},
   "source": [
    "### 23. Convert a string to a tuple of characters."
   ]
  },
  {
   "cell_type": "code",
   "execution_count": 19,
   "id": "51fb6c4e-a4b7-4d7c-8c54-bb5b67abfb17",
   "metadata": {},
   "outputs": [
    {
     "data": {
      "text/plain": [
       "('Convert', 'a', 'string', 'to', 'a', 'tuple', 'of', 'characters')"
      ]
     },
     "execution_count": 19,
     "metadata": {},
     "output_type": "execute_result"
    }
   ],
   "source": [
    "str='Convert a string to a tuple of characters'\n",
    "tuple(str.split())"
   ]
  },
  {
   "cell_type": "markdown",
   "id": "ce2b4590-8934-4cd3-875d-13d1da75e3be",
   "metadata": {},
   "source": [
    "### 24. Convert a tuple of characters to a string."
   ]
  },
  {
   "cell_type": "code",
   "execution_count": 22,
   "id": "61810c35-7bb4-4b9f-acb8-f6a65e0b2a62",
   "metadata": {},
   "outputs": [
    {
     "data": {
      "text/plain": [
       "'Convert a string to a tuple of characters'"
      ]
     },
     "execution_count": 22,
     "metadata": {},
     "output_type": "execute_result"
    }
   ],
   "source": [
    "tup=('Convert', 'a', 'string', 'to', 'a', 'tuple', 'of', 'characters')\n",
    "' '.join(tup)"
   ]
  },
  {
   "cell_type": "markdown",
   "id": "3dc1e363-e5ff-4b2f-88b6-9b7e5bd089c9",
   "metadata": {},
   "source": [
    "### 25. Create a tuple from multiple data types."
   ]
  },
  {
   "cell_type": "code",
   "execution_count": 25,
   "id": "a9605693-08ac-4f4f-934e-b18056fb3798",
   "metadata": {},
   "outputs": [],
   "source": [
    "tup = (\"abc\", 1, True,  \"male\")"
   ]
  },
  {
   "cell_type": "code",
   "execution_count": 27,
   "id": "32576d3b-5741-4d18-9529-b3d38cba4c25",
   "metadata": {},
   "outputs": [
    {
     "data": {
      "text/plain": [
       "tuple"
      ]
     },
     "execution_count": 27,
     "metadata": {},
     "output_type": "execute_result"
    }
   ],
   "source": [
    "type(tup)"
   ]
  },
  {
   "cell_type": "markdown",
   "id": "ad87ad2e-6a53-4c74-9bdb-182a08c63e32",
   "metadata": {},
   "source": [
    "### 26. Check if two tuples are identical"
   ]
  },
  {
   "cell_type": "code",
   "execution_count": 4,
   "id": "63f12dfd-58c3-4530-9c2a-dce813bacef7",
   "metadata": {},
   "outputs": [
    {
     "name": "stdout",
     "output_type": "stream",
     "text": [
      "tuples are not identical\n"
     ]
    }
   ],
   "source": [
    "tup1=(1,2,3,4)\n",
    "tup2=(4,5,6,7)\n",
    "if tup1==tup2:\n",
    "    print('tuples are identical')\n",
    "else:\n",
    "    print('tuples are not identical')"
   ]
  },
  {
   "cell_type": "markdown",
   "id": "602809a0-55c5-470e-8d36-916f96574d47",
   "metadata": {},
   "source": [
    "### 27. Sort the elements of a tuple."
   ]
  },
  {
   "cell_type": "code",
   "execution_count": 25,
   "id": "453da2ce-15a4-47ea-b220-bc5d3414be20",
   "metadata": {},
   "outputs": [
    {
     "data": {
      "text/plain": [
       "(1, 2, 3, 4, 6, 7)"
      ]
     },
     "execution_count": 25,
     "metadata": {},
     "output_type": "execute_result"
    }
   ],
   "source": [
    "tup=(1,4,6,7,2,3)\n",
    "tuple(sorted(list(tup),reverse=False))"
   ]
  },
  {
   "cell_type": "markdown",
   "id": "53cfda6e-0934-4cc0-a794-8188caaea6f7",
   "metadata": {},
   "source": [
    "### 28. Convert a tuple of integers to a tuple of strings."
   ]
  },
  {
   "cell_type": "code",
   "execution_count": 50,
   "id": "32ba936c-6cca-4f7b-889e-3e6b6ead0034",
   "metadata": {},
   "outputs": [
    {
     "data": {
      "text/plain": [
       "('1', '2', '3', '4', '6', '7')"
      ]
     },
     "execution_count": 50,
     "metadata": {},
     "output_type": "execute_result"
    }
   ],
   "source": [
    "tup=(1, 2, 3, 4, 6, 7)\n",
    "tup=list(tup)\n",
    "tup=tuple([str(x) for x in tup])\n",
    "tup"
   ]
  },
  {
   "cell_type": "markdown",
   "id": "6b085a69-b295-4bf4-9cca-86b1c6b6518a",
   "metadata": {},
   "source": [
    "### 29. Convert a tuple of strings to a tuple of integers."
   ]
  },
  {
   "cell_type": "code",
   "execution_count": 64,
   "id": "7331f114-f6e2-47cc-975b-7d24f7a33cd8",
   "metadata": {},
   "outputs": [
    {
     "data": {
      "text/plain": [
       "(1, 2, 3, 4, 6, 7)"
      ]
     },
     "execution_count": 64,
     "metadata": {},
     "output_type": "execute_result"
    }
   ],
   "source": [
    "tup=('1', '2', '3', '4', '6', '7')\n",
    "tup=list(tup)\n",
    "tup=tuple([int(x) for x in tup])\n",
    "tup"
   ]
  },
  {
   "cell_type": "markdown",
   "id": "4df2bc29-55b3-45da-a4f1-fd5b3973d5c7",
   "metadata": {},
   "source": [
    "### 30. Merge two tuples."
   ]
  },
  {
   "cell_type": "code",
   "execution_count": 66,
   "id": "1f8a449a-1d09-4efd-bf2e-2cf48f06847a",
   "metadata": {},
   "outputs": [
    {
     "data": {
      "text/plain": [
       "('1', '2', '3', '4', '6', '7')"
      ]
     },
     "execution_count": 66,
     "metadata": {},
     "output_type": "execute_result"
    }
   ],
   "source": [
    "tup1=('1', '2', '3')\n",
    "tup2=('4', '6', '7')\n",
    "tup=tup1+tup2\n",
    "tup"
   ]
  },
  {
   "cell_type": "markdown",
   "id": "0118ae05-153b-4e3f-ae8a-003064561c05",
   "metadata": {},
   "source": [
    "### 31. Flatten a nested tuple."
   ]
  },
  {
   "cell_type": "code",
   "execution_count": 15,
   "id": "0fdeb7fd-14b7-4506-a0d4-60707a808ff3",
   "metadata": {},
   "outputs": [
    {
     "name": "stdout",
     "output_type": "stream",
     "text": [
      "(34, 42, 21, 43, 125, 46, 457, 18, 49)\n"
     ]
    }
   ],
   "source": [
    "tup = ((34,42,21),(43,125,46), (457,18,49))\n",
    "\n",
    "print(tuple(i for inner_tuple in tup for i in inner_tuple))"
   ]
  },
  {
   "cell_type": "markdown",
   "id": "ac12ce1c-36ae-4867-8f41-a348b01d0c01",
   "metadata": {},
   "source": [
    "### 32. Create a tuple of the first 5 prime numbers."
   ]
  },
  {
   "cell_type": "code",
   "execution_count": 16,
   "id": "40ff7edf-12c3-411f-9c5a-26c202db8b1e",
   "metadata": {},
   "outputs": [
    {
     "name": "stdout",
     "output_type": "stream",
     "text": [
      "(2, 3, 5, 7, 11)\n"
     ]
    }
   ],
   "source": [
    "prime = (2,3,5,7,11)\n",
    "\n",
    "print(prime)"
   ]
  },
  {
   "cell_type": "markdown",
   "id": "fc9eb160-37fe-469a-b41c-5702e28d83c9",
   "metadata": {},
   "source": [
    "### 33. Check if a tuple is a palindrome."
   ]
  },
  {
   "cell_type": "code",
   "execution_count": 77,
   "id": "2c0f85a8-625e-4154-9b1e-ccab2b33dafa",
   "metadata": {},
   "outputs": [
    {
     "name": "stdout",
     "output_type": "stream",
     "text": [
      "racecar is a palindrome\n"
     ]
    }
   ],
   "source": [
    "tup=('racecar')\n",
    "if tup[:]==tup[::-1] :\n",
    "    print(tup,'is a palindrome')\n",
    "else:\n",
    "        print(tup , 'is not a palindrome')"
   ]
  },
  {
   "cell_type": "markdown",
   "id": "74be5bfb-c837-4a82-a1c5-ff7147743b0b",
   "metadata": {},
   "source": [
    "### 34. Create a tuple of squares of numbers from 1 to 5."
   ]
  },
  {
   "cell_type": "code",
   "execution_count": 47,
   "id": "74675954-bcd1-4d27-b34f-74a258966c3c",
   "metadata": {},
   "outputs": [
    {
     "name": "stdout",
     "output_type": "stream",
     "text": [
      "(1, 4, 9, 16, 25)\n"
     ]
    }
   ],
   "source": [
    "tup = tuple(n*n for n in range(1,6))\n",
    "print(tup)"
   ]
  },
  {
   "cell_type": "markdown",
   "id": "086ceea0-2367-432f-8bba-0d3b4caac674",
   "metadata": {},
   "source": [
    "### 35. Filter out all even numbers from a tuple."
   ]
  },
  {
   "cell_type": "code",
   "execution_count": 25,
   "id": "c39600c7-735a-401f-a301-7966fe42cec6",
   "metadata": {},
   "outputs": [
    {
     "name": "stdout",
     "output_type": "stream",
     "text": [
      "2 4 6 8 10 "
     ]
    }
   ],
   "source": [
    "tup=(1, 2, 3, 4, 6, 7,8,9,10)\n",
    "for i in tup:\n",
    "    if i%2==0:\n",
    "        print(i,end=' ')"
   ]
  },
  {
   "cell_type": "markdown",
   "id": "3b10e595-e435-4eee-8a43-278c984f22ca",
   "metadata": {},
   "source": [
    "### 36. Multiply all elements in a tuple by 2"
   ]
  },
  {
   "cell_type": "code",
   "execution_count": 26,
   "id": "94aaa37e-359d-496c-aab7-a801512552de",
   "metadata": {},
   "outputs": [
    {
     "name": "stdout",
     "output_type": "stream",
     "text": [
      "2 4 6 8 12 14 16 18 20 "
     ]
    }
   ],
   "source": [
    "tup=(1, 2, 3, 4, 6, 7,8,9,10)\n",
    "for i in tup:\n",
    "    i=i*2\n",
    "    print(i,end=' ')"
   ]
  },
  {
   "cell_type": "markdown",
   "id": "335445c7-50f9-47ff-8e6f-b56eadad1fe5",
   "metadata": {},
   "source": [
    "### 37. Create a tuple of random numbers.\n"
   ]
  },
  {
   "cell_type": "code",
   "execution_count": 94,
   "id": "e1dc5ea7-8d78-499f-9e6a-947f916c46fa",
   "metadata": {},
   "outputs": [
    {
     "name": "stdout",
     "output_type": "stream",
     "text": [
      "(2, 0, 8, 6, 3, 7, 4, 6, 7, 5)\n"
     ]
    }
   ],
   "source": [
    "import random\n",
    "tup=[]\n",
    "for x in range(10):\n",
    "    tup.append(random.randint(0,10))\n",
    "print(tuple(tup))"
   ]
  },
  {
   "cell_type": "markdown",
   "id": "ca5fa9da-f1a3-4ae4-99d3-f4ddcb30f471",
   "metadata": {},
   "source": [
    "### 38. Check if a tuple is sorted."
   ]
  },
  {
   "cell_type": "code",
   "execution_count": 87,
   "id": "97b6223b-4e72-4096-a351-5d722e908d73",
   "metadata": {},
   "outputs": [
    {
     "name": "stdout",
     "output_type": "stream",
     "text": [
      "tuple is not sorted\n"
     ]
    }
   ],
   "source": [
    "tup=(1,2,4,3,5,6,7,8,9)\n",
    "if tuple(sorted(list(tup),reverse=False))==tup:\n",
    "    print('tuple is sorted')\n",
    "else:\n",
    "    print('tuple is not sorted')"
   ]
  },
  {
   "cell_type": "markdown",
   "id": "45db84ff-a08d-4d2a-b950-48396d13d31b",
   "metadata": {},
   "source": [
    "### 39. Rotate a tuple to the left by `n` positions."
   ]
  },
  {
   "cell_type": "code",
   "execution_count": 13,
   "id": "247d6116-07c3-44a5-9783-39bb2c317ac2",
   "metadata": {},
   "outputs": [
    {
     "name": "stdout",
     "output_type": "stream",
     "text": [
      "(3, 4, 5, 6, 7, 8, 9, 10, 1, 2)\n"
     ]
    }
   ],
   "source": [
    "tup = (1, 2, 3, 4, 5, 6, 7, 8, 9, 10)\n",
    "\n",
    "position = 2\n",
    "\n",
    "print(tup[position:] + tup[:position])"
   ]
  },
  {
   "cell_type": "markdown",
   "id": "af963760-841f-44f9-ada3-f255c8b3e2e6",
   "metadata": {},
   "source": [
    "### 40. Rotate a tuple to the right by `n` positions."
   ]
  },
  {
   "cell_type": "code",
   "execution_count": 14,
   "id": "4c8c80d0-3eca-409e-a0fc-9bbba1260bc8",
   "metadata": {},
   "outputs": [
    {
     "name": "stdout",
     "output_type": "stream",
     "text": [
      "(9, 10, 1, 2, 3, 4, 5, 6, 7, 8)\n"
     ]
    }
   ],
   "source": [
    "tup = (1, 2, 3, 4, 5, 6, 7, 8, 9, 10)\n",
    "\n",
    "position = 2\n",
    "\n",
    "print(tup[-position:] + tup[:-position])"
   ]
  },
  {
   "cell_type": "markdown",
   "id": "62fc9bfc-dbfa-47e5-b7f1-b42a9ab45601",
   "metadata": {},
   "source": [
    "### 41. Create a tuple of the first 5 Fibonacci numbers."
   ]
  },
  {
   "cell_type": "code",
   "execution_count": 100,
   "id": "30e0b4e1-d030-4593-a522-2bcfdb7cd1ab",
   "metadata": {},
   "outputs": [],
   "source": [
    "tuple_fibo = (0,1,1,2,3)\n",
    "\n",
    "print(\"First 5 Fibonacci numbers:\", tuple_fibo)"
   ]
  },
  {
   "cell_type": "markdown",
   "id": "8be3f972-b99e-41ed-8f9e-04d5a5e83215",
   "metadata": {},
   "source": [
    "### 42. Create a tuple from user input."
   ]
  },
  {
   "cell_type": "code",
   "execution_count": 109,
   "id": "5054b5e6-0bba-4f76-80d7-628d705cf5b5",
   "metadata": {},
   "outputs": [
    {
     "name": "stdin",
     "output_type": "stream",
     "text": [
      " Hi\n"
     ]
    }
   ],
   "source": [
    "tup=tuple(input())"
   ]
  },
  {
   "cell_type": "code",
   "execution_count": 111,
   "id": "a6531900-bc66-4187-83b1-57213616e965",
   "metadata": {},
   "outputs": [
    {
     "name": "stdout",
     "output_type": "stream",
     "text": [
      "('H', 'i')\n"
     ]
    }
   ],
   "source": [
    "print(tup)"
   ]
  },
  {
   "cell_type": "markdown",
   "id": "4b55f304-5344-4e7b-a301-563ca3e85a20",
   "metadata": {},
   "source": [
    "### 43. Swap two elements in a tuple."
   ]
  },
  {
   "cell_type": "code",
   "execution_count": 112,
   "id": "16021e93-9ccc-4840-819c-56f9786b40e0",
   "metadata": {},
   "outputs": [
    {
     "name": "stdin",
     "output_type": "stream",
     "text": [
      " two\n",
      " a\n"
     ]
    }
   ],
   "source": [
    "tup=('swap','two','elements','in','a','tuple')\n",
    "tup=list(tup)\n",
    "x=input()\n",
    "y=input()"
   ]
  },
  {
   "cell_type": "code",
   "execution_count": 126,
   "id": "528623ea-6b0d-4283-87df-ef9f5c70f5ac",
   "metadata": {},
   "outputs": [
    {
     "data": {
      "text/plain": [
       "('swap', 'a', 'elements', 'in', 'two', 'tuple')"
      ]
     },
     "execution_count": 126,
     "metadata": {},
     "output_type": "execute_result"
    }
   ],
   "source": [
    "tup[tup.index(y)]=x\n",
    "tup[tup.index(x)]=y\n",
    "tuple(tup)"
   ]
  },
  {
   "cell_type": "markdown",
   "id": "cd4c0ec9-738d-44a9-b370-e9e93bd5cdb4",
   "metadata": {},
   "source": [
    "### 44. Reverse the elements of a tuple."
   ]
  },
  {
   "cell_type": "code",
   "execution_count": 4,
   "id": "8d9076f4-50dc-4748-9e60-79de21cbeba2",
   "metadata": {},
   "outputs": [
    {
     "name": "stdout",
     "output_type": "stream",
     "text": [
      "(9, 8, 7, 6, 5, 4, 3, 2, 1)\n"
     ]
    }
   ],
   "source": [
    "tup=(1,2,3,4,5,6,7,8,9)\n",
    "tup=list(tup)\n",
    "tup.reverse()\n",
    "print(tuple(tup))"
   ]
  },
  {
   "cell_type": "markdown",
   "id": "d77b9fc6-fa62-4dc9-81d0-7ed9c541ab59",
   "metadata": {},
   "source": [
    "### 45. Create a tuple of the first `n` powers of 2"
   ]
  },
  {
   "cell_type": "code",
   "execution_count": 11,
   "id": "bcf960ec-ba80-4f98-a59d-181843319a64",
   "metadata": {},
   "outputs": [
    {
     "name": "stdout",
     "output_type": "stream",
     "text": [
      "power of tuple : (1, 2, 4, 8, 16, 32)\n",
      "1, 4, 16, 64, 256, 1024, "
     ]
    }
   ],
   "source": [
    "n = 6  \n",
    "powers_of_2_tuple = tuple(2 ** i for i in range(n))\n",
    "\n",
    "print('power of tuple :',powers_of_2_tuple)\n",
    "\n",
    "for num in powers_of_2_tuple:\n",
    "    print(num ** 2, end=', ')"
   ]
  },
  {
   "cell_type": "markdown",
   "id": "4d807954-26c1-4723-a055-1f7eda46a0f6",
   "metadata": {},
   "source": [
    "### 46. Find the longest string in a tuple of strings."
   ]
  },
  {
   "cell_type": "code",
   "execution_count": 30,
   "id": "deab0f26-b6f3-4fd0-b066-d144cc0373a4",
   "metadata": {},
   "outputs": [
    {
     "name": "stdout",
     "output_type": "stream",
     "text": [
      "the longest string in a tuple is longest\n"
     ]
    }
   ],
   "source": [
    "tup=('Find', 'the', 'longest', 'string', 'in', 'a', 'tuple', 'of', 'strings')\n",
    "tup=list(tup)\n",
    "max=1\n",
    "for i in tup:\n",
    "    x=len(i)\n",
    "    if x>max:\n",
    "        max=x\n",
    "        index=tup.index(i)\n",
    "print('the longest string in a tuple is',tup[index])"
   ]
  },
  {
   "cell_type": "markdown",
   "id": "4fc48179-0b9e-49cf-be96-1bf67fba652a",
   "metadata": {},
   "source": [
    "### 47. Find the shortest string in a tuple of strings."
   ]
  },
  {
   "cell_type": "code",
   "execution_count": 31,
   "id": "7175b401-5f53-47ad-9a76-70aa7aa96bc0",
   "metadata": {},
   "outputs": [
    {
     "name": "stdout",
     "output_type": "stream",
     "text": [
      "the longest string in a tuple is a\n"
     ]
    }
   ],
   "source": [
    "tup=('Find', 'the', 'shortest', 'string', 'in', 'a', 'tuple', 'of', 'strings')\n",
    "tup=list(tup)\n",
    "max=1\n",
    "for i in tup:\n",
    "    x=len(i)\n",
    "    if x<=max:\n",
    "        max=x\n",
    "        \n",
    "        index=tup.index(i)\n",
    "print('the longest string in a tuple is',tup[index])"
   ]
  },
  {
   "cell_type": "markdown",
   "id": "5cfc1b01-c5c5-4a3c-9ef4-97fd22174b11",
   "metadata": {},
   "source": [
    "### 48. Create a tuple of the first `n` triangular numbers."
   ]
  },
  {
   "cell_type": "code",
   "execution_count": 9,
   "id": "edabff06-2b57-477b-bffc-bee4d9686aad",
   "metadata": {},
   "outputs": [
    {
     "name": "stdout",
     "output_type": "stream",
     "text": [
      "(1, 3, 6, 10, 15)\n"
     ]
    }
   ],
   "source": [
    "n = 5 \n",
    "triangular_numbers = tuple((i * (i + 1)) // 2 for i in range(1, n + 1))\n",
    "print(triangular_numbers)"
   ]
  },
  {
   "cell_type": "markdown",
   "id": "f554c540-dbe9-414f-99b2-70e343c749ed",
   "metadata": {},
   "source": [
    "### 49. Check if a tuple contains another tuple as a subsequence"
   ]
  },
  {
   "cell_type": "code",
   "execution_count": 165,
   "id": "6bb4fa6a-b99e-43dc-8fc5-91594aa0b346",
   "metadata": {},
   "outputs": [
    {
     "name": "stdout",
     "output_type": "stream",
     "text": [
      "tuple contains anthore list as s subsequence\n"
     ]
    }
   ],
   "source": [
    "tup1=('check','if','a','tuple','contains','another','tuple')\n",
    "tup2=('another','tuple')\n",
    "\n",
    "if all(i in tup1 for i in tup2):\n",
    "    print('tuple contains anthore list as s subsequence')\n",
    "else:\n",
    "    print('tuple does not contains anthore list as s subsequence')"
   ]
  },
  {
   "cell_type": "markdown",
   "id": "f79e08b7-1568-4a7a-8a34-4f8aed765083",
   "metadata": {},
   "source": [
    "### 50. Create a tuple of alternating 1s and 0s of length `n`."
   ]
  },
  {
   "cell_type": "code",
   "execution_count": 164,
   "id": "52433b4a-3d45-46f5-ada7-71724bb87f96",
   "metadata": {},
   "outputs": [
    {
     "data": {
      "text/plain": [
       "(1, 0, 1, 0, 1, 0, 1, 0, 1, 0)"
      ]
     },
     "execution_count": 164,
     "metadata": {},
     "output_type": "execute_result"
    }
   ],
   "source": [
    "n=10\n",
    "tup=tuple((1 if i%2==0 else 0) for i in range(n))\n",
    "tup"
   ]
  },
  {
   "cell_type": "code",
   "execution_count": null,
   "id": "566d1c7f-4d70-440c-9e4a-19cc4166d07d",
   "metadata": {},
   "outputs": [],
   "source": []
  },
  {
   "cell_type": "markdown",
   "id": "7713115a-b89b-4682-b561-7684eae4b094",
   "metadata": {},
   "source": [
    "## Set Based Practice Problem :"
   ]
  },
  {
   "cell_type": "markdown",
   "id": "f62e3ca7-8f81-4b16-be2e-05976c7282fa",
   "metadata": {},
   "source": [
    "### 1. Create a set with integers from 1 to 5."
   ]
  },
  {
   "cell_type": "code",
   "execution_count": 39,
   "id": "51cddd58-b2e9-4637-aef1-d11e19c00cc8",
   "metadata": {},
   "outputs": [
    {
     "data": {
      "text/plain": [
       "{1, 2, 3, 4, 5}"
      ]
     },
     "execution_count": 39,
     "metadata": {},
     "output_type": "execute_result"
    }
   ],
   "source": [
    "s={s for s in range(1,6)}\n",
    "s"
   ]
  },
  {
   "cell_type": "markdown",
   "id": "a7179053-68be-4098-af77-0c185ca8d778",
   "metadata": {},
   "source": [
    "### 2. Add an element to a set."
   ]
  },
  {
   "cell_type": "code",
   "execution_count": 42,
   "id": "44d3ac6f-0c1e-4df2-a678-23b0dfa2c6de",
   "metadata": {},
   "outputs": [
    {
     "data": {
      "text/plain": [
       "{1, 2, 3, 4, 5, 6}"
      ]
     },
     "execution_count": 42,
     "metadata": {},
     "output_type": "execute_result"
    }
   ],
   "source": [
    "s={1, 2, 3, 4, 5}\n",
    "s.add(6)\n",
    "s"
   ]
  },
  {
   "cell_type": "markdown",
   "id": "41582352-cc5f-43b8-8754-17a09ce5ec10",
   "metadata": {},
   "source": [
    "### 3. Remove an element from a set."
   ]
  },
  {
   "cell_type": "code",
   "execution_count": 44,
   "id": "1cf4173c-2796-4164-a1ec-0adc8b1cac1f",
   "metadata": {},
   "outputs": [
    {
     "data": {
      "text/plain": [
       "{1, 2, 3, 4, 5}"
      ]
     },
     "execution_count": 44,
     "metadata": {},
     "output_type": "execute_result"
    }
   ],
   "source": [
    "s={1, 2, 3, 4, 5, 6}\n",
    "s.remove(6)\n",
    "s"
   ]
  },
  {
   "cell_type": "markdown",
   "id": "deeb52c2-1427-43d1-885c-206994dad1b1",
   "metadata": {},
   "source": [
    "### 4. Check if an element exists in a set."
   ]
  },
  {
   "cell_type": "code",
   "execution_count": 50,
   "id": "3b89d218-bb95-40a9-a141-0783d6a74b57",
   "metadata": {},
   "outputs": [
    {
     "name": "stdout",
     "output_type": "stream",
     "text": [
      "given element does not exists in the set\n"
     ]
    }
   ],
   "source": [
    "s={1, 2, 3, 4, 5, 6}\n",
    "x=7\n",
    "if x in s:\n",
    "    print('given element exists in the set')\n",
    "else:\n",
    "     print('given element does not exists in the set')"
   ]
  },
  {
   "cell_type": "markdown",
   "id": "56fff341-c645-4045-afe6-65993d5aa241",
   "metadata": {},
   "source": [
    "### 5. Find the length of a set without using the `len()` function."
   ]
  },
  {
   "cell_type": "code",
   "execution_count": 55,
   "id": "33f1c89b-0976-4c8e-8d96-901b8b15db04",
   "metadata": {},
   "outputs": [
    {
     "name": "stdout",
     "output_type": "stream",
     "text": [
      "length of a set is 5\n"
     ]
    }
   ],
   "source": [
    "s={1, 2, 3, 4, 5}\n",
    "x=0\n",
    "s=list(s)\n",
    "for i in s:\n",
    "    s.count(i)\n",
    "    x=x+1\n",
    "print('length of a set is',x)"
   ]
  },
  {
   "cell_type": "markdown",
   "id": "bd0ccd1e-24b8-48f9-a26a-e902fb15341b",
   "metadata": {},
   "source": [
    "### 6. Clear all elements from a set."
   ]
  },
  {
   "cell_type": "code",
   "execution_count": 59,
   "id": "0973851e-2b41-4248-a977-981429924c3f",
   "metadata": {},
   "outputs": [
    {
     "data": {
      "text/plain": [
       "set()"
      ]
     },
     "execution_count": 59,
     "metadata": {},
     "output_type": "execute_result"
    }
   ],
   "source": [
    "s={'Clear', 'all', 'elements', 'from', 'a', 'set'}\n",
    "s.clear()\n",
    "s"
   ]
  },
  {
   "cell_type": "markdown",
   "id": "fbfc1b6f-2b15-4904-aa92-3921094d2e5c",
   "metadata": {},
   "source": [
    "### 7. Create a set of even numbers from 1 to 10."
   ]
  },
  {
   "cell_type": "code",
   "execution_count": 81,
   "id": "52d878a9-e2ad-4f93-8e3f-b57767938113",
   "metadata": {},
   "outputs": [
    {
     "name": "stdout",
     "output_type": "stream",
     "text": [
      "{2, 4, 6, 8, 10}\n"
     ]
    }
   ],
   "source": [
    "s=set()\n",
    "for i in range(1,11):\n",
    "    if i%2==0:\n",
    "        s.add(i)\n",
    "print(s)"
   ]
  },
  {
   "cell_type": "markdown",
   "id": "f28410ff-f3ad-4f06-80c0-736321e2712f",
   "metadata": {},
   "source": [
    "### 8. Create a set of odd numbers from 1 to 10."
   ]
  },
  {
   "cell_type": "code",
   "execution_count": 85,
   "id": "7ae63250-3fef-476c-ad64-2dee4ba9fd13",
   "metadata": {},
   "outputs": [
    {
     "name": "stdout",
     "output_type": "stream",
     "text": [
      "{1, 3, 5, 7, 9}\n"
     ]
    }
   ],
   "source": [
    "s=set()\n",
    "for i in range(1,11):\n",
    "    if i%2!=0:\n",
    "        s.add(i)\n",
    "print(s)"
   ]
  },
  {
   "cell_type": "markdown",
   "id": "a5e7c0bf-5b31-41c5-8a47-d06b48469a38",
   "metadata": {},
   "source": [
    "### 9. Find the union of two sets."
   ]
  },
  {
   "cell_type": "code",
   "execution_count": 92,
   "id": "6a3ca61b-adfa-4205-ac10-9d6c57414493",
   "metadata": {},
   "outputs": [
    {
     "data": {
      "text/plain": [
       "{1, 2, 3, 4, 5, 6, 7, 8, 9, 10}"
      ]
     },
     "execution_count": 92,
     "metadata": {},
     "output_type": "execute_result"
    }
   ],
   "source": [
    "s1={1, 2, 3, 4, 5}\n",
    "s2={6,7,8,9,10}\n",
    "s=s1.union(s2)\n",
    "s"
   ]
  },
  {
   "cell_type": "markdown",
   "id": "c3243e15-8729-4833-866b-b46882e45ede",
   "metadata": {},
   "source": [
    "### 10. Find the intersection of two sets."
   ]
  },
  {
   "cell_type": "code",
   "execution_count": 96,
   "id": "2cc1234b-0ecd-4ab2-910a-394ba3a05f29",
   "metadata": {},
   "outputs": [
    {
     "data": {
      "text/plain": [
       "{4, 5}"
      ]
     },
     "execution_count": 96,
     "metadata": {},
     "output_type": "execute_result"
    }
   ],
   "source": [
    "s1={1,2,3,4,5}\n",
    "s2={4,5,6,7,8}\n",
    "s=s1.intersection(s2)\n",
    "s"
   ]
  },
  {
   "cell_type": "markdown",
   "id": "a534003c-7885-420c-9312-474506e175ee",
   "metadata": {},
   "source": [
    "### 11. Find the difference between two sets."
   ]
  },
  {
   "cell_type": "code",
   "execution_count": 99,
   "id": "d8ac951e-c810-4c9a-a415-b4761eb2e968",
   "metadata": {},
   "outputs": [
    {
     "data": {
      "text/plain": [
       "{1, 2, 3}"
      ]
     },
     "execution_count": 99,
     "metadata": {},
     "output_type": "execute_result"
    }
   ],
   "source": [
    "s1={1,2,3,4,5}\n",
    "s2={4,5,6,7,8}\n",
    "s=s1.difference(s2)\n",
    "s"
   ]
  },
  {
   "cell_type": "markdown",
   "id": "a452a168-be3c-4cef-8ed7-91d5961e8508",
   "metadata": {},
   "source": [
    "### 12. Check if a set is a subset of another set."
   ]
  },
  {
   "cell_type": "code",
   "execution_count": 107,
   "id": "680138d4-c941-4da2-9b9a-159dd57c0d3c",
   "metadata": {},
   "outputs": [
    {
     "data": {
      "text/plain": [
       "True"
      ]
     },
     "execution_count": 107,
     "metadata": {},
     "output_type": "execute_result"
    }
   ],
   "source": [
    "s1={4,5}\n",
    "s2={4,5,6,7,8}\n",
    "\n",
    "s1.issubset(s2)"
   ]
  },
  {
   "cell_type": "markdown",
   "id": "9ecc9cd0-001d-4eae-9e51-eea3a1cca84b",
   "metadata": {},
   "source": [
    "### 13. Check if a set is a superset of another set."
   ]
  },
  {
   "cell_type": "code",
   "execution_count": 110,
   "id": "8b9c1fba-b0f7-4903-85f3-f0173dc2ae94",
   "metadata": {},
   "outputs": [
    {
     "data": {
      "text/plain": [
       "True"
      ]
     },
     "execution_count": 110,
     "metadata": {},
     "output_type": "execute_result"
    }
   ],
   "source": [
    "s1={4,5,6,7,8}\n",
    "s2={4,5}\n",
    "\n",
    "s1.issuperset(s2)"
   ]
  },
  {
   "cell_type": "markdown",
   "id": "fd2f6d8b-9a05-454e-8fe5-210a54b8a155",
   "metadata": {},
   "source": [
    "### 14. Create a set from a list.\n"
   ]
  },
  {
   "cell_type": "code",
   "execution_count": 112,
   "id": "0c55f332-e64e-42ac-b307-dd050f50c70f",
   "metadata": {},
   "outputs": [
    {
     "data": {
      "text/plain": [
       "{1, 2, 3, 4, 5}"
      ]
     },
     "execution_count": 112,
     "metadata": {},
     "output_type": "execute_result"
    }
   ],
   "source": [
    "lst=[1,2,3,4,5]\n",
    "set(lst)"
   ]
  },
  {
   "cell_type": "markdown",
   "id": "e60414dc-82f9-404b-b078-f4255e828cb8",
   "metadata": {},
   "source": [
    "### 15. Convert a set to a list."
   ]
  },
  {
   "cell_type": "code",
   "execution_count": 114,
   "id": "46d1d2ab-a18b-42bd-a53a-01557ae86bc7",
   "metadata": {},
   "outputs": [
    {
     "data": {
      "text/plain": [
       "[1, 2, 3, 4, 5]"
      ]
     },
     "execution_count": 114,
     "metadata": {},
     "output_type": "execute_result"
    }
   ],
   "source": [
    "s={1, 2, 3, 4, 5}\n",
    "list(s)"
   ]
  },
  {
   "cell_type": "markdown",
   "id": "ac1fcaa8-13ac-4c8a-a9fb-1b438da252a4",
   "metadata": {},
   "source": [
    "### 16. Remove a random element from a set.\n"
   ]
  },
  {
   "cell_type": "code",
   "execution_count": 117,
   "id": "d3e6dfca-5803-41dd-bdca-b2409a92b608",
   "metadata": {},
   "outputs": [
    {
     "data": {
      "text/plain": [
       "{1, 2, 3, 4}"
      ]
     },
     "execution_count": 117,
     "metadata": {},
     "output_type": "execute_result"
    }
   ],
   "source": [
    "s={1, 2, 3, 4, 5}\n",
    "s.remove(5)\n",
    "s"
   ]
  },
  {
   "cell_type": "markdown",
   "id": "b87528b3-1edb-4236-8afb-ae7f822bd1bb",
   "metadata": {},
   "source": [
    "### 17. Pop an element from a set."
   ]
  },
  {
   "cell_type": "code",
   "execution_count": 124,
   "id": "14054aa9-a944-4f7a-bbf1-439761fd1cee",
   "metadata": {},
   "outputs": [
    {
     "data": {
      "text/plain": [
       "{2, 3, 4, 5}"
      ]
     },
     "execution_count": 124,
     "metadata": {},
     "output_type": "execute_result"
    }
   ],
   "source": [
    "s={1,2, 3, 4, 5}\n",
    "s.pop()\n",
    "s"
   ]
  },
  {
   "cell_type": "markdown",
   "id": "681d4b13-d525-4b63-b317-0ffd6654aa67",
   "metadata": {},
   "source": [
    "### 18. Check if two sets have no elements in common.\n"
   ]
  },
  {
   "cell_type": "code",
   "execution_count": null,
   "id": "ab618cbf-483b-447a-acc0-3a42086616d2",
   "metadata": {},
   "outputs": [],
   "source": [
    "s1={1,2,3,4}\n",
    "s2={4,5,6,7}\n",
    "if s1!=s2:\n",
    "    print('elemenst are not in common')\n",
    "else:\n",
    "    print('elements are  in common')"
   ]
  },
  {
   "cell_type": "markdown",
   "id": "f068dff8-6531-4497-a8c2-12f6f077628c",
   "metadata": {},
   "source": [
    "### 19. Find the symmetric difference between two sets."
   ]
  },
  {
   "cell_type": "code",
   "execution_count": 17,
   "id": "9c73fc3b-4a50-4374-9af5-bec04d61404a",
   "metadata": {},
   "outputs": [
    {
     "data": {
      "text/plain": [
       "{1, 2, 3, 5, 6, 7}"
      ]
     },
     "execution_count": 17,
     "metadata": {},
     "output_type": "execute_result"
    }
   ],
   "source": [
    "s1={1,2,3,4}\n",
    "s2={4,5,6,7}\n",
    "s1.symmetric_difference(s2)"
   ]
  },
  {
   "cell_type": "markdown",
   "id": "964cfe7e-b6a7-4cbb-9f39-21c69c5363c0",
   "metadata": {},
   "source": [
    "### 20. Update a set with elements from another set."
   ]
  },
  {
   "cell_type": "code",
   "execution_count": 20,
   "id": "74b99edd-1da7-4b43-b569-8b31632205b7",
   "metadata": {},
   "outputs": [
    {
     "data": {
      "text/plain": [
       "{1, 2, 3, 4, 5, 6, 7}"
      ]
     },
     "execution_count": 20,
     "metadata": {},
     "output_type": "execute_result"
    }
   ],
   "source": [
    "s1={1,2,3,4}\n",
    "s2={4,5,6,7}\n",
    "s1.update(s2)\n",
    "s1"
   ]
  },
  {
   "cell_type": "markdown",
   "id": "bf21214b-00eb-4dd4-b50b-d5ca21f2c8c8",
   "metadata": {},
   "source": [
    "### 21. Create a set of the first 5 prime numbers."
   ]
  },
  {
   "cell_type": "code",
   "execution_count": 8,
   "id": "2f3c3625-486d-48de-965f-e80ee659fb21",
   "metadata": {},
   "outputs": [
    {
     "name": "stdout",
     "output_type": "stream",
     "text": [
      "(2, 3, 5, 7, 11, 13, 17, 19, 23, 29, 31, 37, 41, 43, 47)\n"
     ]
    }
   ],
   "source": [
    "def prime_number(num):\n",
    "    if num < 2:\n",
    "        return False\n",
    "    for i in range(2, int(num**0.5) +1):\n",
    "        if num% i == 0:\n",
    "            return False\n",
    "    return True\n",
    "\n",
    "prime_number = tuple((num for num in range(2,51) if prime_number(num)))\n",
    "\n",
    "print(prime_number)"
   ]
  },
  {
   "cell_type": "markdown",
   "id": "e60d016c-98e1-47e0-8ac6-e2b8a7496435",
   "metadata": {},
   "source": [
    "### 22. Check if two sets are identical."
   ]
  },
  {
   "cell_type": "code",
   "execution_count": 23,
   "id": "9e1ebe3c-4ac9-42e5-99e0-ec38253cfd9b",
   "metadata": {},
   "outputs": [
    {
     "name": "stdout",
     "output_type": "stream",
     "text": [
      "Two sets are not identical\n"
     ]
    }
   ],
   "source": [
    "s1={1,2,3,4}\n",
    "s2={4,5,6,7}\n",
    "if s1==s2:\n",
    "    print('Two sets are identical')\n",
    "else:\n",
    "    print('Two sets are not identical')"
   ]
  },
  {
   "cell_type": "markdown",
   "id": "f5e58454-3eb2-4f3d-a115-11b382fc1a9d",
   "metadata": {},
   "source": [
    "### 23. Create a frozen set"
   ]
  },
  {
   "cell_type": "code",
   "execution_count": 7,
   "id": "9f54b3bc-6058-4c97-b256-ceee58c218ce",
   "metadata": {},
   "outputs": [
    {
     "name": "stdout",
     "output_type": "stream",
     "text": [
      "frozenset({1, 2, 3, 4, 5})\n"
     ]
    }
   ],
   "source": [
    "s = frozenset([1,2,3,4,5])\n",
    "\n",
    "print(s)"
   ]
  },
  {
   "cell_type": "markdown",
   "id": "f8accd51-4673-4121-b841-564c6f27a08f",
   "metadata": {},
   "source": [
    "### 24. Check if a set is disjoint with another set."
   ]
  },
  {
   "cell_type": "code",
   "execution_count": 46,
   "id": "a50cc6d5-2e06-44c2-9c92-9f7d1dca0a2c",
   "metadata": {},
   "outputs": [
    {
     "name": "stdout",
     "output_type": "stream",
     "text": [
      "set is disjoint with another set\n"
     ]
    }
   ],
   "source": [
    "s1={1,2,3,4}\n",
    "s2={4,5,6,7}\n",
    "if s1.isdisjoint(s2):\n",
    "     print('set is not disjoint with another set')\n",
    "else:\n",
    "     print('set is disjoint with another set')"
   ]
  },
  {
   "cell_type": "markdown",
   "id": "76259e36-2009-452e-b415-9c9e36b9b605",
   "metadata": {},
   "source": [
    "### 25. Create a set of squares of numbers from 1 to 5."
   ]
  },
  {
   "cell_type": "code",
   "execution_count": 52,
   "id": "bd25b2d9-0867-4dba-9ae2-0a4e845e182d",
   "metadata": {},
   "outputs": [
    {
     "data": {
      "text/plain": [
       "{1, 4, 9, 16, 25}"
      ]
     },
     "execution_count": 52,
     "metadata": {},
     "output_type": "execute_result"
    }
   ],
   "source": [
    "s=set()\n",
    "for i in range(1,6):\n",
    "    i=i*i\n",
    "    s.add(i)\n",
    "s"
   ]
  },
  {
   "cell_type": "markdown",
   "id": "6a45cdc6-2f9b-410f-bc8e-463fdf38b34b",
   "metadata": {},
   "source": [
    "### 26. Filter out all even numbers from a set"
   ]
  },
  {
   "cell_type": "code",
   "execution_count": 56,
   "id": "c93baf2c-1145-4f8d-8e82-8c0618f080f0",
   "metadata": {},
   "outputs": [
    {
     "data": {
      "text/plain": [
       "{2, 4, 6, 8, 10}"
      ]
     },
     "execution_count": 56,
     "metadata": {},
     "output_type": "execute_result"
    }
   ],
   "source": [
    "s={1,2,3,4,5,6,7,8,9,10}\n",
    "s={i for i in s if i%2==0}\n",
    "s"
   ]
  },
  {
   "cell_type": "markdown",
   "id": "db72240d-ea74-4e27-84f8-d25c484af326",
   "metadata": {},
   "source": [
    "### 27. Multiply all elements in a set by 2."
   ]
  },
  {
   "cell_type": "code",
   "execution_count": 58,
   "id": "09b52fee-736f-4760-b70b-d5f38b1a022c",
   "metadata": {},
   "outputs": [
    {
     "data": {
      "text/plain": [
       "{2, 4, 6, 8, 10, 12, 14, 16, 18, 20}"
      ]
     },
     "execution_count": 58,
     "metadata": {},
     "output_type": "execute_result"
    }
   ],
   "source": [
    "s={1,2,3,4,5,6,7,8,9,10}\n",
    "s={i*2 for i in s}\n",
    "s"
   ]
  },
  {
   "cell_type": "markdown",
   "id": "ae500648-33c0-4e06-a8fc-5cacdd042c34",
   "metadata": {},
   "source": [
    "### 28. Create a set of random numbers"
   ]
  },
  {
   "cell_type": "code",
   "execution_count": 171,
   "id": "5f1d3e0e-445c-406a-a4d7-d0aea1214bfb",
   "metadata": {},
   "outputs": [
    {
     "data": {
      "text/plain": [
       "{0, 1, 3, 4, 5, 6, 9}"
      ]
     },
     "execution_count": 171,
     "metadata": {},
     "output_type": "execute_result"
    }
   ],
   "source": [
    "import random\n",
    "s=set()\n",
    "for i in range(10):\n",
    "    s.add(random.randint(0,10))\n",
    "s"
   ]
  },
  {
   "cell_type": "markdown",
   "id": "89a82f6e-4afb-4e1d-97ad-a07793181db6",
   "metadata": {},
   "source": [
    "### 29. Check if a set is empty."
   ]
  },
  {
   "cell_type": "code",
   "execution_count": 180,
   "id": "1fb83b95-06ff-42ed-8b3a-ddfa34797ae9",
   "metadata": {},
   "outputs": [
    {
     "name": "stdout",
     "output_type": "stream",
     "text": [
      "set is empty\n"
     ]
    }
   ],
   "source": [
    "s=set()\n",
    "if len(s)==0:\n",
    "    print('set is empty')\n",
    "else:\n",
    "    print('set is not empty')"
   ]
  },
  {
   "cell_type": "markdown",
   "id": "f601e8eb-b2b6-42e8-98f2-540eb8c8d4a3",
   "metadata": {},
   "source": [
    "### 30. Create a nested set (hint: use frozenset)."
   ]
  },
  {
   "cell_type": "code",
   "execution_count": 181,
   "id": "322f7cc3-ad91-4b2a-9c48-2d45c56bf948",
   "metadata": {},
   "outputs": [],
   "source": [
    "a = frozenset([1,2,3,4,5,6,7])\n",
    "\n",
    "nested_set = {a}\n",
    "\n",
    "print(nested_set)"
   ]
  },
  {
   "cell_type": "markdown",
   "id": "2de4a239-6535-480d-a0ba-e4614ac100ca",
   "metadata": {},
   "source": [
    "### 31. Remove an element from a set using the discard method"
   ]
  },
  {
   "cell_type": "code",
   "execution_count": 187,
   "id": "abaceaf1-112e-4539-ad28-3913fbc7c659",
   "metadata": {},
   "outputs": [
    {
     "data": {
      "text/plain": [
       "{2, 3, 4, 5}"
      ]
     },
     "execution_count": 187,
     "metadata": {},
     "output_type": "execute_result"
    }
   ],
   "source": [
    "s={1,2,3,4,5}\n",
    "s.discard(1)\n",
    "s"
   ]
  },
  {
   "cell_type": "markdown",
   "id": "e5898a8f-7383-4452-b8fb-280b0d1449c0",
   "metadata": {},
   "source": [
    "### 32. Compare two sets."
   ]
  },
  {
   "cell_type": "code",
   "execution_count": 6,
   "id": "f288288c-ea1b-4d96-8f08-22e2f64215f9",
   "metadata": {},
   "outputs": [
    {
     "name": "stdout",
     "output_type": "stream",
     "text": [
      "Sets are not equal\n",
      "Sets are not equal\n",
      "Set b is less than a\n"
     ]
    }
   ],
   "source": [
    "a= {1,2,4}\n",
    "b={3,4,5}\n",
    "\n",
    "# Check sets are equal\n",
    "if a == b:\n",
    "    print('Sets are equal')\n",
    "else:\n",
    "    print('Sets are not equal')\n",
    "\n",
    "# Check sets are not equal\n",
    "\n",
    "if a != b:\n",
    "    print('Sets are not equal')\n",
    "else:\n",
    "    print('The Sets are equal')\n",
    "    \n",
    "# Check sets based on their elements\n",
    "\n",
    "if a<b:\n",
    "    print('Set b is greater than a')\n",
    "else:\n",
    "    print('Set b is less than a')"
   ]
  },
  {
   "cell_type": "markdown",
   "id": "5b67d206-fe00-44ab-a078-b18ad7028ede",
   "metadata": {},
   "source": [
    "### 33. Create a set from a string."
   ]
  },
  {
   "cell_type": "code",
   "execution_count": 200,
   "id": "40617780-cfe0-48a9-960b-3f8f8aea67d1",
   "metadata": {},
   "outputs": [
    {
     "data": {
      "text/plain": [
       "{'Create', 'a', 'from', 'set', 'string'}"
      ]
     },
     "execution_count": 200,
     "metadata": {},
     "output_type": "execute_result"
    }
   ],
   "source": [
    "str='Create a set from a string'\n",
    "s=set(str.split())\n",
    "s"
   ]
  },
  {
   "cell_type": "markdown",
   "id": "a3ec19e1-9759-49b1-9830-52d2bd0a61b6",
   "metadata": {},
   "source": [
    "### 34. Convert a set of strings to a set of integers."
   ]
  },
  {
   "cell_type": "code",
   "execution_count": 204,
   "id": "6de8d8c5-05f0-43fa-b94f-b480781c11c2",
   "metadata": {},
   "outputs": [
    {
     "data": {
      "text/plain": [
       "{1, 2, 3, 4, 5}"
      ]
     },
     "execution_count": 204,
     "metadata": {},
     "output_type": "execute_result"
    }
   ],
   "source": [
    "s={'1','2','3','4','5'}\n",
    "s={int(i) for i in s}\n",
    "s"
   ]
  },
  {
   "cell_type": "markdown",
   "id": "d14f2f2c-c02a-4c1c-8bb5-834629b2f87c",
   "metadata": {},
   "source": [
    "### 35. Convert a set of integers to a set of strings."
   ]
  },
  {
   "cell_type": "code",
   "execution_count": 5,
   "id": "e91a7db8-d6c4-4915-8c37-64f2cbbe6da7",
   "metadata": {},
   "outputs": [
    {
     "name": "stdout",
     "output_type": "stream",
     "text": [
      "{'5', '1', '2', '3', '4'}\n"
     ]
    }
   ],
   "source": [
    "set_integers = {1, 2, 3, 4, 5}\n",
    "\n",
    "set_strings = set(str(i) for i in set_integers)\n",
    "\n",
    "print(set_strings)"
   ]
  },
  {
   "cell_type": "markdown",
   "id": "856bd284-53f6-4ff9-b49c-a3ff532a27d0",
   "metadata": {},
   "source": [
    "### 36. Create a set from a tuple."
   ]
  },
  {
   "cell_type": "code",
   "execution_count": 230,
   "id": "275d221b-2490-4ae0-a0a9-6036d9364376",
   "metadata": {},
   "outputs": [
    {
     "name": "stdout",
     "output_type": "stream",
     "text": [
      "{'from', 'Create', 'a', 'set', 'tuple'}\n",
      "<class 'set'>\n"
     ]
    }
   ],
   "source": [
    "tup=('Create', 'a', 'set', 'from', 'a', 'tuple')\n",
    "s=set(tup)\n",
    "print(s)\n",
    "print(type(s))"
   ]
  },
  {
   "cell_type": "markdown",
   "id": "d02863a1-8a86-4ea7-a702-a8f6475a2175",
   "metadata": {},
   "source": [
    "### 37. Convert a set to a tuple."
   ]
  },
  {
   "cell_type": "code",
   "execution_count": 233,
   "id": "cb7e50d2-ea2c-45ca-a070-190d2bf783cc",
   "metadata": {},
   "outputs": [
    {
     "name": "stdout",
     "output_type": "stream",
     "text": [
      "('a', 'set', 'from', 'Create', 'tuple')\n",
      "<class 'tuple'>\n"
     ]
    }
   ],
   "source": [
    "s={'Create', 'a', 'set', 'from', 'a', 'tuple'}\n",
    "tup=tuple(s)\n",
    "print(tup)\n",
    "print(type(tup))"
   ]
  },
  {
   "cell_type": "markdown",
   "id": "88baf93f-973d-4589-a066-ff0144759e46",
   "metadata": {},
   "source": [
    "### 38. Find the maximum value in a set."
   ]
  },
  {
   "cell_type": "code",
   "execution_count": 277,
   "id": "7cd5fb73-6b46-4e92-96d4-bb9749b32d89",
   "metadata": {},
   "outputs": [
    {
     "data": {
      "text/plain": [
       "8"
      ]
     },
     "execution_count": 277,
     "metadata": {},
     "output_type": "execute_result"
    }
   ],
   "source": [
    "s={2,3,4,5,6,7,8,1}\n",
    "max(s)"
   ]
  },
  {
   "cell_type": "markdown",
   "id": "d57a9564-0e1f-406b-9440-8321b4e7c4c0",
   "metadata": {},
   "source": [
    "### 39. Find the minimum value in a set."
   ]
  },
  {
   "cell_type": "code",
   "execution_count": 279,
   "id": "e5cd8eb6-2557-42d4-ab7c-97d3f9c02b53",
   "metadata": {},
   "outputs": [
    {
     "data": {
      "text/plain": [
       "1"
      ]
     },
     "execution_count": 279,
     "metadata": {},
     "output_type": "execute_result"
    }
   ],
   "source": [
    "s={2,3,4,5,6,7,8,1}\n",
    "min(s)"
   ]
  },
  {
   "cell_type": "markdown",
   "id": "7027f242-4474-4718-9cc9-dee3c2a3730a",
   "metadata": {},
   "source": [
    "### 40. Create a set from user input."
   ]
  },
  {
   "cell_type": "code",
   "execution_count": 284,
   "id": "3eb81b21-8473-4df3-8052-308afa2b07cc",
   "metadata": {},
   "outputs": [
    {
     "name": "stdin",
     "output_type": "stream",
     "text": [
      " 10\n"
     ]
    },
    {
     "data": {
      "text/plain": [
       "{'0', '1'}"
      ]
     },
     "execution_count": 284,
     "metadata": {},
     "output_type": "execute_result"
    }
   ],
   "source": [
    "s=set(input())\n",
    "s"
   ]
  },
  {
   "cell_type": "markdown",
   "id": "e0177547-b2c5-4bc1-942f-b184f6ed896a",
   "metadata": {},
   "source": [
    "### 41. Check if the intersection of two sets is empty."
   ]
  },
  {
   "cell_type": "code",
   "execution_count": 290,
   "id": "3be8473f-4124-4517-92fc-69f129cf6821",
   "metadata": {},
   "outputs": [
    {
     "name": "stdout",
     "output_type": "stream",
     "text": [
      "the intersection of two sets is not empty\n"
     ]
    }
   ],
   "source": [
    "s1={1,2,3,4}\n",
    "s2={4,5,6,7}\n",
    "if s1.intersection(s2)==0:\n",
    "    print('the intersection of two sets is empty')\n",
    "else:\n",
    "    print('the intersection of two sets is not empty')"
   ]
  },
  {
   "cell_type": "markdown",
   "id": "95a1843a-b3a8-4fdb-a2b2-f589cb8a74f4",
   "metadata": {},
   "source": [
    "### 42. Create a set of the first 5 Fibonacci numbers."
   ]
  },
  {
   "cell_type": "code",
   "execution_count": 4,
   "id": "9bfb7880-8e04-46b1-8d54-24ab33a52721",
   "metadata": {},
   "outputs": [
    {
     "name": "stdout",
     "output_type": "stream",
     "text": [
      "First 5 Fibonacci numbers: {0, 1, 2, 3, 5}\n"
     ]
    }
   ],
   "source": [
    "fib_set = set()\n",
    "\n",
    "a,b = 0, 1\n",
    "\n",
    "for i in range(2, 8):\n",
    "    next_fibonacci = fib_set.add(a)\n",
    "    a,b = b, a+b\n",
    "\n",
    "print(\"First 5 Fibonacci numbers:\", fib_set)"
   ]
  },
  {
   "cell_type": "markdown",
   "id": "c501ca75-d5b2-4c02-8962-0ddb7730ea9b",
   "metadata": {},
   "source": [
    "### 43. Remove duplicates from a list using sets."
   ]
  },
  {
   "cell_type": "code",
   "execution_count": 297,
   "id": "3361dd41-45ae-4947-8936-46984794e2c3",
   "metadata": {},
   "outputs": [
    {
     "data": {
      "text/plain": [
       "[1, 2, 3, 4, 5, 6, 7, 8, 9]"
      ]
     },
     "execution_count": 297,
     "metadata": {},
     "output_type": "execute_result"
    }
   ],
   "source": [
    "lst=[1,1,2,3,4,5,5,5,6,7,8,8,9]\n",
    "list(set(lst))"
   ]
  },
  {
   "cell_type": "markdown",
   "id": "634b0b69-28dd-45fd-af91-cf638e525025",
   "metadata": {},
   "source": [
    "### 44. Check if two sets have the same elements, regardless of their count."
   ]
  },
  {
   "cell_type": "code",
   "execution_count": 300,
   "id": "2208136c-e59d-4ea3-8a2e-88de17dc0a7c",
   "metadata": {},
   "outputs": [
    {
     "name": "stdout",
     "output_type": "stream",
     "text": [
      "two sets have same elements\n"
     ]
    }
   ],
   "source": [
    "s1={1,2,3,4}\n",
    "s2={1,2,3,4}\n",
    "if s1==s2:\n",
    "    print('two sets have same elements')\n",
    "else:\n",
    "    print('two sets have different elements')"
   ]
  },
  {
   "cell_type": "markdown",
   "id": "74b72a44-af3e-4d32-90d7-5c745eab9fd2",
   "metadata": {},
   "source": [
    "### 45. Create a set of the first `n` powers of 2."
   ]
  },
  {
   "cell_type": "code",
   "execution_count": 1,
   "id": "42a4d96e-ff04-44a3-bfac-413450995e3c",
   "metadata": {},
   "outputs": [
    {
     "name": "stdout",
     "output_type": "stream",
     "text": [
      "{32, 1, 2, 4, 8, 16}\n"
     ]
    }
   ],
   "source": [
    "n = 6  \n",
    "power = set(2 ** i for i in range(n))\n",
    "\n",
    "print(power)"
   ]
  },
  {
   "cell_type": "markdown",
   "id": "d5176810-5247-4c8e-9f1f-378af61b1f6e",
   "metadata": {},
   "source": [
    "### 46. Find the common elements between a set and a list."
   ]
  },
  {
   "cell_type": "code",
   "execution_count": 318,
   "id": "ce53254c-691e-4e1f-9e65-0fab275a4c9b",
   "metadata": {},
   "outputs": [
    {
     "name": "stdout",
     "output_type": "stream",
     "text": [
      "{1, 2} {6, 7}\n"
     ]
    }
   ],
   "source": [
    "s={1,2,3,4,5}\n",
    "lst=[3,4,5,6,7]\n",
    "print(s.difference(set(lst)),set(lst).difference(s))"
   ]
  },
  {
   "cell_type": "markdown",
   "id": "ff4e3cd2-32ba-4f76-a78e-5232a8a617bf",
   "metadata": {},
   "source": [
    "### 47. Create a set of the first `n` triangular numbers"
   ]
  },
  {
   "cell_type": "code",
   "execution_count": 2,
   "id": "547a084d-f10a-4eca-ab54-eed006fd899e",
   "metadata": {},
   "outputs": [
    {
     "name": "stdout",
     "output_type": "stream",
     "text": [
      "{1, 3, 6, 10, 15}\n"
     ]
    }
   ],
   "source": [
    "n = 5 \n",
    "triangular_numbers = set((i * (i + 1)) // 2 for i in range(1, n + 1))\n",
    "print(triangular_numbers)"
   ]
  },
  {
   "cell_type": "markdown",
   "id": "ffd56009-0068-48ed-b836-7e0aa6ed08e5",
   "metadata": {},
   "source": [
    "### 48. Check if a set contains another set as a subset."
   ]
  },
  {
   "cell_type": "code",
   "execution_count": 3,
   "id": "dd368b6a-e16d-40c4-8fee-2541efee4d32",
   "metadata": {},
   "outputs": [
    {
     "name": "stdout",
     "output_type": "stream",
     "text": [
      "the set2 is not a subset of set1\n"
     ]
    }
   ],
   "source": [
    "set1 = {1,2,3,4,5}\n",
    "set2 = {31,14}\n",
    "\n",
    "subset =set2.issubset(set1)\n",
    "\n",
    "if subset:\n",
    "    print('the set2 is a subset of set1')\n",
    "else:\n",
    "    print('the set2 is not a subset of set1')"
   ]
  },
  {
   "cell_type": "markdown",
   "id": "7f06e2b0-a993-4376-8d3a-141af63351f1",
   "metadata": {},
   "source": [
    "### 49. Create a set of alternating 1s and 0s of length `n`."
   ]
  },
  {
   "cell_type": "code",
   "execution_count": 348,
   "id": "25c69329-cc09-49d9-9c1c-43e26766fc5d",
   "metadata": {},
   "outputs": [
    {
     "name": "stdout",
     "output_type": "stream",
     "text": [
      "1 0 1 0 1 0 1 0 1 0 "
     ]
    }
   ],
   "source": [
    "s=set()\n",
    "n=10\n",
    "x=0\n",
    "for i in range(0,n):\n",
    "    if x==0:\n",
    "        x=1\n",
    "    else: \n",
    "        x=0\n",
    "    print(x,end=' ')"
   ]
  },
  {
   "cell_type": "markdown",
   "id": "78643f46-6133-4164-be6a-8920f4362a41",
   "metadata": {},
   "source": [
    "### 50. Merge multiple sets into one."
   ]
  },
  {
   "cell_type": "code",
   "execution_count": 352,
   "id": "3c810d82-22fe-4542-96af-d158125c4cd3",
   "metadata": {},
   "outputs": [
    {
     "name": "stdout",
     "output_type": "stream",
     "text": [
      "{1, 2, 3, 4, 5, 6, 7, 8, 9}\n"
     ]
    }
   ],
   "source": [
    "s1={1,2,3,4}\n",
    "s2={5,6,7,8,9}\n",
    "for i in s2:\n",
    "    s1.add(i)\n",
    "print(s1)"
   ]
  }
 ],
 "metadata": {
  "kernelspec": {
   "display_name": "Python 3 (ipykernel)",
   "language": "python",
   "name": "python3"
  },
  "language_info": {
   "codemirror_mode": {
    "name": "ipython",
    "version": 3
   },
   "file_extension": ".py",
   "mimetype": "text/x-python",
   "name": "python",
   "nbconvert_exporter": "python",
   "pygments_lexer": "ipython3",
   "version": "3.10.8"
  }
 },
 "nbformat": 4,
 "nbformat_minor": 5
}
