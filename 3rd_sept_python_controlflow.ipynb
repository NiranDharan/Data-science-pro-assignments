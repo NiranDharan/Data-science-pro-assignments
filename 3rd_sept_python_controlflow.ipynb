{
 "cells": [
  {
   "cell_type": "markdown",
   "id": "81521216-c574-4eeb-8512-2c7ee758641a",
   "metadata": {},
   "source": [
    "### Basic If-Else Statements:\n"
   ]
  },
  {
   "cell_type": "markdown",
   "id": "4a161c9e-17ee-48a7-9d62-a83a3c6b0ee4",
   "metadata": {},
   "source": [
    "### 1. Write a Python program to check if a given number is positive or negative"
   ]
  },
  {
   "cell_type": "code",
   "execution_count": 6,
   "id": "c2e8e0ee-6a6e-482e-ac06-078440d3ff9f",
   "metadata": {},
   "outputs": [
    {
     "name": "stdin",
     "output_type": "stream",
     "text": [
      " -9\n"
     ]
    },
    {
     "name": "stdout",
     "output_type": "stream",
     "text": [
      "the given number is negative\n"
     ]
    }
   ],
   "source": [
    "x=int(input('enter a number:'))\n",
    "if x < 0:\n",
    "    print('the given number is negative')\n",
    "else:\n",
    "     print('the given number is positive')"
   ]
  },
  {
   "cell_type": "markdown",
   "id": "d603bf76-faa0-4a39-8fea-4a23701eb000",
   "metadata": {},
   "source": [
    "### 2. Create a program that determines if a person is eligible to vote based on their age"
   ]
  },
  {
   "cell_type": "code",
   "execution_count": 8,
   "id": "27fc2065-7644-4cc4-92af-05242ebea781",
   "metadata": {},
   "outputs": [
    {
     "name": "stdin",
     "output_type": "stream",
     "text": [
      "enter the age of a person : 80\n"
     ]
    },
    {
     "name": "stdout",
     "output_type": "stream",
     "text": [
      "the person is eligible to vote\n"
     ]
    }
   ],
   "source": [
    "x=int(input('enter the age of a person :'))\n",
    "if x >= 18:\n",
    "    print('the person is eligible to vote')\n",
    "else:\n",
    "     print('the person is not eligible to vote')"
   ]
  },
  {
   "cell_type": "markdown",
   "id": "00fcf142-8476-4f41-b3ee-79114d69559a",
   "metadata": {},
   "source": [
    "### 3. Develop a program to find the maximum of two numbers using if-else statements"
   ]
  },
  {
   "cell_type": "code",
   "execution_count": 1,
   "id": "6987f870-a0c2-4f2c-8359-a27f71cff128",
   "metadata": {},
   "outputs": [
    {
     "name": "stdin",
     "output_type": "stream",
     "text": [
      "enter the first number : 10\n",
      "enter the second number : 190\n"
     ]
    },
    {
     "name": "stdout",
     "output_type": "stream",
     "text": [
      "190 is greater than 10\n"
     ]
    }
   ],
   "source": [
    "x,y=int(input('enter the first number :')),int(input('enter the second number :'))\n",
    "if x > y:\n",
    "    print(x ,'is greater than',y)\n",
    "else:\n",
    "    print(y,'is greater than',x)"
   ]
  },
  {
   "cell_type": "markdown",
   "id": "649a7ecc-6bf9-47d5-b4ec-4dae62a76f6f",
   "metadata": {},
   "source": [
    "### 4. Write a Python script to classify a given year as a leap year or not.\n"
   ]
  },
  {
   "cell_type": "code",
   "execution_count": 7,
   "id": "1b2e3bf0-543f-42bb-aa0a-8cca186461a9",
   "metadata": {},
   "outputs": [
    {
     "name": "stdin",
     "output_type": "stream",
     "text": [
      "enter a year : 2005\n"
     ]
    },
    {
     "name": "stdout",
     "output_type": "stream",
     "text": [
      "Given Year is not a leap Year\n"
     ]
    }
   ],
   "source": [
    " year=int(input('enter a year :'))\n",
    "if((year % 400 == 0) or (year % 100 != 0) and (year % 4 == 0)):\n",
    "        print(\"Given Year is a leap Year\");  \n",
    "else:\n",
    "        print (\"Given Year is not a leap Year\")  "
   ]
  },
  {
   "cell_type": "markdown",
   "id": "3e82a3cb-ebb7-477e-9b24-70101a843752",
   "metadata": {},
   "source": [
    "\n",
    "### 5. Create a program that checks whether a character is a vowel or a consonant.\n",
    "\n"
   ]
  },
  {
   "cell_type": "code",
   "execution_count": 10,
   "id": "2cd48d8b-83d2-46b9-9441-9352783d5c8b",
   "metadata": {},
   "outputs": [
    {
     "name": "stdin",
     "output_type": "stream",
     "text": [
      " L\n"
     ]
    },
    {
     "name": "stdout",
     "output_type": "stream",
     "text": [
      "given character is not a vowel or a consonant\n"
     ]
    }
   ],
   "source": [
    "char=str(input())\n",
    "vowels='a','e','i','o','o','z','b','t','g','h'\n",
    "if char.lower() in vowels:\n",
    "    print('given character is a vowel or a consonant')\n",
    "else:\n",
    "    print('given character is not a vowel or a consonant')"
   ]
  },
  {
   "cell_type": "markdown",
   "id": "e63da7be-e980-46be-8cd1-6230527dc8c1",
   "metadata": {},
   "source": [
    "### 6. Implement a program to determine whether a given number is even or odd."
   ]
  },
  {
   "cell_type": "code",
   "execution_count": 13,
   "id": "81bfa868-a9d5-4f71-992d-adeb7aec2eca",
   "metadata": {},
   "outputs": [
    {
     "name": "stdin",
     "output_type": "stream",
     "text": [
      "enter a number: 11\n"
     ]
    },
    {
     "name": "stdout",
     "output_type": "stream",
     "text": [
      "given number is odd\n"
     ]
    }
   ],
   "source": [
    "x=int(input('enter a number:'))\n",
    "if x%2==0:\n",
    "    print('given number is even')\n",
    "else:\n",
    "     print('given number is odd')"
   ]
  },
  {
   "cell_type": "markdown",
   "id": "089d2b61-6910-46cc-96f5-7bfed50b7ad8",
   "metadata": {},
   "source": [
    "\n",
    "\n",
    "### 7. Write a Python function to calculate the absolute value of a number without using the `abs()` function."
   ]
  },
  {
   "cell_type": "code",
   "execution_count": 17,
   "id": "1696f6ec-cd9f-4108-82b9-7a9eba0863d0",
   "metadata": {},
   "outputs": [
    {
     "name": "stdin",
     "output_type": "stream",
     "text": [
      "enter a number: 9\n"
     ]
    },
    {
     "name": "stdout",
     "output_type": "stream",
     "text": [
      "9\n"
     ]
    }
   ],
   "source": [
    "x=int(input('enter a number:'))\n",
    "if x<0:\n",
    "    print(-1*x)\n",
    "else:\n",
    "    print(x)"
   ]
  },
  {
   "cell_type": "markdown",
   "id": "a258f02d-2e03-4fda-b407-0875455c6918",
   "metadata": {},
   "source": [
    "\n",
    "\n",
    "### 8. Develop a program that determines the largest of three given numbers using if-else statements."
   ]
  },
  {
   "cell_type": "code",
   "execution_count": 22,
   "id": "02af4bac-819c-4444-84a3-e7d423a1ae53",
   "metadata": {},
   "outputs": [
    {
     "name": "stdin",
     "output_type": "stream",
     "text": [
      "enter the first number : 20\n",
      "enter the second number : 90\n",
      "enter the third number : 200\n"
     ]
    },
    {
     "name": "stdout",
     "output_type": "stream",
     "text": [
      "200  is the largest number\n"
     ]
    }
   ],
   "source": [
    "x,y,z=int(input('enter the first number :')),int(input('enter the second number :')),int(input('enter the third number :'))\n",
    "if x > y and x > z:\n",
    "    print(x,' is the largest number')\n",
    "if y > x and y > z:\n",
    "    print(y,' is the largest number')\n",
    "if z > x and z > y:\n",
    "    print(z,' is the largest number')"
   ]
  },
  {
   "cell_type": "markdown",
   "id": "8ffcfaf2-f4a6-4a80-b7a4-560f082f2dbd",
   "metadata": {},
   "source": [
    "\n",
    "\n",
    "### 9. Create a program that checks if a given string is a palindrome."
   ]
  },
  {
   "cell_type": "code",
   "execution_count": 24,
   "id": "25f29852-3000-4ad6-9fc9-7b1bc6bdfb20",
   "metadata": {},
   "outputs": [
    {
     "name": "stdin",
     "output_type": "stream",
     "text": [
      " racecar\n"
     ]
    },
    {
     "name": "stdout",
     "output_type": "stream",
     "text": [
      "given string is a palindrome\n"
     ]
    }
   ],
   "source": [
    "string=str(input())\n",
    "if string == string[::-1]:\n",
    "    print('given string is a palindrome')\n",
    "else:\n",
    "     print('given string is not a palindrome')"
   ]
  },
  {
   "cell_type": "markdown",
   "id": "1ff27d90-9ac9-46f0-bcc2-a93b6a9a1713",
   "metadata": {},
   "source": [
    "\n",
    "\n",
    "### 10. Write a Python program to calculate the grade based on a student's score"
   ]
  },
  {
   "cell_type": "code",
   "execution_count": 1,
   "id": "7ab8e820-fe93-4e77-b59d-ec0bb9c71fc2",
   "metadata": {},
   "outputs": [
    {
     "name": "stdin",
     "output_type": "stream",
     "text": [
      "student's score : 5\n"
     ]
    },
    {
     "name": "stdout",
     "output_type": "stream",
     "text": [
      "Grade is F\n"
     ]
    }
   ],
   "source": [
    "x=int(input(\"student's score :\"))\n",
    "if x in range(80,101):\n",
    "    print('Grade is A')\n",
    "if x in range(60,81):\n",
    "    print('Grade is B')\n",
    "if x in range(40,61):\n",
    "    print('Grade is C')\n",
    "if x < 40 :\n",
    "    print('Grade is F')"
   ]
  },
  {
   "cell_type": "markdown",
   "id": "d76c26dc-9414-4d6f-b538-dde0f41ac532",
   "metadata": {},
   "source": [
    "### Nested If-Else Statements:\n",
    "\n",
    " \n",
    "\n"
   ]
  },
  {
   "cell_type": "markdown",
   "id": "b52db4c2-6d56-4ef0-aef6-44081d3b8fb0",
   "metadata": {},
   "source": [
    "### 11. Write a program to find the largest among three numbers using nested if-else statements."
   ]
  },
  {
   "cell_type": "code",
   "execution_count": 18,
   "id": "595146a4-f41c-403c-95f1-3a17da4e68e8",
   "metadata": {},
   "outputs": [
    {
     "name": "stdin",
     "output_type": "stream",
     "text": [
      "enter the first number : 3\n",
      "enter the second number : 2\n",
      "enter the third number : 1\n"
     ]
    },
    {
     "name": "stdout",
     "output_type": "stream",
     "text": [
      "3  is the largest number\n"
     ]
    }
   ],
   "source": [
    "x,y,z=int(input('enter the first number :')),int(input('enter the second number :')),int(input('enter the third number :'))\n",
    "if x > y :\n",
    "     if x > z:\n",
    "        print(x,' is the largest number')\n",
    "elif y > z:\n",
    "    print(y,' is the largest number')\n",
    "else:\n",
    "     print(z,' is the largest number')"
   ]
  },
  {
   "cell_type": "markdown",
   "id": "4ae59787-675c-434a-886d-8c0ce89200f5",
   "metadata": {},
   "source": [
    "\n",
    "\n",
    "### 12. Implement a program to determine if a triangle is equilateral, isosceles, or scalene."
   ]
  },
  {
   "cell_type": "code",
   "execution_count": 7,
   "id": "cca7e7c2-54d5-4d78-be4d-70aef2054f46",
   "metadata": {},
   "outputs": [
    {
     "name": "stdin",
     "output_type": "stream",
     "text": [
      "enter the first side of triangle: 6\n",
      "enter the second side of triangle: 76\n",
      "enter the third side of triangle: 6\n"
     ]
    },
    {
     "name": "stdout",
     "output_type": "stream",
     "text": [
      "it is a equilateral triangle\n"
     ]
    }
   ],
   "source": [
    "x,y,z=int(input('enter the first side of triangle:')),int(input('enter the second side of triangle:')),int(input('enter the third side of triangle:'))\n",
    "if x==y==z:\n",
    "    print('it is a equilateral triangle')\n",
    "if x!=y and x!=z and y!=z:\n",
    "    print('it is a scalene triangle')\n",
    "if x==z and x!=y:\n",
    "        print('it is a equilateral triangle')"
   ]
  },
  {
   "cell_type": "markdown",
   "id": "c547f86b-db08-483b-95ed-6b976c0597ae",
   "metadata": {},
   "source": [
    "\n",
    "\n",
    "### 13. Develop a program that checks if a year is a leap year and also if it is a century year.\n",
    "\n"
   ]
  },
  {
   "cell_type": "code",
   "execution_count": 16,
   "id": "729b11aa-9319-4596-b093-b46f90ecfc0d",
   "metadata": {},
   "outputs": [
    {
     "name": "stdin",
     "output_type": "stream",
     "text": [
      "enter a year : 2000\n"
     ]
    },
    {
     "name": "stdout",
     "output_type": "stream",
     "text": [
      "Given Year is a leap Year\n",
      "it is also century year\n"
     ]
    }
   ],
   "source": [
    " year=int(input('enter a year :'))\n",
    "if((year % 400 == 0) or (year % 100 != 0) and (year % 4 == 0)):\n",
    "        print(\"Given Year is a leap Year\");  \n",
    "        if (year % 400 == 0) and (year % 100 == 0) :\n",
    "            print('it is also century year')\n",
    "else:\n",
    "        print (\"Given Year is not a leap Year\")  "
   ]
  },
  {
   "cell_type": "markdown",
   "id": "645ea7b2-38bd-4549-be61-f6fc9d60e664",
   "metadata": {},
   "source": [
    "### 14. Write a Python script to determine if a number is positive, negative, or zero.\n",
    "\n"
   ]
  },
  {
   "cell_type": "code",
   "execution_count": 20,
   "id": "0c3d55c4-289f-4057-a857-8b977a3c4a73",
   "metadata": {},
   "outputs": [
    {
     "name": "stdin",
     "output_type": "stream",
     "text": [
      "enter the number : -9\n"
     ]
    },
    {
     "name": "stdout",
     "output_type": "stream",
     "text": [
      "number is negative\n"
     ]
    }
   ],
   "source": [
    "x=int(input('enter the number :'))\n",
    "if x > 0:\n",
    "    print('number is positive')\n",
    "if x < 0:\n",
    "    print('number is negative')\n",
    "if x==0:\n",
    "    print('number is zero')"
   ]
  },
  {
   "cell_type": "markdown",
   "id": "015ee4a7-fe9f-4558-bb07-db989810556b",
   "metadata": {},
   "source": [
    "### 15. Create a program to check if a person is a teenager (between 13 and 19 years old)."
   ]
  },
  {
   "cell_type": "code",
   "execution_count": 22,
   "id": "9ac800fd-a7aa-4e6f-b2f1-7e98b9d2fbcf",
   "metadata": {},
   "outputs": [
    {
     "name": "stdin",
     "output_type": "stream",
     "text": [
      "enter the age of a person : 19\n"
     ]
    },
    {
     "name": "stdout",
     "output_type": "stream",
     "text": [
      "the person is a teenager\n"
     ]
    }
   ],
   "source": [
    "x=int(input('enter the age of a person :'))\n",
    "if x in range(13,20):\n",
    "    print('the person is a teenager')\n",
    "else:\n",
    "     print('the person is not a teenager')"
   ]
  },
  {
   "cell_type": "markdown",
   "id": "ba182470-8878-4172-9e5d-58d3e8d9afa9",
   "metadata": {},
   "source": [
    "### 16. Develop a program that determines the type of angle based on its measure (acute, obtuse, or right).\n",
    "\n"
   ]
  },
  {
   "cell_type": "code",
   "execution_count": 36,
   "id": "d2e8fd6b-f00d-4db6-a731-114f541e14c6",
   "metadata": {},
   "outputs": [
    {
     "name": "stdin",
     "output_type": "stream",
     "text": [
      "enter the first side of triangle: 10\n",
      "enter the second side of triangle: 6\n",
      "enter the third side of triangle: 8\n"
     ]
    },
    {
     "name": "stdout",
     "output_type": "stream",
     "text": [
      "Right-angled triangle\n"
     ]
    }
   ],
   "source": [
    "a,b,c=int(input('enter the first side of triangle:')),int(input('enter the second side of triangle:')),int(input('enter the third side of triangle:'))\n",
    "sa = pow(a, 2)\n",
    "sb = pow(b, 2)\n",
    "sc = pow(c, 2)\n",
    "if (sa == sc + sb or sb == sa+sc or sc == sa+sb):\n",
    "    print(\"Right-angled triangle\")\n",
    "elif (sa > sc + sb or sb > sa+sc or sc > sa+sb):\n",
    "    print(\"Obtuse-angled triangle\")\n",
    "else:\n",
    "    print(\"Acute-angled triangle\")"
   ]
  },
  {
   "cell_type": "markdown",
   "id": "c3631b65-fbd7-4891-b83f-c922165256f9",
   "metadata": {},
   "source": [
    "### 17. Write a Python program to calculate the roots of a quadratic equation.\n",
    "\n"
   ]
  },
  {
   "cell_type": "code",
   "execution_count": null,
   "id": "dac6974a-e83a-40c9-aefb-bc5484ae4678",
   "metadata": {},
   "outputs": [],
   "source": [
    "import math\n",
    "a = int(input())\n",
    "b= int(input())\n",
    "c =int(input())\n",
    "\n",
    "determinant = b**2 - 4*a*c\n",
    "\n",
    "if determinant > 0:\n",
    "    root1 = (-b+math.sqrt(determinant))/2*a\n",
    "    root2 = (-b-math.sqrt(determinant))/2*a\n",
    "    print(root1, root2)\n",
    "    \n",
    "elif determinant == 0:\n",
    "    root = -b/(2*a)\n",
    "    print(root)\n",
    "    \n",
    "else:\n",
    "    real_part = -b/(2*a)\n",
    "    imaginary_part = math.sqrt(abs(determinant))/(2*a)\n",
    "    print(real_part, imaginary_part)"
   ]
  },
  {
   "cell_type": "markdown",
   "id": "b65ac87a-ace6-4b90-9c2b-1421f789c2f8",
   "metadata": {},
   "source": [
    "### 18. Implement a program to determine the day of the week based on a user-provided number (1 for Monday, 2 for Tuesday, etc.).\n",
    "\n"
   ]
  },
  {
   "cell_type": "code",
   "execution_count": 37,
   "id": "ddab3cdd-c613-4fbf-9b79-ccfab33a9782",
   "metadata": {},
   "outputs": [
    {
     "name": "stdin",
     "output_type": "stream",
     "text": [
      "enter the number : 7\n"
     ]
    },
    {
     "name": "stdout",
     "output_type": "stream",
     "text": [
      "the day of week is sunday\n"
     ]
    }
   ],
   "source": [
    "x=int(input('enter the number :'))\n",
    "if  x== 1:\n",
    "    print('the day of week is monday')\n",
    "if  x== 2:\n",
    "    print('the day of week is tuesday')\n",
    "if  x== 3:\n",
    "    print('the day of week is wednesday')\n",
    "if  x== 4:\n",
    "    print('the day of week is thursday')\n",
    "if  x== 5:\n",
    "    print('the day of week is friday')\n",
    "if  x== 6:\n",
    "    print('the day of week is saturday')\n",
    "if  x== 7:\n",
    "    print('the day of week is sunday')"
   ]
  },
  {
   "cell_type": "markdown",
   "id": "7416e282-b7fb-436c-a8fc-af1c05a968db",
   "metadata": {},
   "source": [
    "### 19. Create a program that determines if a year is a leap year and also if it is evenly divisible by 400."
   ]
  },
  {
   "cell_type": "code",
   "execution_count": null,
   "id": "c2a4dede-fbc0-4f9a-b629-99f6b4a20de5",
   "metadata": {},
   "outputs": [],
   "source": [
    " year=int(input('enter a year :'))\n",
    "if((year % 400 == 0) or (year % 100 != 0) and (year % 4 == 0)):\n",
    "        print(\"Given Year is a leap Year\");  \n",
    "        if (year % 400 == 0) :\n",
    "            print('this year is evenly divisible by 400')\n",
    "else:\n",
    "        print (\"Given Year is not a leap Year\")  "
   ]
  },
  {
   "cell_type": "markdown",
   "id": "fc084d37-b3f9-42d3-985b-bdfd3c571f0b",
   "metadata": {},
   "source": [
    "### 20. Develop a program that checks if a given number is prime or not using nested if-else statements"
   ]
  },
  {
   "cell_type": "code",
   "execution_count": 38,
   "id": "8ae7cfb5-b21e-48e1-a4c6-4138092f6a3e",
   "metadata": {},
   "outputs": [],
   "source": [
    "def prime(number):\n",
    "    if number < 2:\n",
    "        return False\n",
    "    elif number == 2:\n",
    "        return True\n",
    "    elif number % 2 == 0:\n",
    "        return False\n",
    "    else:\n",
    "        sqrt_num = int(number**0.5) + 1\n",
    "        for i in range(3, sqrt_num, 2):\n",
    "            if number % i == 0:\n",
    "                return False\n",
    "        return True\n",
    "\n",
    "num = int(input(\"Enter a number: \"))\n",
    "\n",
    "if prime(num):\n",
    "    print(f\"{num} is a prime number.\")\n",
    "else:\n",
    "    print(f\"{num} is not a prime number.\")\n"
   ]
  },
  {
   "cell_type": "markdown",
   "id": "1d89c94c-ee76-4d5c-8852-d317ac099d4f",
   "metadata": {},
   "source": [
    "### Elif Statements:"
   ]
  },
  {
   "cell_type": "markdown",
   "id": "b02ac8c7-199c-44e9-bbd9-156d20af92a7",
   "metadata": {},
   "source": [
    "### 21. Write a Python program to assign grades based on different ranges of scores using elif statements."
   ]
  },
  {
   "cell_type": "code",
   "execution_count": 40,
   "id": "440daaca-94f1-4d15-bf42-7cc9d3b711f7",
   "metadata": {},
   "outputs": [
    {
     "name": "stdin",
     "output_type": "stream",
     "text": [
      "student's score : 9\n"
     ]
    },
    {
     "name": "stdout",
     "output_type": "stream",
     "text": [
      "Grade is F\n"
     ]
    }
   ],
   "source": [
    "x=int(input(\"student's score :\"))\n",
    "if x in range(80,101):\n",
    "    print('Grade is A')\n",
    "elif x in range(60,81):\n",
    "    print('Grade is B')\n",
    "elif x in range(40,61):\n",
    "    print('Grade is C')\n",
    "elif x < 40 :\n",
    "    print('Grade is F')"
   ]
  },
  {
   "cell_type": "markdown",
   "id": "4df61469-f18d-4cc4-a1de-28be13a9e472",
   "metadata": {},
   "source": [
    "### 22. Implement a program to determine the type of a triangle based on its angles."
   ]
  },
  {
   "cell_type": "code",
   "execution_count": null,
   "id": "27e80aef-7fc6-4415-ac88-6074e0bb4543",
   "metadata": {},
   "outputs": [],
   "source": [
    "a,b,c=int(input('enter the first side of triangle:')),int(input('enter the second side of triangle:')),int(input('enter the third side of triangle:'))\n",
    "sa = pow(a, 2)\n",
    "sb = pow(b, 2)\n",
    "sc = pow(c, 2)\n",
    "if (sa == sc + sb or sb == sa+sc or sc == sa+sb):\n",
    "    print(\"Right-angled triangle\")\n",
    "elif (sa > sc + sb or sb > sa+sc or sc > sa+sb):\n",
    "    print(\"Obtuse-angled triangle\")\n",
    "else:\n",
    "    print(\"Acute-angled triangle\")"
   ]
  },
  {
   "cell_type": "markdown",
   "id": "fe3e1ab0-aef1-46e8-86d6-bd2d68881ae4",
   "metadata": {},
   "source": [
    "### 23. Develop a program to categorize a given person's BMI into underweight, normal, overweight, or obese using  elif statements."
   ]
  },
  {
   "cell_type": "code",
   "execution_count": 13,
   "id": "a6ca5481-a991-4c22-896b-c04705421c34",
   "metadata": {},
   "outputs": [
    {
     "name": "stdin",
     "output_type": "stream",
     "text": [
      "enter the weight (kg) : 80\n",
      "enter the height (cm) : 186\n"
     ]
    },
    {
     "name": "stdout",
     "output_type": "stream",
     "text": [
      "given person's BMI into underweight\n"
     ]
    }
   ],
   "source": [
    "x,y=float(input('enter the weight (kg) :')),float(input('enter the height (cm) :'))\n",
    "bmi=x/(y*y)*10000\n",
    "if bmi < 18.5 :\n",
    "    print(\"given person's BMI is underweight\")\n",
    "elif bmi in range(18,25) :\n",
    "    print(\"given person's BMI is normal\")\n",
    "elif bmi in range(25,30) :\n",
    "    print(\"given person's BMI is overweight\")\n",
    "else:\n",
    "    print(\"given person's BMI is obese\")"
   ]
  },
  {
   "cell_type": "markdown",
   "id": "c461877a-6675-4109-aa26-f54bd76a631e",
   "metadata": {},
   "source": [
    "### 24. Create a program that determines whether a given number is positive, negative, or zero using elif  statements."
   ]
  },
  {
   "cell_type": "code",
   "execution_count": 18,
   "id": "71281dfa-9a67-42d7-89ff-9cc85448169c",
   "metadata": {},
   "outputs": [
    {
     "name": "stdin",
     "output_type": "stream",
     "text": [
      "enter a number -0\n"
     ]
    },
    {
     "name": "stdout",
     "output_type": "stream",
     "text": [
      "given number is zero\n"
     ]
    }
   ],
   "source": [
    "x=int(input('enter a number'))\n",
    "\n",
    "if x < 0:\n",
    "    print('given number is negative')\n",
    "elif x > 0 :\n",
    "    print('given number is positive')\n",
    "else:\n",
    "    print('given number is zero')"
   ]
  },
  {
   "cell_type": "markdown",
   "id": "9ff15f1b-1027-4c43-97d2-d06a128c22d7",
   "metadata": {},
   "source": [
    "### 25. Write a Python script to determine the type of a character (uppercase, lowercase, or special) using elif  statements."
   ]
  },
  {
   "cell_type": "code",
   "execution_count": 27,
   "id": "688cdc74-a5b7-4f12-be1e-eff2ea0fc5ec",
   "metadata": {},
   "outputs": [
    {
     "name": "stdin",
     "output_type": "stream",
     "text": [
      "enter a character *\n"
     ]
    },
    {
     "name": "stdout",
     "output_type": "stream",
     "text": [
      "given character is special character\n"
     ]
    }
   ],
   "source": [
    "x=str(input('enter a character'))\n",
    "if x.isnumeric()==False and x.isalpha() ==False:\n",
    "    print('given character is special character')\n",
    "elif x==x.upper():\n",
    "    print('given character is uppercase character')\n",
    "elif x==x.lower():\n",
    "    print('given character is lowercase character')"
   ]
  },
  {
   "cell_type": "markdown",
   "id": "f0690ce3-7692-4c33-a506-905764e4ab72",
   "metadata": {},
   "source": [
    "### 26. Implement a program to calculate the discounted price based on different purchase amounts using elif  statements."
   ]
  },
  {
   "cell_type": "code",
   "execution_count": 33,
   "id": "dadacb1c-f1a5-42b2-9898-183fd355f9da",
   "metadata": {},
   "outputs": [
    {
     "name": "stdin",
     "output_type": "stream",
     "text": [
      "purchase amount : 6000\n"
     ]
    },
    {
     "name": "stdout",
     "output_type": "stream",
     "text": [
      "10 percent discount on purchased amount : 4200.0\n"
     ]
    }
   ],
   "source": [
    "price=int(input('purchase amount :'))\n",
    "disc_price=0\n",
    "if price in range(0,5001):\n",
    "    disc_price=price*0.9\n",
    "    print('10 percent discount on purchased amount :',disc_price)\n",
    "elif price in range(5000,10001):\n",
    "    disc_price=price*0.7\n",
    "    print('20 percent discount on purchased amount :',disc_price)\n",
    "elif price in range(10000,15001):\n",
    "    disc_price=price*0.5\n",
    "    print('30 percent discount on purchased amount :',disc_price)"
   ]
  },
  {
   "cell_type": "markdown",
   "id": "6faa8dba-ea65-462b-8ccc-d572b8fba935",
   "metadata": {},
   "source": [
    "### 27. Develop a program to calculate the electricity bill based on different consumption slabs using elif  statements."
   ]
  },
  {
   "cell_type": "code",
   "execution_count": 34,
   "id": "fe503cba-2d17-4198-82c9-1f2d0b631951",
   "metadata": {},
   "outputs": [
    {
     "name": "stdin",
     "output_type": "stream",
     "text": [
      "current in units : 400\n"
     ]
    },
    {
     "name": "stdout",
     "output_type": "stream",
     "text": [
      "electricity bill : 1600\n"
     ]
    }
   ],
   "source": [
    "unit=int(input('current in units :'))\n",
    "bill=0\n",
    "if unit in range(0,101):\n",
    "    bill=unit*1\n",
    "    print('electricity bill :',bill)\n",
    "elif unit in range(100,401):\n",
    "    bill=unit*4\n",
    "    print('electricity bill :',bill)\n",
    "elif unit in range(400,501):\n",
    "    bill=unit*6\n",
    "    print('electricity bill :',bill)\n",
    "elif unit > 500:\n",
    "    bill=unit*8\n",
    "    print('electricity bill :',bill)"
   ]
  },
  {
   "cell_type": "markdown",
   "id": "952e5379-a606-4097-a40d-74079de2ba76",
   "metadata": {},
   "source": [
    "### 28. Create a program to determine the type of quadrilateral based on its angles and sides using elif  statements."
   ]
  },
  {
   "cell_type": "code",
   "execution_count": null,
   "id": "e47fe160-4517-434c-9fd6-f74650e52d30",
   "metadata": {},
   "outputs": [],
   "source": [
    "def quadrilateral_type(sides, angles):\n",
    "    if all(sides[i] == sides[i+1] for i in range(len(sides)-1)):\n",
    "        return \"Square\"\n",
    "    elif angles[0] == angles[1] == angles[2] == angles[3] == 90:\n",
    "        return \"Rectangle\"\n",
    "    elif angles[0] == angles[1] == angles[2] == angles[3] and sum(angles) == 360:\n",
    "        return \"Rhombus\"\n",
    "    else:\n",
    "        return \"Quadrilateral\"\n",
    "\n",
    "sides = [float(input(f\"Enter side {i+1}: \")) for i in range(4)]\n",
    "angles = [int(input(f\"Enter angle {i+1}: \")) for i in range(4)]\n",
    "\n",
    "result = quadrilateral_type(sides, angles)\n",
    "print(f\"The quadrilateral is a {result}\")"
   ]
  },
  {
   "cell_type": "markdown",
   "id": "c5bd0c82-7943-4fb3-804b-01fcfafc3c7a",
   "metadata": {},
   "source": [
    "### 29. Write a Python script to determine the season based on a user-provided month using elif statements.s"
   ]
  },
  {
   "cell_type": "code",
   "execution_count": 37,
   "id": "1bd1b2a4-6d37-4499-bd09-562c863a0a0b",
   "metadata": {},
   "outputs": [
    {
     "name": "stdin",
     "output_type": "stream",
     "text": [
      "enter the month in number : 5\n"
     ]
    },
    {
     "name": "stdout",
     "output_type": "stream",
     "text": [
      "SPRING\n"
     ]
    }
   ],
   "source": [
    "M=int(input('enter the month in number :'))\n",
    "list1 = [[12 , 1 , 2], [3 , 4 , 5],[6 , 7 , 8], [9 , 10 , 11]]\n",
    "              \n",
    "if M in list1[0] :\n",
    "        print ( \"season of month is WINTER\" )\n",
    "elif M in list1[1] :\n",
    "        print ( \"season of month is SPRING\" )\n",
    "elif M in list1[2] :\n",
    "        print ( \"season of month is SUMMER\" )\n",
    "elif M in list1[3] :\n",
    "        print ( \"season of month is AUTUMN\" )\n",
    "else :\n",
    "        print ( \"Invalid Month Number\" )\n",
    " "
   ]
  },
  {
   "cell_type": "markdown",
   "id": "16d0ad52-d6f1-4a53-bdd3-302f7814578a",
   "metadata": {},
   "source": [
    "### 30. Implement a program to determine the type of a year (leap or common) and month (30 or 31 days) using  elif statement"
   ]
  },
  {
   "cell_type": "code",
   "execution_count": 38,
   "id": "1898e130-b741-4586-b9da-1afb1362140f",
   "metadata": {},
   "outputs": [],
   "source": [
    "def determine_year_and_month(year, month):\n",
    "    if year % 4 == 0 and (year % 100 != 0 or year % 400 == 0):\n",
    "        year_type = \"Leap Year\"\n",
    "    else:\n",
    "        year_type = \"Common Year\"\n",
    "\n",
    "    if month in [4, 6, 9, 11]:\n",
    "        days_in_month = 30\n",
    "    elif month == 2:\n",
    "        if year_type == \"Leap Year\":\n",
    "            days_in_month = 29\n",
    "        else:\n",
    "            days_in_month = 28\n",
    "    else:\n",
    "        days_in_month = 31\n",
    "\n",
    "    return year_type, days_in_month\n",
    "\n",
    "user_year = int(input(\"Enter the year: \"))\n",
    "user_month = int(input(\"Enter the month (as a number): \"))\n",
    "\n",
    "year_type, days_in_month = determine_year_and_month(user_year, user_month)\n",
    "print(f\"The year is a {year_type} and the month has {days_in_month} days.\")\n"
   ]
  },
  {
   "cell_type": "markdown",
   "id": "323a3cdc-c3b0-4070-a26f-e109db87f238",
   "metadata": {},
   "source": [
    "### Basic Level:"
   ]
  },
  {
   "cell_type": "markdown",
   "id": "bbbc6122-6ef4-4a8c-a35c-9ca73fcdbeec",
   "metadata": {},
   "source": [
    "### 1. Write a Python program that checks if a given number is positive, negative, or zero."
   ]
  },
  {
   "cell_type": "code",
   "execution_count": null,
   "id": "071d0643-7202-4fa6-8450-36c0cc0681b0",
   "metadata": {},
   "outputs": [],
   "source": [
    "x=int(input('enter a number'))\n",
    "\n",
    "if x < 0:\n",
    "    print('given number is negative')\n",
    "elif x > 0 :\n",
    "    print('given number is positive')\n",
    "else:\n",
    "    print('given number is zero')"
   ]
  },
  {
   "cell_type": "markdown",
   "id": "bc95938d-2e46-4194-9cb0-6a813865ae27",
   "metadata": {},
   "source": [
    "### 2. Create a program to determine if a person is eligible to vote based on their age."
   ]
  },
  {
   "cell_type": "code",
   "execution_count": null,
   "id": "e508d803-23b4-4ac4-9941-4b4ab022b95f",
   "metadata": {},
   "outputs": [],
   "source": [
    "x=int(input('enter the age of a person :'))\n",
    "if x >= 18:\n",
    "    print('the person is eligible to vote')\n",
    "else:\n",
    "     print('the person is not eligible to vote')"
   ]
  },
  {
   "cell_type": "markdown",
   "id": "c099595e-b3b0-414c-93a8-d29b9ac2a455",
   "metadata": {},
   "source": [
    "### 3. Write a program to find the maximum of two given numbers using conditional statements."
   ]
  },
  {
   "cell_type": "code",
   "execution_count": null,
   "id": "7a25bd63-a55e-4597-af45-36bf5543341c",
   "metadata": {},
   "outputs": [],
   "source": [
    "x,y=int(input('enter the first number :')),int(input('enter the second number :'))\n",
    "if x > y:\n",
    "    print(x ,'is greater than',y)\n",
    "else:\n",
    "    print(y,'is greater than',x)"
   ]
  },
  {
   "cell_type": "markdown",
   "id": "c04b37fb-c492-44ed-9b29-7a59d86c01a4",
   "metadata": {},
   "source": [
    "### 4. Develop a program that calculates the grade of a student based on their exam score."
   ]
  },
  {
   "cell_type": "code",
   "execution_count": null,
   "id": "4e449f0d-88c8-4006-9820-886b572580b2",
   "metadata": {},
   "outputs": [],
   "source": [
    "x=int(input(\"student's score :\"))\n",
    "if x in range(80,101):\n",
    "    print('Grade is A')\n",
    "elif x in range(60,81):\n",
    "    print('Grade is B')\n",
    "elif x in range(40,61):\n",
    "    print('Grade is C')\n",
    "elif x < 40 :\n",
    "    print('Grade is F')"
   ]
  },
  {
   "cell_type": "markdown",
   "id": "e7357ec2-0917-4ceb-9bdf-a9fc73cb373c",
   "metadata": {},
   "source": [
    "### 5. Create a program that checks if a year is a leap year or not."
   ]
  },
  {
   "cell_type": "code",
   "execution_count": null,
   "id": "35402ae0-f43f-42c1-8693-18c0a8bea1a6",
   "metadata": {},
   "outputs": [],
   "source": [
    " year=int(input('enter a year :'))\n",
    "if((year % 400 == 0) or (year % 100 != 0) and (year % 4 == 0)):\n",
    "            print('it is also century year')\n",
    "else:\n",
    "        print (\"Given Year is not a leap Year\") "
   ]
  },
  {
   "cell_type": "markdown",
   "id": "85c221fb-8efa-4a2f-9309-efdd1f5aad1e",
   "metadata": {},
   "source": [
    "### 6. Write a program to classify a triangle based on its sides' lengths."
   ]
  },
  {
   "cell_type": "code",
   "execution_count": null,
   "id": "ffc49560-c894-40b4-bc80-79f77ae413aa",
   "metadata": {},
   "outputs": [],
   "source": [
    "a,b,c=int(input('enter the first side of triangle:')),int(input('enter the second side of triangle:')),int(input('enter the third side of triangle:'))\n",
    "sa = pow(a, 2)\n",
    "sb = pow(b, 2)\n",
    "sc = pow(c, 2)\n",
    "if (sa == sc + sb or sb == sa+sc or sc == sa+sb):\n",
    "    print(\"Right-angled triangle\")\n",
    "elif (sa > sc + sb or sb > sa+sc or sc > sa+sb):\n",
    "    print(\"Obtuse-angled triangle\")\n",
    "else:\n",
    "    print(\"Acute-angled triangle\")"
   ]
  },
  {
   "cell_type": "markdown",
   "id": "60f16470-ac00-4f4c-8bc9-0f7ef5f592b9",
   "metadata": {},
   "source": [
    "### 7. Build a program that determines the largest of three given numbers."
   ]
  },
  {
   "cell_type": "code",
   "execution_count": null,
   "id": "3c9abf34-9044-4266-b3ed-cc7c876e4973",
   "metadata": {},
   "outputs": [],
   "source": [
    "x,y,z=int(input('enter the first number :')),int(input('enter the second number :')),int(input('enter the third number :'))\n",
    "if x > y and x > z:\n",
    "    print(x,' is the largest number')\n",
    "if y > x and y > z:\n",
    "    print(y,' is the largest number')\n",
    "if z > x and z > y:\n",
    "    print(z,' is the largest number')"
   ]
  },
  {
   "cell_type": "markdown",
   "id": "1213941d-18b5-4a5a-87d6-df182634b53f",
   "metadata": {},
   "source": [
    "### 8. Develop a program that checks whether a character is a vowel or a consonant."
   ]
  },
  {
   "cell_type": "code",
   "execution_count": null,
   "id": "a4ce3574-ecf7-4ee9-989f-59ab115f68d2",
   "metadata": {},
   "outputs": [],
   "source": [
    "char=str(input())\n",
    "vowels='a','e','i','o','o','z','b','t','g','h'\n",
    "if char.lower() in vowels:\n",
    "    print('given character is a vowel or a consonant')\n",
    "else:\n",
    "    print('given character is not a vowel or a consonant')"
   ]
  },
  {
   "cell_type": "markdown",
   "id": "c9b9039e-8461-4842-8890-c4cbb2fa9f67",
   "metadata": {},
   "source": [
    "### 9. Create a program to calculate the total cost of a shopping cart based on discounts.\n",
    "\n"
   ]
  },
  {
   "cell_type": "code",
   "execution_count": null,
   "id": "9ef87931-64e8-4615-8fc9-25c47f8d2da8",
   "metadata": {},
   "outputs": [],
   "source": [
    "price=int(input('cost of a shopping cart :'))\n",
    "disc_price=0\n",
    "if price in range(0,5001):\n",
    "    disc_price=price*0.9\n",
    "    print('10 percent discount on purchased amount :',disc_price)\n",
    "elif price in range(5000,10001):\n",
    "    disc_price=price*0.7\n",
    "    print('20 percent discount on purchased amount :',disc_price)\n",
    "elif price in range(10000,15001):\n",
    "    disc_price=price*0.5\n",
    "    print('30 percent discount on purchased amount :',disc_price)"
   ]
  },
  {
   "cell_type": "markdown",
   "id": "61d1d310-472d-4a45-9e8b-e4ec3c6d8078",
   "metadata": {},
   "source": [
    "### 10. Write a program that checks if a given number is even or odd"
   ]
  },
  {
   "cell_type": "code",
   "execution_count": null,
   "id": "3d43529e-04c1-41e4-9c94-3ed8dfa7f7c8",
   "metadata": {},
   "outputs": [],
   "source": [
    "x=int(input('enter a number:'))\n",
    "if x%2==0:\n",
    "    print('given number is even')\n",
    "else:\n",
    "     print('given number is odd')"
   ]
  },
  {
   "cell_type": "markdown",
   "id": "0c8247f6-6082-41ba-a32d-8892204de85b",
   "metadata": {},
   "source": [
    "### Intermediate Level:\n",
    "\n",
    " \n",
    "\n"
   ]
  },
  {
   "cell_type": "markdown",
   "id": "aba0173a-7038-4067-bad1-1a4061a9cb81",
   "metadata": {},
   "source": [
    "### 11. Write a program that calculates the roots of a quadratic equation .\n",
    "\n"
   ]
  },
  {
   "cell_type": "code",
   "execution_count": null,
   "id": "452c9e11-dc56-4db3-8054-d38c49edaa0c",
   "metadata": {},
   "outputs": [],
   "source": [
    "import math as m\n",
    "def quadratic_roots(a, b, c):\n",
    "    discriminant = b**2 - 4*a*c\n",
    "    \n",
    "    if discriminant > 0:\n",
    "        root1 = (-b + m.sqrt(discriminant)) / (2*a)\n",
    "        root2 = (-b - m.sqrt(discriminant)) / (2*a)\n",
    "        return root1, root2\n",
    "    elif discriminant == 0:\n",
    "        root = -b / (2*a)\n",
    "        return root\n",
    "    else:\n",
    "        real_part = -b / (2*a)\n",
    "        imaginary_part = m.sqrt(abs(discriminant)) / (2*a)\n",
    "        return complex(real_part, imaginary_part), complex(real_part, -imaginary_part)\n",
    "\n",
    "a = float(input(\"Enter coefficient a: \"))\n",
    "b = float(input(\"Enter coefficient b: \"))\n",
    "c = float(input(\"Enter coefficient c: \"))\n",
    "\n",
    "roots = quadratic_roots(a, b, c)\n",
    "print(f\"The roots are: {roots}\")\n"
   ]
  },
  {
   "cell_type": "markdown",
   "id": "0a629b72-faad-4c42-8888-a9022e4d8283",
   "metadata": {},
   "source": [
    "### 12. Create a program that determines the day of the week based on the day number (1-7).\n",
    "\n"
   ]
  },
  {
   "cell_type": "code",
   "execution_count": null,
   "id": "b69290ac-2c19-4484-bbca-12de113a0fae",
   "metadata": {},
   "outputs": [],
   "source": [
    "x=int(input('enter the number :'))\n",
    "if  x== 1:\n",
    "    print('the day of week is monday')\n",
    "if  x== 2:\n",
    "    print('the day of week is tuesday')\n",
    "if  x== 3:\n",
    "    print('the day of week is wednesday')\n",
    "if  x== 4:\n",
    "    print('the day of week is thursday')\n",
    "if  x== 5:\n",
    "    print('the day of week is friday')\n",
    "if  x== 6:\n",
    "    print('the day of week is saturday')\n",
    "if  x== 7:\n",
    "    print('the day of week is sunday')"
   ]
  },
  {
   "cell_type": "markdown",
   "id": "5675262b-f976-416a-a56c-66f9a708431e",
   "metadata": {},
   "source": [
    "### 13. Develop a program that calculates the factorial of a given number using recursion.\n"
   ]
  },
  {
   "cell_type": "code",
   "execution_count": 3,
   "id": "fb62342f-6e08-4e03-b4d9-50eda2c5fa67",
   "metadata": {},
   "outputs": [
    {
     "name": "stdin",
     "output_type": "stream",
     "text": [
      "enter a number : 3\n"
     ]
    },
    {
     "name": "stdout",
     "output_type": "stream",
     "text": [
      "The factorial of 3 is 6\n"
     ]
    }
   ],
   "source": [
    "def factorial(x):\n",
    "    if x == 1:\n",
    "        return 1\n",
    "    else:\n",
    "        return (x * factorial(x-1))\n",
    "num =int(input('enter a number :'))\n",
    "print(\"The factorial of\", num, \"is\", factorial(num))"
   ]
  },
  {
   "cell_type": "markdown",
   "id": "43f960ce-94dd-4843-8f5b-d100c63c27c3",
   "metadata": {},
   "source": [
    "### 14. Write a program to find the largest among three numbers without using the `max()` function.\n",
    "\n"
   ]
  },
  {
   "cell_type": "code",
   "execution_count": null,
   "id": "0c071aed-31cb-4e37-b0ab-de33d1c63e90",
   "metadata": {},
   "outputs": [],
   "source": [
    "x,y,z=int(input('enter the first number :')),int(input('enter the second number :')),int(input('enter the third number :'))\n",
    "if x > y and x > z:\n",
    "    print(x,' is the largest number')\n",
    "if y > x and y > z:\n",
    "    print(y,' is the largest number')\n",
    "if z > x and z > y:\n",
    "    print(z,' is the largest number')"
   ]
  },
  {
   "cell_type": "markdown",
   "id": "267261a7-e737-453c-87dc-1f357d089382",
   "metadata": {},
   "source": [
    "### 15. Create a program that simulates a basic ATM transaction menu.\n",
    "\n"
   ]
  },
  {
   "cell_type": "code",
   "execution_count": 4,
   "id": "a3889698-07da-4c41-885a-406b521a35b0",
   "metadata": {},
   "outputs": [
    {
     "name": "stdout",
     "output_type": "stream",
     "text": [
      "\n",
      "ATM Menu:\n",
      "1. Check Balance\n",
      "2. Deposit\n",
      "3. Withdraw\n",
      "4. Exit\n"
     ]
    },
    {
     "ename": "KeyboardInterrupt",
     "evalue": "Interrupted by user",
     "output_type": "error",
     "traceback": [
      "\u001b[0;31m---------------------------------------------------------------------------\u001b[0m",
      "\u001b[0;31mKeyboardInterrupt\u001b[0m                         Traceback (most recent call last)",
      "Cell \u001b[0;32mIn[4], line 31\u001b[0m\n\u001b[1;32m     28\u001b[0m         \u001b[38;5;28;01melse\u001b[39;00m:\n\u001b[1;32m     29\u001b[0m             \u001b[38;5;28mprint\u001b[39m(\u001b[38;5;124m\"\u001b[39m\u001b[38;5;124mInvalid choice. Please try again.\u001b[39m\u001b[38;5;124m\"\u001b[39m)\n\u001b[0;32m---> 31\u001b[0m \u001b[43matm_menu\u001b[49m\u001b[43m(\u001b[49m\u001b[43m)\u001b[49m\n",
      "Cell \u001b[0;32mIn[4], line 11\u001b[0m, in \u001b[0;36matm_menu\u001b[0;34m()\u001b[0m\n\u001b[1;32m      8\u001b[0m \u001b[38;5;28mprint\u001b[39m(\u001b[38;5;124m\"\u001b[39m\u001b[38;5;124m3. Withdraw\u001b[39m\u001b[38;5;124m\"\u001b[39m)\n\u001b[1;32m      9\u001b[0m \u001b[38;5;28mprint\u001b[39m(\u001b[38;5;124m\"\u001b[39m\u001b[38;5;124m4. Exit\u001b[39m\u001b[38;5;124m\"\u001b[39m)\n\u001b[0;32m---> 11\u001b[0m choice \u001b[38;5;241m=\u001b[39m \u001b[38;5;28mint\u001b[39m(\u001b[38;5;28;43minput\u001b[39;49m\u001b[43m(\u001b[49m\u001b[38;5;124;43m\"\u001b[39;49m\u001b[38;5;124;43mEnter your choice: \u001b[39;49m\u001b[38;5;124;43m\"\u001b[39;49m\u001b[43m)\u001b[49m)\n\u001b[1;32m     13\u001b[0m \u001b[38;5;28;01mif\u001b[39;00m choice \u001b[38;5;241m==\u001b[39m \u001b[38;5;241m1\u001b[39m:\n\u001b[1;32m     14\u001b[0m     \u001b[38;5;28mprint\u001b[39m(\u001b[38;5;124mf\u001b[39m\u001b[38;5;124m\"\u001b[39m\u001b[38;5;124mYour balance is: \u001b[39m\u001b[38;5;132;01m{\u001b[39;00mbalance\u001b[38;5;132;01m}\u001b[39;00m\u001b[38;5;124m\"\u001b[39m)\n",
      "File \u001b[0;32m/opt/conda/lib/python3.10/site-packages/ipykernel/kernelbase.py:1175\u001b[0m, in \u001b[0;36mKernel.raw_input\u001b[0;34m(self, prompt)\u001b[0m\n\u001b[1;32m   1171\u001b[0m \u001b[38;5;28;01mif\u001b[39;00m \u001b[38;5;129;01mnot\u001b[39;00m \u001b[38;5;28mself\u001b[39m\u001b[38;5;241m.\u001b[39m_allow_stdin:\n\u001b[1;32m   1172\u001b[0m     \u001b[38;5;28;01mraise\u001b[39;00m StdinNotImplementedError(\n\u001b[1;32m   1173\u001b[0m         \u001b[38;5;124m\"\u001b[39m\u001b[38;5;124mraw_input was called, but this frontend does not support input requests.\u001b[39m\u001b[38;5;124m\"\u001b[39m\n\u001b[1;32m   1174\u001b[0m     )\n\u001b[0;32m-> 1175\u001b[0m \u001b[38;5;28;01mreturn\u001b[39;00m \u001b[38;5;28;43mself\u001b[39;49m\u001b[38;5;241;43m.\u001b[39;49m\u001b[43m_input_request\u001b[49m\u001b[43m(\u001b[49m\n\u001b[1;32m   1176\u001b[0m \u001b[43m    \u001b[49m\u001b[38;5;28;43mstr\u001b[39;49m\u001b[43m(\u001b[49m\u001b[43mprompt\u001b[49m\u001b[43m)\u001b[49m\u001b[43m,\u001b[49m\n\u001b[1;32m   1177\u001b[0m \u001b[43m    \u001b[49m\u001b[38;5;28;43mself\u001b[39;49m\u001b[38;5;241;43m.\u001b[39;49m\u001b[43m_parent_ident\u001b[49m\u001b[43m[\u001b[49m\u001b[38;5;124;43m\"\u001b[39;49m\u001b[38;5;124;43mshell\u001b[39;49m\u001b[38;5;124;43m\"\u001b[39;49m\u001b[43m]\u001b[49m\u001b[43m,\u001b[49m\n\u001b[1;32m   1178\u001b[0m \u001b[43m    \u001b[49m\u001b[38;5;28;43mself\u001b[39;49m\u001b[38;5;241;43m.\u001b[39;49m\u001b[43mget_parent\u001b[49m\u001b[43m(\u001b[49m\u001b[38;5;124;43m\"\u001b[39;49m\u001b[38;5;124;43mshell\u001b[39;49m\u001b[38;5;124;43m\"\u001b[39;49m\u001b[43m)\u001b[49m\u001b[43m,\u001b[49m\n\u001b[1;32m   1179\u001b[0m \u001b[43m    \u001b[49m\u001b[43mpassword\u001b[49m\u001b[38;5;241;43m=\u001b[39;49m\u001b[38;5;28;43;01mFalse\u001b[39;49;00m\u001b[43m,\u001b[49m\n\u001b[1;32m   1180\u001b[0m \u001b[43m\u001b[49m\u001b[43m)\u001b[49m\n",
      "File \u001b[0;32m/opt/conda/lib/python3.10/site-packages/ipykernel/kernelbase.py:1217\u001b[0m, in \u001b[0;36mKernel._input_request\u001b[0;34m(self, prompt, ident, parent, password)\u001b[0m\n\u001b[1;32m   1214\u001b[0m             \u001b[38;5;28;01mbreak\u001b[39;00m\n\u001b[1;32m   1215\u001b[0m \u001b[38;5;28;01mexcept\u001b[39;00m \u001b[38;5;167;01mKeyboardInterrupt\u001b[39;00m:\n\u001b[1;32m   1216\u001b[0m     \u001b[38;5;66;03m# re-raise KeyboardInterrupt, to truncate traceback\u001b[39;00m\n\u001b[0;32m-> 1217\u001b[0m     \u001b[38;5;28;01mraise\u001b[39;00m \u001b[38;5;167;01mKeyboardInterrupt\u001b[39;00m(\u001b[38;5;124m\"\u001b[39m\u001b[38;5;124mInterrupted by user\u001b[39m\u001b[38;5;124m\"\u001b[39m) \u001b[38;5;28;01mfrom\u001b[39;00m \u001b[38;5;28mNone\u001b[39m\n\u001b[1;32m   1218\u001b[0m \u001b[38;5;28;01mexcept\u001b[39;00m \u001b[38;5;167;01mException\u001b[39;00m:\n\u001b[1;32m   1219\u001b[0m     \u001b[38;5;28mself\u001b[39m\u001b[38;5;241m.\u001b[39mlog\u001b[38;5;241m.\u001b[39mwarning(\u001b[38;5;124m\"\u001b[39m\u001b[38;5;124mInvalid Message:\u001b[39m\u001b[38;5;124m\"\u001b[39m, exc_info\u001b[38;5;241m=\u001b[39m\u001b[38;5;28;01mTrue\u001b[39;00m)\n",
      "\u001b[0;31mKeyboardInterrupt\u001b[0m: Interrupted by user"
     ]
    }
   ],
   "source": [
    "def atm_menu():\n",
    "    balance = 1000\n",
    "    \n",
    "    while True:\n",
    "        print(\"\\nATM Menu:\")\n",
    "        print(\"1. Check Balance\")\n",
    "        print(\"2. Deposit\")\n",
    "        print(\"3. Withdraw\")\n",
    "        print(\"4. Exit\")\n",
    "        \n",
    "        choice = int(input(\"Enter your choice: \"))\n",
    "        \n",
    "        if choice == 1:\n",
    "            print(f\"Your balance is: {balance}\")\n",
    "        elif choice == 2:\n",
    "            amount = float(input(\"Enter the amount to deposit: \"))\n",
    "            balance += amount\n",
    "            print(f\"Deposit successful. New balance is: {balance}\")\n",
    "        elif choice == 3:\n",
    "            amount = float(input(\"Enter the amount to withdraw: \"))\n",
    "            if amount <= balance:\n",
    "                balance -= amount\n",
    "                print(f\"Withdrawal successful. New balance is: {balance}\")\n",
    "            else:\n",
    "                print(\"Insufficient funds\")\n",
    "        elif choice == 4:\n",
    "            break\n",
    "        else:\n",
    "            print(\"Invalid choice. Please try again.\")\n",
    "\n",
    "atm_menu()"
   ]
  },
  {
   "cell_type": "markdown",
   "id": "364bf478-9e6d-404e-8b96-44fec5347104",
   "metadata": {},
   "source": [
    "### 16. Build a program that checks if a given string is a palindrome or not.\n",
    "\n"
   ]
  },
  {
   "cell_type": "code",
   "execution_count": null,
   "id": "d484081e-d5d1-4900-acfc-319ee64aa882",
   "metadata": {},
   "outputs": [],
   "source": [
    "string=str(input())\n",
    "if string == string[::-1]:\n",
    "    print('given string is a palindrome')\n",
    "else:\n",
    "     print('given string is not a palindrome')"
   ]
  },
  {
   "cell_type": "markdown",
   "id": "4d03849a-3b6e-4b26-a464-3321ce71f819",
   "metadata": {},
   "source": [
    "### 17. Write a program that calculates the average of a list of numbers, excluding the smallest and largest values.\n",
    "\n"
   ]
  },
  {
   "cell_type": "code",
   "execution_count": 29,
   "id": "031f813c-2929-4ae8-bb27-604f441c895b",
   "metadata": {},
   "outputs": [
    {
     "name": "stdout",
     "output_type": "stream",
     "text": [
      "average of a list of numbers, excluding the smallest and largest values is 17.5\n"
     ]
    }
   ],
   "source": [
    "lst=[1,2,3,4,5,8,9,6,7]\n",
    "lst=sorted(lst)\n",
    "x=0\n",
    "for i in lst[1:-1]:\n",
    "    x=x+i\n",
    "print('average of a list of numbers, excluding the smallest and largest values is',x/2)"
   ]
  },
  {
   "cell_type": "markdown",
   "id": "57422570-16d8-449c-9da5-6e1ead4d9b04",
   "metadata": {},
   "source": [
    "### 18. Develop a program that converts a given temperature from Celsius to Fahrenheit.\n",
    "\n"
   ]
  },
  {
   "cell_type": "code",
   "execution_count": null,
   "id": "ae2cf58d-c159-4ec6-af1a-6b7347d2bf25",
   "metadata": {},
   "outputs": [],
   "source": [
    "def celsius_to_fahrenheit(celsius):\n",
    "    return (celsius * 9/5) + 32\n",
    "\n",
    "celsius_temp = float(input(\"Enter temperature in Celsius: \"))\n",
    "fahrenheit_temp = celsius_to_fahrenheit(celsius_temp)\n",
    "print(f\"The temperature in Fahrenheit is: {fahrenheit_temp:.2f}\")"
   ]
  },
  {
   "cell_type": "markdown",
   "id": "8b9fa263-41a3-4b15-980f-9d5ff793a825",
   "metadata": {},
   "source": [
    "### 19. Create a program that simulates a basic calculator for addition, subtraction, multiplication, and division.\n",
    "\n"
   ]
  },
  {
   "cell_type": "code",
   "execution_count": 3,
   "id": "98b1b3e6-d42e-4319-9797-24c6bcf2c3d1",
   "metadata": {},
   "outputs": [
    {
     "name": "stdout",
     "output_type": "stream",
     "text": [
      "Select operation:\n",
      "1. Addition\n",
      "2. Subtraction\n",
      "3. Multiplication\n",
      "4. Division\n"
     ]
    },
    {
     "name": "stdin",
     "output_type": "stream",
     "text": [
      "Enter choice (1/2/3/4):  2\n",
      "Enter first number:  3\n",
      "Enter second number:  3\n"
     ]
    },
    {
     "name": "stdout",
     "output_type": "stream",
     "text": [
      "3.0 - 3.0 = 0.0\n"
     ]
    }
   ],
   "source": [
    "def calculator():\n",
    "    print(\"Select operation:\")\n",
    "    print(\"1. Addition\")\n",
    "    print(\"2. Subtraction\")\n",
    "    print(\"3. Multiplication\")\n",
    "    print(\"4. Division\")\n",
    "\n",
    "    choice = int(input(\"Enter choice (1/2/3/4): \"))\n",
    "\n",
    "    num1 = float(input(\"Enter first number: \"))\n",
    "    num2 = float(input(\"Enter second number: \"))\n",
    "\n",
    "    if choice == 1:\n",
    "        result = num1 + num2\n",
    "        operator = \"+\"\n",
    "    elif choice == 2:\n",
    "        result = num1 - num2\n",
    "        operator = \"-\"\n",
    "    elif choice == 3:\n",
    "        result = num1 * num2\n",
    "        operator = \"*\"\n",
    "    elif choice == 4:\n",
    "        if num2 != 0:\n",
    "            result = num1 / num2\n",
    "            operator = \"/\"\n",
    "        else:\n",
    "            print(\"Error: Division by zero\")\n",
    "            return\n",
    "\n",
    "    print(f\"{num1} {operator} {num2} = {result}\")\n",
    "\n",
    "calculator()"
   ]
  },
  {
   "cell_type": "markdown",
   "id": "371b8991-f5b3-49c6-9e89-ee92673e3ebe",
   "metadata": {},
   "source": [
    "### 20. Write a program that determines the roots of a cubic equation using the Cardano formula."
   ]
  },
  {
   "cell_type": "code",
   "execution_count": null,
   "id": "8a55170d-0eb7-414e-b4cd-ebcce169b91c",
   "metadata": {},
   "outputs": [],
   "source": [
    "import math\n",
    "\n",
    "def cubic_roots(a, b, c, d):\n",
    "    p = (3*a*c - b**2) / (3*a**2)\n",
    "    q = (2*b**3 - 9*a*b*c + 27*a**2*d) / (27*a**3)\n",
    "    delta = (q/2)**2 + (p/3)**3\n",
    "    \n",
    "    if delta > 0:\n",
    "        u1 = -q/2 + delta**0.5\n",
    "        u2 = -q/2 - delta**0.5\n",
    "        u1_cbrt = u1**(1/3)\n",
    "        u2_cbrt = u2**(1/3)\n",
    "        root1 = u1_cbrt + u2_cbrt - b/(3*a)\n",
    "        return root1\n",
    "    elif delta == 0:\n",
    "        if q == 0:\n",
    "            root1 = -b/(3*a)\n",
    "            return root1\n",
    "        else:\n",
    "            u = -q/2\n",
    "            u_cbrt = u**(1/3)\n",
    "            root1 = 2*u_cbrt - b/(3*a)\n",
    "            root2 = -(u_cbrt + b/(3*a))\n",
    "            return root1, root2\n",
    "    else:\n",
    "        phi = math.acos(-q/2 * math.sqrt(-27/(p**3)))\n",
    "        u1 = 2 * math.sqrt(-p/3) * math.cos(phi/3)\n",
    "        u2 = 2 * math.sqrt(-p/3) * math.cos((phi + 2*math.pi)/3)\n",
    "        u3 = 2 * math.sqrt(-p/3) * math.cos((phi + 4*math.pi)/3)\n",
    "        root1 = u1 - b/(3*a)\n",
    "        root2 = u2 - b/(3*a)\n",
    "        root3 = u3 - b/(3*a)\n",
    "        return root1, root2, root3\n",
    "\n",
    "a = float(input(\"Enter coefficient a: \"))\n",
    "b = float(input(\"Enter coefficient b: \"))\n",
    "c = float(input(\"Enter coefficient c: \"))\n",
    "d = float(input(\"Enter coefficient d: \"))\n",
    "\n",
    "roots = cubic_roots(a, b, c, d)\n",
    "print(f\"The roots are: {roots}\")"
   ]
  },
  {
   "cell_type": "markdown",
   "id": "791a0a58-5dc9-4d27-9817-48f56dfc8763",
   "metadata": {},
   "source": [
    "### Advanced Level:\n",
    "\n",
    " \n",
    "\n"
   ]
  },
  {
   "cell_type": "markdown",
   "id": "d63d46c4-87cc-43ee-b3a8-647658aee7e1",
   "metadata": {},
   "source": [
    "### 21. Create a program that calculates the income tax based on the user's income and tax brackets.\n",
    "\n"
   ]
  },
  {
   "cell_type": "code",
   "execution_count": 5,
   "id": "c2618156-8181-4a6c-8e61-af6c3d59dace",
   "metadata": {},
   "outputs": [
    {
     "name": "stdin",
     "output_type": "stream",
     "text": [
      "annual income : 20345\n"
     ]
    },
    {
     "name": "stdout",
     "output_type": "stream",
     "text": [
      "tax for the annual imcome : 20345 is 2034\n"
     ]
    }
   ],
   "source": [
    "income=int(input('annual income :'))\n",
    "tax=0\n",
    "if income in range(0,500001):\n",
    "    tax=income*0.1\n",
    "    print('tax for the annual imcome :',income,'is',round(tax))\n",
    "elif income in range(500000,1000001):\n",
    "    tax=income*0.18\n",
    "    print('tax for the annual imcome :',income,'is',round(tax))\n",
    "elif income in range(1000000,2000001):\n",
    "    tax=income*0.24\n",
    "    print('tax for the annual imcome :',income,'is',round(tax))\n",
    "elif income > 2000000:\n",
    "    tax=income*0.3\n",
    "    print('tax for the annual imcome :',income,'is',round(tax))"
   ]
  },
  {
   "cell_type": "markdown",
   "id": "9bf02565-55d1-4368-9061-4e16a81857b4",
   "metadata": {},
   "source": [
    "### 22. Write a program that simulates a rock-paper-scissors game against the computer.\n",
    "\n"
   ]
  },
  {
   "cell_type": "code",
   "execution_count": 1,
   "id": "c1ae0fbd-158a-447d-9468-4a0957c6f525",
   "metadata": {},
   "outputs": [],
   "source": [
    "import random"
   ]
  },
  {
   "cell_type": "code",
   "execution_count": 9,
   "id": "6f541d72-256c-40cc-b7cf-3ecbbf71bf8f",
   "metadata": {},
   "outputs": [
    {
     "name": "stdin",
     "output_type": "stream",
     "text": [
      "enter rock or paper or scissor : rock\n"
     ]
    },
    {
     "name": "stdout",
     "output_type": "stream",
     "text": [
      "you lost\n",
      "opponent : paper\n"
     ]
    }
   ],
   "source": [
    "rps=('rock','paper','scissor')\n",
    "com=random.choice(rps)\n",
    "user=str(input('enter rock or paper or scissor :'))\n",
    "if com=='rock' :\n",
    "    if  user =='paper':\n",
    "        print('you won')\n",
    "        print('opponent :',com)\n",
    "    if user =='scissor':\n",
    "        print('you lost')\n",
    "        print('opponent :',com)\n",
    "elif com=='paper':\n",
    "    if  user =='scissor':\n",
    "        print('you won')\n",
    "        print('opponent :',com)\n",
    "    if user =='rock':\n",
    "        print('you lost')\n",
    "        print('opponent :',com)\n",
    "elif com=='scissor': \n",
    "    if  user =='paper':\n",
    "        print('you won')\n",
    "        print('opponent :',com)\n",
    "    if user =='rock':\n",
    "        print('you lost')\n",
    "        print('opponent :',com)\n",
    "if com == user :\n",
    "    print('draw - play again')\n",
    "    print('opponent :',com)\n"
   ]
  },
  {
   "cell_type": "markdown",
   "id": "001000fd-03cc-4262-97ca-c7a5913d787b",
   "metadata": {},
   "source": [
    "### 23. Develop a program that generates a random password based on user preferences (length, complexity).\n",
    "\n"
   ]
  },
  {
   "cell_type": "code",
   "execution_count": 33,
   "id": "fbfcc77c-0632-44ed-9b0a-25ec9451d64c",
   "metadata": {},
   "outputs": [],
   "source": [
    "import random\n",
    "import string"
   ]
  },
  {
   "cell_type": "code",
   "execution_count": 37,
   "id": "403a83a1-2c16-41ab-8c1d-a40a0a78ff79",
   "metadata": {},
   "outputs": [
    {
     "name": "stdin",
     "output_type": "stream",
     "text": [
      "enter the length of password : 10\n",
      "enter the complexity : low , medium , strong : strong\\\n"
     ]
    },
    {
     "name": "stdout",
     "output_type": "stream",
     "text": [
      "\n"
     ]
    }
   ],
   "source": [
    "alphabet = string.ascii_letters\n",
    "numbers = string.digits\n",
    "asci='!@#$%^&*'\n",
    "length=int(input('enter the length of password :'))\n",
    "complexity = str(input('enter the complexity : low , medium , strong :'))\n",
    "x=''\n",
    "password = str()\n",
    "print(password)\n",
    "if complexity=='low':\n",
    "    for i in range(0,length):\n",
    "        password = password + random.choice(alphabet)\n",
    "    print('newly generated password : ',password)\n",
    "if complexity=='medium':\n",
    "    for i in range(0,round(length/2)):\n",
    "        password = password + random.choice(alphabet)+random.choice(numbers)\n",
    "    print('newly generated password : ',password)\n",
    "if complexity=='strong':\n",
    "    for i in range(0,round(length/2)):\n",
    "        password = password + random.choice(alphabet)+random.choice(numbers)\n",
    "    password = password.replace(password[random.choice(range(0,length-2))],random.choice(asci))\n",
    "    print('newly generated password : ',password)"
   ]
  },
  {
   "cell_type": "markdown",
   "id": "993d355f-3081-482d-9c44-2b0df77a41d1",
   "metadata": {},
   "source": [
    "### 24. Create a program that implements a simple text-based adventure game with branching scenarios.\n",
    "\n"
   ]
  },
  {
   "cell_type": "code",
   "execution_count": 38,
   "id": "ee2eca0e-d710-4325-ab66-0317eb20da7b",
   "metadata": {},
   "outputs": [],
   "source": [
    "def adventure_game():\n",
    "    print(\"Welcome to the Adventure Game!\")\n",
    "    print(\"You find yourself at a crossroads. Which path will you take?\")\n",
    "    print(\"1. Left\")\n",
    "    print(\"2. Right\")\n",
    "\n",
    "    choice = input(\"Enter your choice (1 or 2): \")\n",
    "\n",
    "    if choice == '1':\n",
    "        print(\"You chose the left path. You encounter a dragon!\")\n",
    "        print(\"What will you do?\")\n",
    "        print(\"1. Fight\")\n",
    "        print(\"2. Run\")\n",
    "\n",
    "        fight_choice = input(\"Enter your choice (1 or 2): \")\n",
    "\n",
    "        if fight_choice == '1':\n",
    "            print(\"You defeated the dragon! You are a hero!\")\n",
    "        else:\n",
    "            print(\"You ran away and lived to tell the tale.\")\n",
    "\n",
    "    elif choice == '2':\n",
    "        print(\"You chose the right path. You find a chest full of treasure!\")\n",
    "        print(\"You are rich and live happily ever after!\")\n",
    "\n",
    "    else:\n",
    "        print(\"Invalid choice. The adventure ends here.\")\n",
    "\n",
    "adventure_game()"
   ]
  },
  {
   "cell_type": "markdown",
   "id": "deedd1e9-4ff6-4c2f-86cf-beba3adaba7c",
   "metadata": {},
   "source": [
    "### 25. Build a program that solves a linear equation  for x, considering different cases.\n",
    "\n"
   ]
  },
  {
   "cell_type": "code",
   "execution_count": 2,
   "id": "5cb4acdf-2c21-4651-88cd-1371b9f376dd",
   "metadata": {},
   "outputs": [
    {
     "name": "stdin",
     "output_type": "stream",
     "text": [
      "Enter coefficient a:  8\n",
      "Enter coefficient b:  6\n"
     ]
    },
    {
     "name": "stdout",
     "output_type": "stream",
     "text": [
      "x = -0.75\n"
     ]
    }
   ],
   "source": [
    "def solve_linear_equation(a, b):\n",
    "    if a == 0:\n",
    "        if b == 0:\n",
    "            return \"Infinite solutions (identity)\"\n",
    "        else:\n",
    "            return \"No solution\"\n",
    "    else:\n",
    "        x = -b / a\n",
    "        return f\"x = {x}\"\n",
    "\n",
    "a = float(input(\"Enter coefficient a: \"))\n",
    "b = float(input(\"Enter coefficient b: \"))\n",
    "\n",
    "result = solve_linear_equation(a, b)\n",
    "print(result)"
   ]
  },
  {
   "cell_type": "markdown",
   "id": "8e038596-c8bd-43cd-b1c9-016a5c35923d",
   "metadata": {},
   "source": [
    "### 26. Write a program that simulates a basic quiz game with multiple-choice questions and scoring.\n",
    "\n"
   ]
  },
  {
   "cell_type": "code",
   "execution_count": 1,
   "id": "043703be-1e1a-41fb-b1e6-217f56384ddc",
   "metadata": {},
   "outputs": [
    {
     "name": "stdout",
     "output_type": "stream",
     "text": [
      "Question 1: What is 2*5\n"
     ]
    },
    {
     "name": "stdin",
     "output_type": "stream",
     "text": [
      "Your answer:  10\n"
     ]
    },
    {
     "name": "stdout",
     "output_type": "stream",
     "text": [
      "Correct!\n",
      "Question 2: What is 2 + 2?\n"
     ]
    },
    {
     "name": "stdin",
     "output_type": "stream",
     "text": [
      "Your answer:  4\n"
     ]
    },
    {
     "name": "stdout",
     "output_type": "stream",
     "text": [
      "Correct!\n",
      "Question 3: day after monday\n"
     ]
    },
    {
     "name": "stdin",
     "output_type": "stream",
     "text": [
      "Your answer:  tuesday\n"
     ]
    },
    {
     "name": "stdout",
     "output_type": "stream",
     "text": [
      "Correct!\n",
      "You got 3 out of 3 questions correct.\n"
     ]
    }
   ],
   "source": [
    "def quiz():\n",
    "    questions = [\"What is 2*5\",\n",
    "                 \"What is 2 + 2?\",\n",
    "                 \"day after monday\"]\n",
    "    answers = [\"10\", \"4\", \"tuesday\"]\n",
    "    score = 0\n",
    "\n",
    "    for i in range(len(questions)):\n",
    "        print(f\"Question {i+1}: {questions[i]}\")\n",
    "        user_answer = input(\"Your answer: \")\n",
    "        if user_answer.lower() in answers[i].lower():\n",
    "            print(\"Correct!\")\n",
    "            score += 1\n",
    "        else:\n",
    "            print(f\"Wrong. The correct answer is {answers[i]}\")\n",
    "\n",
    "    print(f\"You got {score} out of {len(questions)} questions correct.\")\n",
    "\n",
    "quiz()"
   ]
  },
  {
   "cell_type": "markdown",
   "id": "d2edb816-10eb-48b5-be8f-ecdba901a622",
   "metadata": {},
   "source": [
    "### 27. Develop a program that determines whether a given year is a prime number or not.\n",
    "\n"
   ]
  },
  {
   "cell_type": "code",
   "execution_count": 11,
   "id": "d2f54705-ca4b-4264-94ac-2ed9a7d58bb5",
   "metadata": {},
   "outputs": [
    {
     "ename": "KeyboardInterrupt",
     "evalue": "Interrupted by user",
     "output_type": "error",
     "traceback": [
      "\u001b[0;31m---------------------------------------------------------------------------\u001b[0m",
      "\u001b[0;31mKeyboardInterrupt\u001b[0m                         Traceback (most recent call last)",
      "Cell \u001b[0;32mIn[11], line 1\u001b[0m\n\u001b[0;32m----> 1\u001b[0m year\u001b[38;5;241m=\u001b[39m\u001b[38;5;28mint\u001b[39m(\u001b[38;5;28;43minput\u001b[39;49m\u001b[43m(\u001b[49m\u001b[38;5;124;43m'\u001b[39;49m\u001b[38;5;124;43menter a year :\u001b[39;49m\u001b[38;5;124;43m'\u001b[39;49m\u001b[43m)\u001b[49m)\n\u001b[1;32m      2\u001b[0m \u001b[38;5;28;01mfor\u001b[39;00m i \u001b[38;5;129;01min\u001b[39;00m \u001b[38;5;28mrange\u001b[39m(\u001b[38;5;241m2\u001b[39m, year):\n\u001b[1;32m      3\u001b[0m     \u001b[38;5;28;01mif\u001b[39;00m (year \u001b[38;5;241m%\u001b[39m i) \u001b[38;5;241m==\u001b[39m \u001b[38;5;241m0\u001b[39m:\n",
      "File \u001b[0;32m/opt/conda/lib/python3.10/site-packages/ipykernel/kernelbase.py:1175\u001b[0m, in \u001b[0;36mKernel.raw_input\u001b[0;34m(self, prompt)\u001b[0m\n\u001b[1;32m   1171\u001b[0m \u001b[38;5;28;01mif\u001b[39;00m \u001b[38;5;129;01mnot\u001b[39;00m \u001b[38;5;28mself\u001b[39m\u001b[38;5;241m.\u001b[39m_allow_stdin:\n\u001b[1;32m   1172\u001b[0m     \u001b[38;5;28;01mraise\u001b[39;00m StdinNotImplementedError(\n\u001b[1;32m   1173\u001b[0m         \u001b[38;5;124m\"\u001b[39m\u001b[38;5;124mraw_input was called, but this frontend does not support input requests.\u001b[39m\u001b[38;5;124m\"\u001b[39m\n\u001b[1;32m   1174\u001b[0m     )\n\u001b[0;32m-> 1175\u001b[0m \u001b[38;5;28;01mreturn\u001b[39;00m \u001b[38;5;28;43mself\u001b[39;49m\u001b[38;5;241;43m.\u001b[39;49m\u001b[43m_input_request\u001b[49m\u001b[43m(\u001b[49m\n\u001b[1;32m   1176\u001b[0m \u001b[43m    \u001b[49m\u001b[38;5;28;43mstr\u001b[39;49m\u001b[43m(\u001b[49m\u001b[43mprompt\u001b[49m\u001b[43m)\u001b[49m\u001b[43m,\u001b[49m\n\u001b[1;32m   1177\u001b[0m \u001b[43m    \u001b[49m\u001b[38;5;28;43mself\u001b[39;49m\u001b[38;5;241;43m.\u001b[39;49m\u001b[43m_parent_ident\u001b[49m\u001b[43m[\u001b[49m\u001b[38;5;124;43m\"\u001b[39;49m\u001b[38;5;124;43mshell\u001b[39;49m\u001b[38;5;124;43m\"\u001b[39;49m\u001b[43m]\u001b[49m\u001b[43m,\u001b[49m\n\u001b[1;32m   1178\u001b[0m \u001b[43m    \u001b[49m\u001b[38;5;28;43mself\u001b[39;49m\u001b[38;5;241;43m.\u001b[39;49m\u001b[43mget_parent\u001b[49m\u001b[43m(\u001b[49m\u001b[38;5;124;43m\"\u001b[39;49m\u001b[38;5;124;43mshell\u001b[39;49m\u001b[38;5;124;43m\"\u001b[39;49m\u001b[43m)\u001b[49m\u001b[43m,\u001b[49m\n\u001b[1;32m   1179\u001b[0m \u001b[43m    \u001b[49m\u001b[43mpassword\u001b[49m\u001b[38;5;241;43m=\u001b[39;49m\u001b[38;5;28;43;01mFalse\u001b[39;49;00m\u001b[43m,\u001b[49m\n\u001b[1;32m   1180\u001b[0m \u001b[43m\u001b[49m\u001b[43m)\u001b[49m\n",
      "File \u001b[0;32m/opt/conda/lib/python3.10/site-packages/ipykernel/kernelbase.py:1217\u001b[0m, in \u001b[0;36mKernel._input_request\u001b[0;34m(self, prompt, ident, parent, password)\u001b[0m\n\u001b[1;32m   1214\u001b[0m             \u001b[38;5;28;01mbreak\u001b[39;00m\n\u001b[1;32m   1215\u001b[0m \u001b[38;5;28;01mexcept\u001b[39;00m \u001b[38;5;167;01mKeyboardInterrupt\u001b[39;00m:\n\u001b[1;32m   1216\u001b[0m     \u001b[38;5;66;03m# re-raise KeyboardInterrupt, to truncate traceback\u001b[39;00m\n\u001b[0;32m-> 1217\u001b[0m     \u001b[38;5;28;01mraise\u001b[39;00m \u001b[38;5;167;01mKeyboardInterrupt\u001b[39;00m(\u001b[38;5;124m\"\u001b[39m\u001b[38;5;124mInterrupted by user\u001b[39m\u001b[38;5;124m\"\u001b[39m) \u001b[38;5;28;01mfrom\u001b[39;00m \u001b[38;5;28mNone\u001b[39m\n\u001b[1;32m   1218\u001b[0m \u001b[38;5;28;01mexcept\u001b[39;00m \u001b[38;5;167;01mException\u001b[39;00m:\n\u001b[1;32m   1219\u001b[0m     \u001b[38;5;28mself\u001b[39m\u001b[38;5;241m.\u001b[39mlog\u001b[38;5;241m.\u001b[39mwarning(\u001b[38;5;124m\"\u001b[39m\u001b[38;5;124mInvalid Message:\u001b[39m\u001b[38;5;124m\"\u001b[39m, exc_info\u001b[38;5;241m=\u001b[39m\u001b[38;5;28;01mTrue\u001b[39;00m)\n",
      "\u001b[0;31mKeyboardInterrupt\u001b[0m: Interrupted by user"
     ]
    }
   ],
   "source": [
    "year=int(input('enter a year :'))\n",
    "for i in range(2, year):\n",
    "    if (year % i) == 0:\n",
    "        print(year, \"is not a prime number\")\n",
    "        break\n",
    "else:\n",
    "    print(year, \"is a prime number\")"
   ]
  },
  {
   "cell_type": "markdown",
   "id": "205ebf44-f8b6-4fc7-854f-48e1a170837a",
   "metadata": {},
   "source": [
    "### 28. Create a program that sorts three numbers in ascending order using conditional statements.\n",
    "\n"
   ]
  },
  {
   "cell_type": "code",
   "execution_count": 56,
   "id": "b419f3fb-f28b-4cf4-b542-5d8adaf9419b",
   "metadata": {},
   "outputs": [
    {
     "name": "stdin",
     "output_type": "stream",
     "text": [
      "enter first number : 100\n",
      "enter second number : 8\n",
      "enter third number : 10\n"
     ]
    },
    {
     "name": "stdout",
     "output_type": "stream",
     "text": [
      "100 10 8\n"
     ]
    }
   ],
   "source": [
    "x=int(input('enter first number :'))\n",
    "y=int(input('enter second number :'))\n",
    "z=int(input('enter third number :'))\n",
    "\n",
    "if x > y and x> z:\n",
    "    if y > z:\n",
    "        print(x,y,z)\n",
    "    else:\n",
    "        print(x,z,y)\n",
    "if y > x and y> z:\n",
    "    if x > z:\n",
    "        print(y,x,z)\n",
    "    else:\n",
    "        print(y,z,x)\n",
    "if z > y and z> x:\n",
    "    if y > x:\n",
    "        print(z,y,x)\n",
    "    else:\n",
    "        print(z,x,y)"
   ]
  },
  {
   "cell_type": "markdown",
   "id": "b12e8791-d33d-4d45-ad5e-100306466b9e",
   "metadata": {},
   "source": [
    "### 29. Build a program that determines the roots of a quartic equation using numerical methods.\n",
    "\n"
   ]
  },
  {
   "cell_type": "code",
   "execution_count": 10,
   "id": "36f7c133-8f85-476f-a7de-fdc1b13570b5",
   "metadata": {},
   "outputs": [
    {
     "name": "stdin",
     "output_type": "stream",
     "text": [
      "Enter coefficient a:  1\n",
      "Enter coefficient b:  2\n",
      "Enter coefficient c:  3\n",
      "Enter coefficient d:  4\n",
      "Enter coefficient e:  5\n"
     ]
    },
    {
     "name": "stdout",
     "output_type": "stream",
     "text": [
      "No root found within the maximum number of iterations.\n"
     ]
    }
   ],
   "source": [
    "def solve_quartic(a, b, c, d, e):\n",
    "    epsilon = 1e-6\n",
    "    max_iterations = 1000\n",
    "\n",
    "    def f(x):\n",
    "        return a*x**4 + b*x**3 + c*x**2 + d*x + e\n",
    "\n",
    "    def f_prime(x):\n",
    "        return 4*a*x**3 + 3*b*x**2 + 2*c*x + d\n",
    "\n",
    "    x = 0  # Initial guess\n",
    "\n",
    "    for _ in range(max_iterations):\n",
    "        x_next = x - f(x) / f_prime(x)\n",
    "\n",
    "        if abs(x_next - x) < epsilon:\n",
    "            return x_next\n",
    "\n",
    "        x = x_next\n",
    "\n",
    "    return None\n",
    "\n",
    "# Coefficients of the quartic equation: ax^4 + bx^3 + cx^2 + dx + e\n",
    "a = float(input(\"Enter coefficient a: \"))\n",
    "b = float(input(\"Enter coefficient b: \"))\n",
    "c = float(input(\"Enter coefficient c: \"))\n",
    "d = float(input(\"Enter coefficient d: \"))\n",
    "e = float(input(\"Enter coefficient e: \"))\n",
    "\n",
    "root = solve_quartic(a, b, c, d, e)\n",
    "\n",
    "if root is not None:\n",
    "    print(f\"A root of the quartic equation is approximately {root:.6f}\")\n",
    "else:\n",
    "    print(\"No root found within the maximum number of iterations.\")"
   ]
  },
  {
   "cell_type": "markdown",
   "id": "ad432e67-a6d2-45ad-8a7d-9d1a4b93c437",
   "metadata": {},
   "source": [
    "### 30. Write a program that calculates the BMI (Body Mass Index) and provides health recommendations based  on the user's input."
   ]
  },
  {
   "cell_type": "code",
   "execution_count": null,
   "id": "dc8bc179-5c1a-400c-a002-93a5d6eac787",
   "metadata": {},
   "outputs": [],
   "source": [
    "x,y=float(input('enter the weight (kg) :')),float(input('enter the height (cm) :'))\n",
    "bmi=x/(y*y)*10000\n",
    "if bmi < 18.5 :\n",
    "    print(\"given person's BMI is underweight\")\n",
    "elif bmi in range(18,25) :\n",
    "    print(\"given person's BMI is normal\")\n",
    "elif bmi in range(25,30) :\n",
    "    print(\"given person's BMI is overweight\")\n",
    "else:\n",
    "    print(\"given person's BMI is obese\")"
   ]
  },
  {
   "cell_type": "markdown",
   "id": "9f826749-c130-4307-a0e7-b8bf483a1bdb",
   "metadata": {},
   "source": [
    "### Challenge Level:\n",
    "\n",
    " \n",
    "\n"
   ]
  },
  {
   "cell_type": "markdown",
   "id": "37f31be0-292c-48a3-8033-733b8c926943",
   "metadata": {},
   "source": [
    "### 31. Create a program that validates a password based on complexity rules (length, characters, etc.).\n",
    "\n"
   ]
  },
  {
   "cell_type": "code",
   "execution_count": null,
   "id": "65983fe6-47cd-4940-855f-81c56664e095",
   "metadata": {},
   "outputs": [],
   "source": [
    "import random\n",
    "import string\n",
    "\n",
    "alphabet = string.ascii_letters\n",
    "numbers = string.digits\n",
    "asci='!@#$%^&*'\n",
    "length=int(input('enter the length of password :'))\n",
    "complexity = str(input('enter the complexity : low , medium , strong :'))\n",
    "x=''\n",
    "password = str()\n",
    "print(password)\n",
    "if complexity=='low':\n",
    "    for i in range(0,length):\n",
    "        password = password + random.choice(alphabet)\n",
    "    print('newly generated password : ',password)\n",
    "if complexity=='medium':\n",
    "    for i in range(0,round(length/2)):\n",
    "        password = password + random.choice(alphabet)+random.choice(numbers)\n",
    "    print('newly generated password : ',password)\n",
    "if complexity=='strong':\n",
    "    for i in range(0,round(length/2)):\n",
    "        password = password + random.choice(alphabet)+random.choice(numbers)\n",
    "    password = password.replace(password[random.choice(range(0,length-2))],random.choice(asci))\n",
    "    print('newly generated password : ',password)"
   ]
  },
  {
   "cell_type": "markdown",
   "id": "b4e9afc5-9930-4c9a-87ed-8a909d26dfb9",
   "metadata": {},
   "source": [
    "### 32. Develop a program that performs matrix addition and subtraction based on user input.\n",
    "\n"
   ]
  },
  {
   "cell_type": "code",
   "execution_count": 8,
   "id": "e10905b6-c796-4316-802c-76f270d59ec0",
   "metadata": {},
   "outputs": [
    {
     "name": "stdout",
     "output_type": "stream",
     "text": [
      "Matrix Addition Result:\n",
      "[6, 8]\n",
      "[10, 12]\n",
      "\n",
      "Matrix Subtraction Result:\n",
      "[-4, -4]\n",
      "[-4, -4]\n"
     ]
    }
   ],
   "source": [
    "def add_matrices(matrix1, matrix2):\n",
    "    result = [[matrix1[i][j] + matrix2[i][j] for j in range(len(matrix1[0]))] for i in range(len(matrix1))]\n",
    "    return result\n",
    "\n",
    "def subtract_matrices(matrix1, matrix2):\n",
    "    result = [[matrix1[i][j] - matrix2[i][j] for j in range(len(matrix1[0]))] for i in range(len(matrix1))]\n",
    "    return result\n",
    "\n",
    "# Input matrices\n",
    "matrix1 = [[1, 2], [3, 4]]\n",
    "matrix2 = [[5, 6], [7, 8]]\n",
    "\n",
    "addition_result = add_matrices(matrix1, matrix2)\n",
    "subtraction_result = subtract_matrices(matrix1, matrix2)\n",
    "\n",
    "print(\"Matrix Addition Result:\")\n",
    "for row in addition_result:\n",
    "    print(row)\n",
    "\n",
    "print(\"\\nMatrix Subtraction Result:\")\n",
    "for row in subtraction_result:\n",
    "    print(row)"
   ]
  },
  {
   "cell_type": "markdown",
   "id": "c865ac86-e2bc-412a-aa39-afbf2fcd71e4",
   "metadata": {},
   "source": [
    "### 33. Write a program that calculates the greatest common divisor (GCD) of two numbers using the Euclidean  algorithm.\n",
    "\n"
   ]
  },
  {
   "cell_type": "code",
   "execution_count": 3,
   "id": "24e1bc98-33c9-470d-9bc9-5cbbecf358ed",
   "metadata": {},
   "outputs": [
    {
     "name": "stdin",
     "output_type": "stream",
     "text": [
      "enter first number : 98\n",
      "enter second number : 56\n"
     ]
    },
    {
     "name": "stdout",
     "output_type": "stream",
     "text": [
      "GCD of 98 and 56 is 14\n"
     ]
    }
   ],
   "source": [
    "def gcd(a, b):\n",
    "    if (a == 0):\n",
    "        return b\n",
    "    if (b == 0):\n",
    "        return a\n",
    " \n",
    "    if (a == b):\n",
    "        return a\n",
    " \n",
    "    if (a > b):\n",
    "        return gcd(a-b, b)\n",
    "    return gcd(a, b-a)\n",
    "a = int(input('enter first number :'))\n",
    "b = int(input('enter second number :'))\n",
    "if(gcd(a, b)):\n",
    "    print('GCD of', a, 'and', b, 'is', gcd(a, b))\n",
    "else:\n",
    "    print('not found')"
   ]
  },
  {
   "cell_type": "markdown",
   "id": "dbdebf1a-4148-4368-b7c1-c67d7b6cb4ea",
   "metadata": {},
   "source": [
    "### 34. Build a program that performs matrix multiplication using nested loops and conditional statements.\n",
    "\n"
   ]
  },
  {
   "cell_type": "code",
   "execution_count": 7,
   "id": "b35a62e4-fe17-4720-a240-c00737b36761",
   "metadata": {},
   "outputs": [
    {
     "name": "stdout",
     "output_type": "stream",
     "text": [
      "Matrix Multiplication Result:\n",
      "[19, 22]\n",
      "[43, 50]\n"
     ]
    }
   ],
   "source": [
    "def multiply_matrices(matrix1, matrix2):\n",
    "    result = [[sum(matrix1[i][k] * matrix2[k][j] for k in range(len(matrix2))) for j in range(len(matrix2[0]))] for i in range(len(matrix1))]\n",
    "    return result\n",
    "\n",
    "# Input matrices (adjust dimensions as needed)\n",
    "matrix1 = [[1, 2], [3, 4]]\n",
    "matrix2 = [[5, 6], [7, 8]]\n",
    "\n",
    "multiplication_result = multiply_matrices(matrix1, matrix2)\n",
    "\n",
    "print(\"Matrix Multiplication Result:\")\n",
    "for row in multiplication_result:\n",
    "    print(row)"
   ]
  },
  {
   "cell_type": "markdown",
   "id": "3dc56474-080c-4829-973c-96f3362e0a61",
   "metadata": {},
   "source": [
    "### 35. Create a program that simulates a basic text-based tic-tac-toe game against the computer.\n",
    "\n"
   ]
  },
  {
   "cell_type": "code",
   "execution_count": 5,
   "id": "7b645914-1798-4061-b015-b0ab4d4b420d",
   "metadata": {},
   "outputs": [
    {
     "name": "stdin",
     "output_type": "stream",
     "text": [
      "Enter the number of Fibonacci terms to generate:  10\n"
     ]
    },
    {
     "name": "stdout",
     "output_type": "stream",
     "text": [
      "The first 10 Fibonacci numbers are: [0, 1, 1, 2, 3, 5, 8, 13, 21, 34]\n"
     ]
    }
   ],
   "source": [
    "def generate_fibonacci(n):\n",
    "    fibonacci_sequence = [0, 1]\n",
    "    while len(fibonacci_sequence) < n:\n",
    "        fibonacci_sequence.append(fibonacci_sequence[-1] + fibonacci_sequence[-2])\n",
    "    return fibonacci_sequence[:n]\n",
    "\n",
    "term = int(input(\"Enter the number of Fibonacci terms to generate: \"))\n",
    "fibonacci_sequence = generate_fibonacci(term)\n",
    "print(f\"The first {term} Fibonacci numbers are: {fibonacci_sequence}\")\n"
   ]
  },
  {
   "cell_type": "markdown",
   "id": "cd6bba37-4d37-4b19-a065-ef029c3590ea",
   "metadata": {},
   "source": [
    "### 36. Write a program that generates Fibonacci numbers up to a specified term using iterative methods.\n",
    "\n"
   ]
  },
  {
   "cell_type": "code",
   "execution_count": 6,
   "id": "28bbebf7-c45a-45f0-a3e3-4cac0d2e168f",
   "metadata": {},
   "outputs": [
    {
     "name": "stdin",
     "output_type": "stream",
     "text": [
      " 20\n"
     ]
    },
    {
     "name": "stdout",
     "output_type": "stream",
     "text": [
      "Fibonacci Series: 0 1 1 2 3 5 8 13 21 34 \n"
     ]
    }
   ],
   "source": [
    "def fibonacci(num):\n",
    "    num = 10\n",
    "    n1, n2 = 0, 1\n",
    "    print(\"Fibonacci Series:\", n1, n2, end=\" \")\n",
    "    for i in range(2, num):\n",
    "        n3 = n1 + n2\n",
    "        n1 = n2\n",
    "        n2 = n3\n",
    "        print(n3, end=\" \")\n",
    "    print()\n",
    "num=int(input())\n",
    "fibonacci(num)"
   ]
  },
  {
   "cell_type": "markdown",
   "id": "f194bcc6-129e-4a9d-9cb3-ba26f0d4db73",
   "metadata": {},
   "source": [
    "### 37. Develop a program that calculates the nth term of the Fibonacci sequence using memoization.\n",
    "\n"
   ]
  },
  {
   "cell_type": "code",
   "execution_count": 4,
   "id": "c49d1c80-c452-4f29-9ce0-c4aebc83b743",
   "metadata": {},
   "outputs": [
    {
     "name": "stdin",
     "output_type": "stream",
     "text": [
      "Enter the term of the Fibonacci sequence to generate:  10\n"
     ]
    },
    {
     "name": "stdout",
     "output_type": "stream",
     "text": [
      "The 10th Fibonacci number is: 55\n"
     ]
    }
   ],
   "source": [
    "def fibonacci(n, memo={}):\n",
    "    if n in memo:\n",
    "        return memo[n]\n",
    "    if n <= 1:\n",
    "        return n\n",
    "    result = fibonacci(n-1, memo) + fibonacci(n-2, memo)\n",
    "    memo[n] = result\n",
    "    return result\n",
    "\n",
    "term = int(input(\"Enter the term of the Fibonacci sequence to generate: \"))\n",
    "fibonacci_number = fibonacci(term)\n",
    "print(f\"The {term}th Fibonacci number is: {fibonacci_number}\")"
   ]
  },
  {
   "cell_type": "markdown",
   "id": "edb46e8e-b719-4764-bb76-0ddf22087f6f",
   "metadata": {},
   "source": [
    "### 38. Create a program that generates a calendar for a given month and year using conditional statements.\n",
    "\n"
   ]
  },
  {
   "cell_type": "code",
   "execution_count": 3,
   "id": "993fa7b8-8086-42c4-b96a-8292e0e40aad",
   "metadata": {},
   "outputs": [
    {
     "name": "stdin",
     "output_type": "stream",
     "text": [
      "Enter the year:  2000\n",
      "Enter the month (1-12):  10\n"
     ]
    },
    {
     "name": "stdout",
     "output_type": "stream",
     "text": [
      "The calendar for October 2000 is:\n",
      "    October 2000\n",
      "Mo Tu We Th Fr Sa Su\n",
      "                   1\n",
      " 2  3  4  5  6  7  8\n",
      " 9 10 11 12 13 14 15\n",
      "16 17 18 19 20 21 22\n",
      "23 24 25 26 27 28 29\n",
      "30 31\n",
      "\n"
     ]
    }
   ],
   "source": [
    "import calendar\n",
    "\n",
    "year = int(input(\"Enter the year: \"))\n",
    "month = int(input(\"Enter the month (1-12): \"))\n",
    "\n",
    "cal = calendar.month(year, month)\n",
    "print(f\"The calendar for {calendar.month_name[month]} {year} is:\")\n",
    "print(cal)"
   ]
  },
  {
   "cell_type": "markdown",
   "id": "3d1af057-30b2-4d14-b2cd-d3841d32879e",
   "metadata": {},
   "source": [
    "### 39. Build a program that simulates a basic text-based blackjack game against the computer.\n",
    "\n"
   ]
  },
  {
   "cell_type": "code",
   "execution_count": 2,
   "id": "364e4f58-dd8e-4cce-9232-be4fc3a9468b",
   "metadata": {},
   "outputs": [
    {
     "name": "stdout",
     "output_type": "stream",
     "text": [
      "Welcome to Blackjack!\n",
      "Player's hand: 6, 8 (Total: 14)\n",
      "Dealer's hand: 8, ?\n"
     ]
    },
    {
     "name": "stdin",
     "output_type": "stream",
     "text": [
      "Do you want to 'hit' or 'stand'?  hit\n"
     ]
    },
    {
     "name": "stdout",
     "output_type": "stream",
     "text": [
      "Player's hand: 6, 8, 5 (Total: 19)\n",
      "Dealer's hand: 8, ?\n"
     ]
    },
    {
     "name": "stdin",
     "output_type": "stream",
     "text": [
      "Do you want to 'hit' or 'stand'?  hit\n"
     ]
    },
    {
     "name": "stdout",
     "output_type": "stream",
     "text": [
      "Player's hand: 6, 8, 5, J (Total: 29)\n",
      "Dealer's hand: 8, ?\n",
      "You busted! Dealer wins.\n"
     ]
    }
   ],
   "source": [
    "import random\n",
    "\n",
    "# Function to draw a card\n",
    "def draw_card():\n",
    "    cards = ['2', '3', '4', '5', '6', '7', '8', '9', '10', 'J', 'Q', 'K', 'A']\n",
    "    return random.choice(cards)\n",
    "\n",
    "# Function to calculate the total value of a hand\n",
    "def calculate_hand_value(hand):\n",
    "    value = 0\n",
    "    num_aces = 0\n",
    "\n",
    "    for card in hand:\n",
    "        if card.isdigit():\n",
    "            value += int(card)\n",
    "        elif card in ['J', 'Q', 'K']:\n",
    "            value += 10\n",
    "        elif card == 'A':\n",
    "            value += 11\n",
    "            num_aces += 1\n",
    "\n",
    "    while value > 21 and num_aces > 0:\n",
    "        value -= 10\n",
    "        num_aces -= 1\n",
    "\n",
    "    return value\n",
    "\n",
    "# Function to display the current hands\n",
    "def display_hands(player_hand, dealer_hand):\n",
    "    print(f\"Player's hand: {', '.join(player_hand)} (Total: {calculate_hand_value(player_hand)})\")\n",
    "    print(f\"Dealer's hand: {dealer_hand[0]}, ?\")\n",
    "\n",
    "# Main game logic\n",
    "def blackjack_game():\n",
    "    player_hand = [draw_card(), draw_card()]\n",
    "    dealer_hand = [draw_card(), draw_card()]\n",
    "\n",
    "    print(\"Welcome to Blackjack!\")\n",
    "\n",
    "    while True:\n",
    "        display_hands(player_hand, dealer_hand)\n",
    "\n",
    "        if calculate_hand_value(player_hand) == 21:\n",
    "            print(\"You got a Blackjack! You win!\")\n",
    "            break\n",
    "        elif calculate_hand_value(player_hand) > 21:\n",
    "            print(\"You busted! Dealer wins.\")\n",
    "            break\n",
    "\n",
    "        action = input(\"Do you want to 'hit' or 'stand'? \").lower()\n",
    "\n",
    "        if action == 'hit':\n",
    "            player_hand.append(draw_card())\n",
    "        elif action == 'stand':\n",
    "            while calculate_hand_value(dealer_hand) < 17:\n",
    "                dealer_hand.append(draw_card())\n",
    "\n",
    "            display_hands(player_hand, dealer_hand)\n",
    "\n",
    "            if calculate_hand_value(dealer_hand) > 21:\n",
    "                print(\"Dealer busted! You win!\")\n",
    "            elif calculate_hand_value(player_hand) > calculate_hand_value(dealer_hand):\n",
    "                print(\"You win!\")\n",
    "            elif calculate_hand_value(player_hand) < calculate_hand_value(dealer_hand):\n",
    "                print(\"Dealer wins.\")\n",
    "            else:\n",
    "                print(\"It's a tie!\")\n",
    "\n",
    "            break\n",
    "        else:\n",
    "            print(\"Invalid action. Please enter 'hit' or 'stand'.\")\n",
    "\n",
    "blackjack_game()"
   ]
  },
  {
   "cell_type": "markdown",
   "id": "b53d3bf9-f57a-4952-8fcd-27b5c3fcdef0",
   "metadata": {},
   "source": [
    "### 40. Write a program that generates the prime factors of a given number using trial division."
   ]
  },
  {
   "cell_type": "code",
   "execution_count": 1,
   "id": "5d929655-5e72-4b99-b03a-eb489940f396",
   "metadata": {},
   "outputs": [
    {
     "name": "stdin",
     "output_type": "stream",
     "text": [
      "Enter a number to find its prime factors:  10\n"
     ]
    },
    {
     "name": "stdout",
     "output_type": "stream",
     "text": [
      "The prime factors of 10 are: [2, 5]\n"
     ]
    }
   ],
   "source": [
    "def get_prime_factors(n):\n",
    "    factors = []\n",
    "    divisor = 2\n",
    "\n",
    "    while n > 1:\n",
    "        while n % divisor == 0:\n",
    "            factors.append(divisor)\n",
    "            n = n / divisor\n",
    "        divisor += 1\n",
    "\n",
    "    return factors\n",
    "\n",
    "num = int(input(\"Enter a number to find its prime factors: \"))\n",
    "prime_factors = get_prime_factors(num)\n",
    "\n",
    "print(f\"The prime factors of {num} are: {prime_factors}\")"
   ]
  }
 ],
 "metadata": {
  "kernelspec": {
   "display_name": "Python 3 (ipykernel)",
   "language": "python",
   "name": "python3"
  },
  "language_info": {
   "codemirror_mode": {
    "name": "ipython",
    "version": 3
   },
   "file_extension": ".py",
   "mimetype": "text/x-python",
   "name": "python",
   "nbconvert_exporter": "python",
   "pygments_lexer": "ipython3",
   "version": "3.10.8"
  }
 },
 "nbformat": 4,
 "nbformat_minor": 5
}
