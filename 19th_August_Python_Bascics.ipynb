{
 "cells": [
  {
   "cell_type": "markdown",
   "id": "223753ea-faec-480a-b2c0-b789bffb8b09",
   "metadata": {
    "tags": []
   },
   "source": [
    "### TOPIC: Python Basics Variable\n",
    "### 1.Declare two variables, `x` and `y`, and assign them integer values. Swap the values of these variables without using any temporary variable."
   ]
  },
  {
   "cell_type": "code",
   "execution_count": 3,
   "id": "e5aa08c3-fef3-407b-953c-c4212e250d31",
   "metadata": {},
   "outputs": [],
   "source": [
    "x=1\n",
    "y=2"
   ]
  },
  {
   "cell_type": "code",
   "execution_count": 5,
   "id": "b93949bb-c711-427c-b308-6a60d58b0972",
   "metadata": {},
   "outputs": [
    {
     "name": "stdout",
     "output_type": "stream",
     "text": [
      "1 2\n"
     ]
    }
   ],
   "source": [
    "print(x,y)"
   ]
  },
  {
   "cell_type": "code",
   "execution_count": 7,
   "id": "fe161411-6630-44f5-a49a-3801f2bb4793",
   "metadata": {},
   "outputs": [],
   "source": [
    "#swapping\n",
    "\n",
    "x,y=y,x"
   ]
  },
  {
   "cell_type": "code",
   "execution_count": 9,
   "id": "f429f128-f690-4914-9fe4-b56204e237a6",
   "metadata": {},
   "outputs": [
    {
     "name": "stdout",
     "output_type": "stream",
     "text": [
      "2 1\n"
     ]
    }
   ],
   "source": [
    "print(x,y)"
   ]
  },
  {
   "cell_type": "code",
   "execution_count": null,
   "id": "790401af-5700-46d6-b955-e73b02e08c48",
   "metadata": {},
   "outputs": [],
   "source": []
  },
  {
   "cell_type": "markdown",
   "id": "af6be0f9-2003-40df-8e25-7214033a4fb8",
   "metadata": {},
   "source": [
    "### 2.Create a program that calculates the area of a rectangle. Take the length and width as inputs from the user and store them in variables. Calculate and display the area."
   ]
  },
  {
   "cell_type": "code",
   "execution_count": 6,
   "id": "5a2865e4-70ae-4522-83e4-d9274f3fe963",
   "metadata": {},
   "outputs": [
    {
     "name": "stdin",
     "output_type": "stream",
     "text": [
      " 10\n"
     ]
    }
   ],
   "source": [
    "length = int(input('Enter the lenght:'))"
   ]
  },
  {
   "cell_type": "code",
   "execution_count": 7,
   "id": "78950740-640d-4617-ae81-bdd3f57fc60b",
   "metadata": {},
   "outputs": [
    {
     "name": "stdin",
     "output_type": "stream",
     "text": [
      " 10\n"
     ]
    }
   ],
   "source": [
    "width = int(input('Enter the Width:'))"
   ]
  },
  {
   "cell_type": "code",
   "execution_count": 8,
   "id": "05b47778-7993-4445-8c70-05d37324c8c3",
   "metadata": {},
   "outputs": [],
   "source": [
    "area_of_rectangle= length * width"
   ]
  },
  {
   "cell_type": "code",
   "execution_count": 12,
   "id": "3808d7fc-78b3-4986-88f5-2d30459ca154",
   "metadata": {},
   "outputs": [
    {
     "name": "stdout",
     "output_type": "stream",
     "text": [
      "Area Of Rectangle : 100\n"
     ]
    }
   ],
   "source": [
    "print('Area Of Rectangle :',area_of_rectangle)"
   ]
  },
  {
   "cell_type": "code",
   "execution_count": null,
   "id": "ac7addb4-081a-4827-b2a5-ce3476af7428",
   "metadata": {},
   "outputs": [],
   "source": []
  },
  {
   "cell_type": "markdown",
   "id": "ff607b74-6fb4-4c0a-b223-41ec6a9032d9",
   "metadata": {},
   "source": [
    "### 3. Write a Python program that converts temperature from Celsius to Fahrenheit. Take the temperature in Celsius as input, store it in a variable, convert it to Fahrenheit, and display the result."
   ]
  },
  {
   "cell_type": "code",
   "execution_count": 18,
   "id": "8262405d-931e-4077-80af-05899461b886",
   "metadata": {},
   "outputs": [
    {
     "name": "stdin",
     "output_type": "stream",
     "text": [
      "Temperature in Celsius: 20\n"
     ]
    }
   ],
   "source": [
    "celsius = float(input('Temperature in Celsius:'))"
   ]
  },
  {
   "cell_type": "code",
   "execution_count": 20,
   "id": "f532b3f3-e467-4d98-a72e-303c819f17eb",
   "metadata": {},
   "outputs": [],
   "source": [
    "Fahrenheit = celsius * (9/5) + 32"
   ]
  },
  {
   "cell_type": "code",
   "execution_count": 22,
   "id": "1bd2793b-f142-48d9-b916-bc1fc7ba3087",
   "metadata": {},
   "outputs": [
    {
     "name": "stdout",
     "output_type": "stream",
     "text": [
      "temperature in Fahrenheit: 68.0\n"
     ]
    }
   ],
   "source": [
    "print('temperature in Fahrenheit:',Fahrenheit)"
   ]
  },
  {
   "cell_type": "code",
   "execution_count": null,
   "id": "a4f777c0-0bf5-4d6a-9eb0-84f724016a8c",
   "metadata": {},
   "outputs": [],
   "source": []
  },
  {
   "cell_type": "markdown",
   "id": "bdf21665-0660-41b2-8998-bf1972f6f1d7",
   "metadata": {},
   "source": [
    "### TOPIC: String Based Questions\n",
    "### 1. Write a Python program that takes a string as input and prints the length of the string."
   ]
  },
  {
   "cell_type": "code",
   "execution_count": 25,
   "id": "fa869523-adad-46a5-86e1-195a40769d65",
   "metadata": {},
   "outputs": [
    {
     "name": "stdin",
     "output_type": "stream",
     "text": [
      " my name is nirandharan\n"
     ]
    }
   ],
   "source": [
    "s = input()"
   ]
  },
  {
   "cell_type": "code",
   "execution_count": 30,
   "id": "92af34f1-219e-4ebd-9c88-30cf27cd47aa",
   "metadata": {},
   "outputs": [
    {
     "name": "stdout",
     "output_type": "stream",
     "text": [
      "length of the string is 22\n"
     ]
    }
   ],
   "source": [
    "print('length of the string is',len(s))"
   ]
  },
  {
   "cell_type": "markdown",
   "id": "755ce4b5-e47e-4219-aea9-b196bb28a211",
   "metadata": {},
   "source": [
    "### 2. Create a program that takes a sentence from the user and counts the number of vowels (a, e, i, o, u) in the string."
   ]
  },
  {
   "cell_type": "code",
   "execution_count": 1,
   "id": "281ba305-d927-49a1-bf68-fd7602d2d687",
   "metadata": {},
   "outputs": [
    {
     "name": "stdin",
     "output_type": "stream",
     "text": [
      " vowels are aeiou \n"
     ]
    }
   ],
   "source": [
    "v = input()"
   ]
  },
  {
   "cell_type": "code",
   "execution_count": 2,
   "id": "2f738fd2-0700-4008-9490-4812004b6969",
   "metadata": {},
   "outputs": [],
   "source": [
    "vowels = 'aeiouAEIOU'"
   ]
  },
  {
   "cell_type": "code",
   "execution_count": 4,
   "id": "fe2e1c55-aba7-4d75-80e1-0851983fa2e1",
   "metadata": {},
   "outputs": [
    {
     "name": "stdout",
     "output_type": "stream",
     "text": [
      "9\n"
     ]
    }
   ],
   "source": [
    "count=0\n",
    "for i in v:\n",
    "    if i in vowels:\n",
    "        count+=1\n",
    "print(count)"
   ]
  },
  {
   "cell_type": "code",
   "execution_count": null,
   "id": "465556fe-e458-4695-b459-a2d4b69dfa80",
   "metadata": {},
   "outputs": [],
   "source": []
  },
  {
   "cell_type": "markdown",
   "id": "7c2d0097-5df8-407f-b296-0437366cd68f",
   "metadata": {},
   "source": [
    "### 3. Given a string, reverse the order of characters using string slicing and print the reversed string."
   ]
  },
  {
   "cell_type": "code",
   "execution_count": 6,
   "id": "159d2da1-cf25-4a2b-a1bb-9c68bcf2063d",
   "metadata": {},
   "outputs": [],
   "source": [
    "a = 'reverse the order of characters'"
   ]
  },
  {
   "cell_type": "code",
   "execution_count": 21,
   "id": "7a23896a-e915-4d97-82a4-61d29476fefe",
   "metadata": {},
   "outputs": [
    {
     "data": {
      "text/plain": [
       "'sretcarahc fo redro eht esrever'"
      ]
     },
     "execution_count": 21,
     "metadata": {},
     "output_type": "execute_result"
    }
   ],
   "source": [
    "a[::-1]"
   ]
  },
  {
   "cell_type": "markdown",
   "id": "48ec3a1e-ccd2-46bd-bb63-c8f0c810cf41",
   "metadata": {},
   "source": [
    "### 4. Write a program that takes a string as input and checks if it is a palindrome (reads the same forwards and backwards)."
   ]
  },
  {
   "cell_type": "code",
   "execution_count": 24,
   "id": "f228f2e4-8ed5-4af2-b0d1-04c5c1052d2e",
   "metadata": {},
   "outputs": [
    {
     "name": "stdin",
     "output_type": "stream",
     "text": [
      " racecar\n"
     ]
    }
   ],
   "source": [
    "a = input()"
   ]
  },
  {
   "cell_type": "code",
   "execution_count": 52,
   "id": "657c194e-742c-4842-aebe-2d45bc4c8a5e",
   "metadata": {},
   "outputs": [
    {
     "name": "stdout",
     "output_type": "stream",
     "text": [
      "Given text is a palindrome\n"
     ]
    }
   ],
   "source": [
    "if a[::-1]==a[:]:\n",
    "    print('Given text is a palindrome')\n",
    "else:\n",
    "    print('Given text is not a palindrome')"
   ]
  },
  {
   "cell_type": "code",
   "execution_count": null,
   "id": "210a6fa2-93f3-4560-8e44-f8ac8584ad51",
   "metadata": {},
   "outputs": [],
   "source": []
  },
  {
   "cell_type": "markdown",
   "id": "415789fd-f975-46f8-bfc6-6ab8e00ad0b0",
   "metadata": {},
   "source": [
    "### 5. Create a program that takes a string as input and removes all the spaces from it. Print the modified string without spaces."
   ]
  },
  {
   "cell_type": "code",
   "execution_count": 72,
   "id": "b8e1074a-6f37-47c2-8ccb-6623f5e75c6d",
   "metadata": {},
   "outputs": [
    {
     "name": "stdin",
     "output_type": "stream",
     "text": [
      " i n p u t\n"
     ]
    }
   ],
   "source": [
    "str_input = input()"
   ]
  },
  {
   "cell_type": "code",
   "execution_count": 88,
   "id": "f92a6fef-5519-47e7-b222-2b3e7680a400",
   "metadata": {},
   "outputs": [
    {
     "name": "stdout",
     "output_type": "stream",
     "text": [
      "input\n"
     ]
    }
   ],
   "source": [
    "print(str_input.replace(' ',''))"
   ]
  }
 ],
 "metadata": {
  "kernelspec": {
   "display_name": "Python 3 (ipykernel)",
   "language": "python",
   "name": "python3"
  },
  "language_info": {
   "codemirror_mode": {
    "name": "ipython",
    "version": 3
   },
   "file_extension": ".py",
   "mimetype": "text/x-python",
   "name": "python",
   "nbconvert_exporter": "python",
   "pygments_lexer": "ipython3",
   "version": "3.10.8"
  }
 },
 "nbformat": 4,
 "nbformat_minor": 5
}
